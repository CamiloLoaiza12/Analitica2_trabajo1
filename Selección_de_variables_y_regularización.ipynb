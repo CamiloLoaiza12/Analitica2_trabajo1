{
  "cells": [
    {
      "cell_type": "markdown",
      "metadata": {
        "colab_type": "text",
        "id": "view-in-github"
      },
      "source": [
        "<a href=\"https://colab.research.google.com/github/CamiloLoaiza12/Analitica2_trabajo1/blob/main/Selecci%C3%B3n_de_variables_y_regularizaci%C3%B3n.ipynb\" target=\"_parent\"><img src=\"https://colab.research.google.com/assets/colab-badge.svg\" alt=\"Open In Colab\"/></a>"
      ]
    },
    {
      "cell_type": "code",
      "execution_count": null,
      "metadata": {
        "id": "dEhNht_yWSAd"
      },
      "outputs": [],
      "source": [
        "# importar datos\n",
        "#from google.colab import drive\n",
        "#drive.mount('/content/drive')"
      ]
    },
    {
      "cell_type": "code",
      "execution_count": 113,
      "metadata": {
        "id": "F1C8ZCjFGBqM"
      },
      "outputs": [],
      "source": [
        "## Remove Warnings\n",
        "import warnings\n",
        "warnings.filterwarnings(\"ignore\")\n",
        "\n",
        "## Data\n",
        "import pandas as pd\n",
        "import numpy as np\n",
        "from itertools import product\n",
        "\n",
        "## Visualization\n",
        "import matplotlib.pyplot as plt\n",
        "import seaborn as sns\n",
        "from plotly.subplots import make_subplots\n",
        "import plotly.express as px\n",
        "import plotly.graph_objects as go\n",
        "import plotly.figure_factory as ff\n",
        "\n",
        "## Modelling\n",
        "from sklearn.metrics import mean_squared_error\n",
        "from sklearn.model_selection import train_test_split, GridSearchCV\n",
        "from sklearn.linear_model import LinearRegression\n",
        "import statsmodels.api as sm\n",
        "from sklearn.metrics import mean_squared_error,  mean_absolute_error, mean_absolute_percentage_error, r2_score, classification_report\n",
        "import math"
      ]
    },
    {
      "cell_type": "code",
      "execution_count": 114,
      "metadata": {
        "id": "cxpMgQ7H4deN"
      },
      "outputs": [],
      "source": [
        "# Importar librerias necesarias\n",
        "import pandas as pd\n",
        "import numpy as np\n",
        "import seaborn as sns\n",
        "import matplotlib.pyplot as plt\n",
        "from sklearn.linear_model import LinearRegression, Ridge, RidgeCV, Lasso\n",
        "from sklearn.impute import SimpleImputer\n",
        "from sklearn.preprocessing import OneHotEncoder, StandardScaler\n",
        "from sklearn.compose import ColumnTransformer\n",
        "from sklearn.model_selection import train_test_split\n",
        "from sklearn.metrics import mean_absolute_error, mean_squared_error, r2_score\n",
        "\n",
        "%matplotlib inline"
      ]
    },
    {
      "cell_type": "code",
      "execution_count": 115,
      "metadata": {
        "id": "SzM3fvwo4deO"
      },
      "outputs": [],
      "source": [
        "# Importar librerias necesarias\n",
        "import pandas as pd\n",
        "import numpy as np\n",
        "import seaborn as sns\n",
        "import matplotlib.pyplot as plt\n",
        "from sklearn.linear_model import LogisticRegression\n",
        "\n",
        "%matplotlib inline"
      ]
    },
    {
      "cell_type": "code",
      "execution_count": 116,
      "metadata": {},
      "outputs": [],
      "source": [
        "from imblearn.under_sampling import NearMiss\n",
        "from imblearn.over_sampling import RandomOverSampler\n",
        "from imblearn.combine import SMOTETomek\n",
        "from imblearn.ensemble import BalancedBaggingClassifier\n",
        "from sklearn.datasets import make_classification\n",
        "from collections import Counter"
      ]
    },
    {
      "cell_type": "markdown",
      "metadata": {
        "id": "v9B5onsR-Zsx"
      },
      "source": [
        "DESCRIPCION DE LAS VARIABLES"
      ]
    },
    {
      "cell_type": "markdown",
      "metadata": {
        "id": "AE_s_x4ndroU"
      },
      "source": [
        "# IMPORTACION DE DATOS"
      ]
    },
    {
      "cell_type": "code",
      "execution_count": 117,
      "metadata": {},
      "outputs": [],
      "source": [
        "tabla_base = pd.read_csv('tabla_base.csv', sep = \",\")"
      ]
    },
    {
      "cell_type": "code",
      "execution_count": 119,
      "metadata": {},
      "outputs": [
        {
          "name": "stdout",
          "output_type": "stream",
          "text": [
            "<class 'pandas.core.frame.DataFrame'>\n",
            "RangeIndex: 4410 entries, 0 to 4409\n",
            "Data columns (total 21 columns):\n",
            " #   Column                         Non-Null Count  Dtype  \n",
            "---  ------                         --------------  -----  \n",
            " 0   desercion_año_anterior         4410 non-null   object \n",
            " 1   frecuencia_viajes              4410 non-null   object \n",
            " 2   departamento                   4410 non-null   object \n",
            " 3   distancia_domicilio            4410 non-null   int64  \n",
            " 4   educacion                      4410 non-null   int64  \n",
            " 5   formacion                      4410 non-null   object \n",
            " 6   nivel_de_cargo                 4410 non-null   int64  \n",
            " 7   nombre_cargo                   4410 non-null   object \n",
            " 8   estado_civil                   4410 non-null   object \n",
            " 9   ingresos_mensuales             4410 non-null   int64  \n",
            " 10  empresas_anteriores            4410 non-null   float64\n",
            " 11  porcentaje_aumentosalario      4410 non-null   int64  \n",
            " 12  nivel_de_opciones              4410 non-null   int64  \n",
            " 13  años_de_trabajo                4410 non-null   float64\n",
            " 14  numero_capacitaciones          4410 non-null   int64  \n",
            " 15  años_jefe_actual               4410 non-null   int64  \n",
            " 16  satisfaccion_entorno           4410 non-null   float64\n",
            " 17  satisfaccion_laboral           4410 non-null   float64\n",
            " 18  conciliacion_faimilar_laboral  4410 non-null   float64\n",
            " 19  implicacion_laboral            4410 non-null   int64  \n",
            " 20  tiempo_prom_dia                4410 non-null   float64\n",
            "dtypes: float64(6), int64(9), object(6)\n",
            "memory usage: 723.6+ KB\n"
          ]
        }
      ],
      "source": [
        "tabla_base.info()"
      ]
    },
    {
      "cell_type": "markdown",
      "metadata": {
        "id": "nssp5dg-4df6"
      },
      "source": [
        "# Normalización"
      ]
    },
    {
      "cell_type": "code",
      "execution_count": 120,
      "metadata": {
        "id": "n3RP-zXQ4dgD",
        "outputId": "e6247824-dd32-401e-def6-72c32b48a374"
      },
      "outputs": [
        {
          "data": {
            "text/plain": [
              "desercion_año_anterior            object\n",
              "frecuencia_viajes                 object\n",
              "departamento                      object\n",
              "distancia_domicilio                int64\n",
              "educacion                          int64\n",
              "formacion                         object\n",
              "nivel_de_cargo                     int64\n",
              "nombre_cargo                      object\n",
              "estado_civil                      object\n",
              "ingresos_mensuales                 int64\n",
              "empresas_anteriores              float64\n",
              "porcentaje_aumentosalario          int64\n",
              "nivel_de_opciones                  int64\n",
              "años_de_trabajo                  float64\n",
              "numero_capacitaciones             object\n",
              "años_jefe_actual                   int64\n",
              "satisfaccion_entorno             float64\n",
              "satisfaccion_laboral             float64\n",
              "conciliacion_faimilar_laboral    float64\n",
              "implicacion_laboral                int64\n",
              "tiempo_prom_dia                  float64\n",
              "dtype: object"
            ]
          },
          "execution_count": 120,
          "metadata": {},
          "output_type": "execute_result"
        }
      ],
      "source": [
        "tablabase=tabla_base.copy()\n",
        "columnascategoricas=[\"numero_capacitaciones\",\"frecuencia_viajes\"]\n",
        "tablabase[columnascategoricas] = tablabase[columnascategoricas].astype(str)\n",
        "tablabase.dtypes"
      ]
    },
    {
      "cell_type": "code",
      "execution_count": 121,
      "metadata": {
        "id": "ZPVLGNaY4dgF",
        "outputId": "6e941115-175c-4eb5-bfd3-8bf2de80fa16"
      },
      "outputs": [
        {
          "data": {
            "text/html": [
              "<div>\n",
              "<style scoped>\n",
              "    .dataframe tbody tr th:only-of-type {\n",
              "        vertical-align: middle;\n",
              "    }\n",
              "\n",
              "    .dataframe tbody tr th {\n",
              "        vertical-align: top;\n",
              "    }\n",
              "\n",
              "    .dataframe thead th {\n",
              "        text-align: right;\n",
              "    }\n",
              "</style>\n",
              "<table border=\"1\" class=\"dataframe\">\n",
              "  <thead>\n",
              "    <tr style=\"text-align: right;\">\n",
              "      <th></th>\n",
              "      <th>frecuencia_viajes</th>\n",
              "      <th>departamento</th>\n",
              "      <th>distancia_domicilio</th>\n",
              "      <th>educacion</th>\n",
              "      <th>formacion</th>\n",
              "      <th>nivel_de_cargo</th>\n",
              "      <th>nombre_cargo</th>\n",
              "      <th>estado_civil</th>\n",
              "      <th>ingresos_mensuales</th>\n",
              "      <th>empresas_anteriores</th>\n",
              "      <th>...</th>\n",
              "      <th>nivel_de_opciones</th>\n",
              "      <th>años_de_trabajo</th>\n",
              "      <th>numero_capacitaciones</th>\n",
              "      <th>años_jefe_actual</th>\n",
              "      <th>satisfaccion_entorno</th>\n",
              "      <th>satisfaccion_laboral</th>\n",
              "      <th>conciliacion_faimilar_laboral</th>\n",
              "      <th>implicacion_laboral</th>\n",
              "      <th>tiempo_prom_dia</th>\n",
              "      <th>desercion</th>\n",
              "    </tr>\n",
              "  </thead>\n",
              "  <tbody>\n",
              "    <tr>\n",
              "      <th>0</th>\n",
              "      <td>Travel_Rarely</td>\n",
              "      <td>Sales</td>\n",
              "      <td>6</td>\n",
              "      <td>2</td>\n",
              "      <td>Life Sciences</td>\n",
              "      <td>1</td>\n",
              "      <td>Healthcare Representative</td>\n",
              "      <td>Married</td>\n",
              "      <td>131160</td>\n",
              "      <td>1.0</td>\n",
              "      <td>...</td>\n",
              "      <td>0</td>\n",
              "      <td>1.0</td>\n",
              "      <td>6</td>\n",
              "      <td>0</td>\n",
              "      <td>3.0</td>\n",
              "      <td>4.0</td>\n",
              "      <td>2.0</td>\n",
              "      <td>3</td>\n",
              "      <td>6.8702</td>\n",
              "      <td>0</td>\n",
              "    </tr>\n",
              "    <tr>\n",
              "      <th>1</th>\n",
              "      <td>Travel_Frequently</td>\n",
              "      <td>Research &amp; Development</td>\n",
              "      <td>10</td>\n",
              "      <td>1</td>\n",
              "      <td>Life Sciences</td>\n",
              "      <td>1</td>\n",
              "      <td>Research Scientist</td>\n",
              "      <td>Single</td>\n",
              "      <td>41890</td>\n",
              "      <td>0.0</td>\n",
              "      <td>...</td>\n",
              "      <td>1</td>\n",
              "      <td>6.0</td>\n",
              "      <td>3</td>\n",
              "      <td>4</td>\n",
              "      <td>3.0</td>\n",
              "      <td>2.0</td>\n",
              "      <td>4.0</td>\n",
              "      <td>2</td>\n",
              "      <td>7.3160</td>\n",
              "      <td>1</td>\n",
              "    </tr>\n",
              "    <tr>\n",
              "      <th>2</th>\n",
              "      <td>Travel_Frequently</td>\n",
              "      <td>Research &amp; Development</td>\n",
              "      <td>17</td>\n",
              "      <td>4</td>\n",
              "      <td>Other</td>\n",
              "      <td>4</td>\n",
              "      <td>Sales Executive</td>\n",
              "      <td>Married</td>\n",
              "      <td>193280</td>\n",
              "      <td>1.0</td>\n",
              "      <td>...</td>\n",
              "      <td>3</td>\n",
              "      <td>5.0</td>\n",
              "      <td>2</td>\n",
              "      <td>3</td>\n",
              "      <td>2.0</td>\n",
              "      <td>2.0</td>\n",
              "      <td>1.0</td>\n",
              "      <td>3</td>\n",
              "      <td>6.8161</td>\n",
              "      <td>0</td>\n",
              "    </tr>\n",
              "    <tr>\n",
              "      <th>3</th>\n",
              "      <td>Non-Travel</td>\n",
              "      <td>Research &amp; Development</td>\n",
              "      <td>2</td>\n",
              "      <td>5</td>\n",
              "      <td>Life Sciences</td>\n",
              "      <td>3</td>\n",
              "      <td>Human Resources</td>\n",
              "      <td>Married</td>\n",
              "      <td>83210</td>\n",
              "      <td>3.0</td>\n",
              "      <td>...</td>\n",
              "      <td>3</td>\n",
              "      <td>13.0</td>\n",
              "      <td>5</td>\n",
              "      <td>5</td>\n",
              "      <td>4.0</td>\n",
              "      <td>4.0</td>\n",
              "      <td>3.0</td>\n",
              "      <td>2</td>\n",
              "      <td>6.7892</td>\n",
              "      <td>0</td>\n",
              "    </tr>\n",
              "    <tr>\n",
              "      <th>4</th>\n",
              "      <td>Travel_Rarely</td>\n",
              "      <td>Research &amp; Development</td>\n",
              "      <td>10</td>\n",
              "      <td>1</td>\n",
              "      <td>Medical</td>\n",
              "      <td>1</td>\n",
              "      <td>Sales Executive</td>\n",
              "      <td>Single</td>\n",
              "      <td>23420</td>\n",
              "      <td>4.0</td>\n",
              "      <td>...</td>\n",
              "      <td>2</td>\n",
              "      <td>9.0</td>\n",
              "      <td>2</td>\n",
              "      <td>4</td>\n",
              "      <td>4.0</td>\n",
              "      <td>1.0</td>\n",
              "      <td>3.0</td>\n",
              "      <td>3</td>\n",
              "      <td>7.8776</td>\n",
              "      <td>0</td>\n",
              "    </tr>\n",
              "    <tr>\n",
              "      <th>...</th>\n",
              "      <td>...</td>\n",
              "      <td>...</td>\n",
              "      <td>...</td>\n",
              "      <td>...</td>\n",
              "      <td>...</td>\n",
              "      <td>...</td>\n",
              "      <td>...</td>\n",
              "      <td>...</td>\n",
              "      <td>...</td>\n",
              "      <td>...</td>\n",
              "      <td>...</td>\n",
              "      <td>...</td>\n",
              "      <td>...</td>\n",
              "      <td>...</td>\n",
              "      <td>...</td>\n",
              "      <td>...</td>\n",
              "      <td>...</td>\n",
              "      <td>...</td>\n",
              "      <td>...</td>\n",
              "      <td>...</td>\n",
              "      <td>...</td>\n",
              "    </tr>\n",
              "    <tr>\n",
              "      <th>4405</th>\n",
              "      <td>Travel_Rarely</td>\n",
              "      <td>Research &amp; Development</td>\n",
              "      <td>5</td>\n",
              "      <td>4</td>\n",
              "      <td>Medical</td>\n",
              "      <td>1</td>\n",
              "      <td>Research Scientist</td>\n",
              "      <td>Single</td>\n",
              "      <td>60290</td>\n",
              "      <td>3.0</td>\n",
              "      <td>...</td>\n",
              "      <td>1</td>\n",
              "      <td>10.0</td>\n",
              "      <td>5</td>\n",
              "      <td>2</td>\n",
              "      <td>4.0</td>\n",
              "      <td>1.0</td>\n",
              "      <td>3.0</td>\n",
              "      <td>3</td>\n",
              "      <td>8.3169</td>\n",
              "      <td>0</td>\n",
              "    </tr>\n",
              "    <tr>\n",
              "      <th>4406</th>\n",
              "      <td>Travel_Rarely</td>\n",
              "      <td>Research &amp; Development</td>\n",
              "      <td>2</td>\n",
              "      <td>4</td>\n",
              "      <td>Medical</td>\n",
              "      <td>1</td>\n",
              "      <td>Laboratory Technician</td>\n",
              "      <td>Divorced</td>\n",
              "      <td>26790</td>\n",
              "      <td>2.0</td>\n",
              "      <td>...</td>\n",
              "      <td>0</td>\n",
              "      <td>10.0</td>\n",
              "      <td>2</td>\n",
              "      <td>2</td>\n",
              "      <td>4.0</td>\n",
              "      <td>4.0</td>\n",
              "      <td>3.0</td>\n",
              "      <td>2</td>\n",
              "      <td>5.8972</td>\n",
              "      <td>0</td>\n",
              "    </tr>\n",
              "    <tr>\n",
              "      <th>4407</th>\n",
              "      <td>Travel_Rarely</td>\n",
              "      <td>Research &amp; Development</td>\n",
              "      <td>25</td>\n",
              "      <td>2</td>\n",
              "      <td>Life Sciences</td>\n",
              "      <td>2</td>\n",
              "      <td>Sales Executive</td>\n",
              "      <td>Married</td>\n",
              "      <td>37020</td>\n",
              "      <td>0.0</td>\n",
              "      <td>...</td>\n",
              "      <td>0</td>\n",
              "      <td>5.0</td>\n",
              "      <td>4</td>\n",
              "      <td>2</td>\n",
              "      <td>1.0</td>\n",
              "      <td>3.0</td>\n",
              "      <td>3.0</td>\n",
              "      <td>3</td>\n",
              "      <td>7.1495</td>\n",
              "      <td>0</td>\n",
              "    </tr>\n",
              "    <tr>\n",
              "      <th>4408</th>\n",
              "      <td>Travel_Rarely</td>\n",
              "      <td>Sales</td>\n",
              "      <td>18</td>\n",
              "      <td>2</td>\n",
              "      <td>Medical</td>\n",
              "      <td>1</td>\n",
              "      <td>Laboratory Technician</td>\n",
              "      <td>Divorced</td>\n",
              "      <td>23980</td>\n",
              "      <td>0.0</td>\n",
              "      <td>...</td>\n",
              "      <td>1</td>\n",
              "      <td>10.0</td>\n",
              "      <td>2</td>\n",
              "      <td>8</td>\n",
              "      <td>4.0</td>\n",
              "      <td>1.0</td>\n",
              "      <td>3.0</td>\n",
              "      <td>2</td>\n",
              "      <td>9.1876</td>\n",
              "      <td>0</td>\n",
              "    </tr>\n",
              "    <tr>\n",
              "      <th>4409</th>\n",
              "      <td>Travel_Rarely</td>\n",
              "      <td>Research &amp; Development</td>\n",
              "      <td>28</td>\n",
              "      <td>3</td>\n",
              "      <td>Medical</td>\n",
              "      <td>2</td>\n",
              "      <td>Laboratory Technician</td>\n",
              "      <td>Divorced</td>\n",
              "      <td>54680</td>\n",
              "      <td>0.0</td>\n",
              "      <td>...</td>\n",
              "      <td>0</td>\n",
              "      <td>11.0</td>\n",
              "      <td>6</td>\n",
              "      <td>9</td>\n",
              "      <td>1.0</td>\n",
              "      <td>3.0</td>\n",
              "      <td>3.0</td>\n",
              "      <td>4</td>\n",
              "      <td>6.5118</td>\n",
              "      <td>0</td>\n",
              "    </tr>\n",
              "  </tbody>\n",
              "</table>\n",
              "<p>4410 rows × 21 columns</p>\n",
              "</div>"
            ],
            "text/plain": [
              "      frecuencia_viajes            departamento  distancia_domicilio  \\\n",
              "0         Travel_Rarely                   Sales                    6   \n",
              "1     Travel_Frequently  Research & Development                   10   \n",
              "2     Travel_Frequently  Research & Development                   17   \n",
              "3            Non-Travel  Research & Development                    2   \n",
              "4         Travel_Rarely  Research & Development                   10   \n",
              "...                 ...                     ...                  ...   \n",
              "4405      Travel_Rarely  Research & Development                    5   \n",
              "4406      Travel_Rarely  Research & Development                    2   \n",
              "4407      Travel_Rarely  Research & Development                   25   \n",
              "4408      Travel_Rarely                   Sales                   18   \n",
              "4409      Travel_Rarely  Research & Development                   28   \n",
              "\n",
              "      educacion      formacion  nivel_de_cargo               nombre_cargo  \\\n",
              "0             2  Life Sciences               1  Healthcare Representative   \n",
              "1             1  Life Sciences               1         Research Scientist   \n",
              "2             4          Other               4            Sales Executive   \n",
              "3             5  Life Sciences               3            Human Resources   \n",
              "4             1        Medical               1            Sales Executive   \n",
              "...         ...            ...             ...                        ...   \n",
              "4405          4        Medical               1         Research Scientist   \n",
              "4406          4        Medical               1      Laboratory Technician   \n",
              "4407          2  Life Sciences               2            Sales Executive   \n",
              "4408          2        Medical               1      Laboratory Technician   \n",
              "4409          3        Medical               2      Laboratory Technician   \n",
              "\n",
              "     estado_civil  ingresos_mensuales  empresas_anteriores  ...  \\\n",
              "0         Married              131160                  1.0  ...   \n",
              "1          Single               41890                  0.0  ...   \n",
              "2         Married              193280                  1.0  ...   \n",
              "3         Married               83210                  3.0  ...   \n",
              "4          Single               23420                  4.0  ...   \n",
              "...           ...                 ...                  ...  ...   \n",
              "4405       Single               60290                  3.0  ...   \n",
              "4406     Divorced               26790                  2.0  ...   \n",
              "4407      Married               37020                  0.0  ...   \n",
              "4408     Divorced               23980                  0.0  ...   \n",
              "4409     Divorced               54680                  0.0  ...   \n",
              "\n",
              "      nivel_de_opciones  años_de_trabajo  numero_capacitaciones  \\\n",
              "0                     0              1.0                      6   \n",
              "1                     1              6.0                      3   \n",
              "2                     3              5.0                      2   \n",
              "3                     3             13.0                      5   \n",
              "4                     2              9.0                      2   \n",
              "...                 ...              ...                    ...   \n",
              "4405                  1             10.0                      5   \n",
              "4406                  0             10.0                      2   \n",
              "4407                  0              5.0                      4   \n",
              "4408                  1             10.0                      2   \n",
              "4409                  0             11.0                      6   \n",
              "\n",
              "     años_jefe_actual  satisfaccion_entorno  satisfaccion_laboral  \\\n",
              "0                   0                   3.0                   4.0   \n",
              "1                   4                   3.0                   2.0   \n",
              "2                   3                   2.0                   2.0   \n",
              "3                   5                   4.0                   4.0   \n",
              "4                   4                   4.0                   1.0   \n",
              "...               ...                   ...                   ...   \n",
              "4405                2                   4.0                   1.0   \n",
              "4406                2                   4.0                   4.0   \n",
              "4407                2                   1.0                   3.0   \n",
              "4408                8                   4.0                   1.0   \n",
              "4409                9                   1.0                   3.0   \n",
              "\n",
              "      conciliacion_faimilar_laboral  implicacion_laboral  tiempo_prom_dia  \\\n",
              "0                               2.0                    3           6.8702   \n",
              "1                               4.0                    2           7.3160   \n",
              "2                               1.0                    3           6.8161   \n",
              "3                               3.0                    2           6.7892   \n",
              "4                               3.0                    3           7.8776   \n",
              "...                             ...                  ...              ...   \n",
              "4405                            3.0                    3           8.3169   \n",
              "4406                            3.0                    2           5.8972   \n",
              "4407                            3.0                    3           7.1495   \n",
              "4408                            3.0                    2           9.1876   \n",
              "4409                            3.0                    4           6.5118   \n",
              "\n",
              "      desercion  \n",
              "0             0  \n",
              "1             1  \n",
              "2             0  \n",
              "3             0  \n",
              "4             0  \n",
              "...         ...  \n",
              "4405          0  \n",
              "4406          0  \n",
              "4407          0  \n",
              "4408          0  \n",
              "4409          0  \n",
              "\n",
              "[4410 rows x 21 columns]"
            ]
          },
          "execution_count": 121,
          "metadata": {},
          "output_type": "execute_result"
        }
      ],
      "source": [
        "tablabase[\"desercion\"]=tablabase['desercion_año_anterior'].replace({'No':0, 'Yes':1})\n",
        "del tablabase['desercion_año_anterior']\n",
        "tablabase"
      ]
    },
    {
      "cell_type": "code",
      "execution_count": 122,
      "metadata": {
        "id": "nKyVsIj84dgG",
        "outputId": "f0bead88-2185-49e1-cc39-39fadeb9a0af"
      },
      "outputs": [
        {
          "data": {
            "text/html": [
              "<div>\n",
              "<style scoped>\n",
              "    .dataframe tbody tr th:only-of-type {\n",
              "        vertical-align: middle;\n",
              "    }\n",
              "\n",
              "    .dataframe tbody tr th {\n",
              "        vertical-align: top;\n",
              "    }\n",
              "\n",
              "    .dataframe thead th {\n",
              "        text-align: right;\n",
              "    }\n",
              "</style>\n",
              "<table border=\"1\" class=\"dataframe\">\n",
              "  <thead>\n",
              "    <tr style=\"text-align: right;\">\n",
              "      <th></th>\n",
              "      <th>distancia_domicilio</th>\n",
              "      <th>educacion</th>\n",
              "      <th>nivel_de_cargo</th>\n",
              "      <th>ingresos_mensuales</th>\n",
              "      <th>empresas_anteriores</th>\n",
              "      <th>porcentaje_aumentosalario</th>\n",
              "      <th>nivel_de_opciones</th>\n",
              "      <th>años_de_trabajo</th>\n",
              "      <th>años_jefe_actual</th>\n",
              "      <th>satisfaccion_entorno</th>\n",
              "      <th>...</th>\n",
              "      <th>estado_civil_Divorced</th>\n",
              "      <th>estado_civil_Married</th>\n",
              "      <th>estado_civil_Single</th>\n",
              "      <th>numero_capacitaciones_0</th>\n",
              "      <th>numero_capacitaciones_1</th>\n",
              "      <th>numero_capacitaciones_2</th>\n",
              "      <th>numero_capacitaciones_3</th>\n",
              "      <th>numero_capacitaciones_4</th>\n",
              "      <th>numero_capacitaciones_5</th>\n",
              "      <th>numero_capacitaciones_6</th>\n",
              "    </tr>\n",
              "  </thead>\n",
              "  <tbody>\n",
              "    <tr>\n",
              "      <th>0</th>\n",
              "      <td>6</td>\n",
              "      <td>2</td>\n",
              "      <td>1</td>\n",
              "      <td>131160</td>\n",
              "      <td>1.0</td>\n",
              "      <td>11</td>\n",
              "      <td>0</td>\n",
              "      <td>1.0</td>\n",
              "      <td>0</td>\n",
              "      <td>3.0</td>\n",
              "      <td>...</td>\n",
              "      <td>0</td>\n",
              "      <td>1</td>\n",
              "      <td>0</td>\n",
              "      <td>0</td>\n",
              "      <td>0</td>\n",
              "      <td>0</td>\n",
              "      <td>0</td>\n",
              "      <td>0</td>\n",
              "      <td>0</td>\n",
              "      <td>1</td>\n",
              "    </tr>\n",
              "    <tr>\n",
              "      <th>1</th>\n",
              "      <td>10</td>\n",
              "      <td>1</td>\n",
              "      <td>1</td>\n",
              "      <td>41890</td>\n",
              "      <td>0.0</td>\n",
              "      <td>23</td>\n",
              "      <td>1</td>\n",
              "      <td>6.0</td>\n",
              "      <td>4</td>\n",
              "      <td>3.0</td>\n",
              "      <td>...</td>\n",
              "      <td>0</td>\n",
              "      <td>0</td>\n",
              "      <td>1</td>\n",
              "      <td>0</td>\n",
              "      <td>0</td>\n",
              "      <td>0</td>\n",
              "      <td>1</td>\n",
              "      <td>0</td>\n",
              "      <td>0</td>\n",
              "      <td>0</td>\n",
              "    </tr>\n",
              "    <tr>\n",
              "      <th>2</th>\n",
              "      <td>17</td>\n",
              "      <td>4</td>\n",
              "      <td>4</td>\n",
              "      <td>193280</td>\n",
              "      <td>1.0</td>\n",
              "      <td>15</td>\n",
              "      <td>3</td>\n",
              "      <td>5.0</td>\n",
              "      <td>3</td>\n",
              "      <td>2.0</td>\n",
              "      <td>...</td>\n",
              "      <td>0</td>\n",
              "      <td>1</td>\n",
              "      <td>0</td>\n",
              "      <td>0</td>\n",
              "      <td>0</td>\n",
              "      <td>1</td>\n",
              "      <td>0</td>\n",
              "      <td>0</td>\n",
              "      <td>0</td>\n",
              "      <td>0</td>\n",
              "    </tr>\n",
              "    <tr>\n",
              "      <th>3</th>\n",
              "      <td>2</td>\n",
              "      <td>5</td>\n",
              "      <td>3</td>\n",
              "      <td>83210</td>\n",
              "      <td>3.0</td>\n",
              "      <td>11</td>\n",
              "      <td>3</td>\n",
              "      <td>13.0</td>\n",
              "      <td>5</td>\n",
              "      <td>4.0</td>\n",
              "      <td>...</td>\n",
              "      <td>0</td>\n",
              "      <td>1</td>\n",
              "      <td>0</td>\n",
              "      <td>0</td>\n",
              "      <td>0</td>\n",
              "      <td>0</td>\n",
              "      <td>0</td>\n",
              "      <td>0</td>\n",
              "      <td>1</td>\n",
              "      <td>0</td>\n",
              "    </tr>\n",
              "    <tr>\n",
              "      <th>4</th>\n",
              "      <td>10</td>\n",
              "      <td>1</td>\n",
              "      <td>1</td>\n",
              "      <td>23420</td>\n",
              "      <td>4.0</td>\n",
              "      <td>12</td>\n",
              "      <td>2</td>\n",
              "      <td>9.0</td>\n",
              "      <td>4</td>\n",
              "      <td>4.0</td>\n",
              "      <td>...</td>\n",
              "      <td>0</td>\n",
              "      <td>0</td>\n",
              "      <td>1</td>\n",
              "      <td>0</td>\n",
              "      <td>0</td>\n",
              "      <td>1</td>\n",
              "      <td>0</td>\n",
              "      <td>0</td>\n",
              "      <td>0</td>\n",
              "      <td>0</td>\n",
              "    </tr>\n",
              "    <tr>\n",
              "      <th>...</th>\n",
              "      <td>...</td>\n",
              "      <td>...</td>\n",
              "      <td>...</td>\n",
              "      <td>...</td>\n",
              "      <td>...</td>\n",
              "      <td>...</td>\n",
              "      <td>...</td>\n",
              "      <td>...</td>\n",
              "      <td>...</td>\n",
              "      <td>...</td>\n",
              "      <td>...</td>\n",
              "      <td>...</td>\n",
              "      <td>...</td>\n",
              "      <td>...</td>\n",
              "      <td>...</td>\n",
              "      <td>...</td>\n",
              "      <td>...</td>\n",
              "      <td>...</td>\n",
              "      <td>...</td>\n",
              "      <td>...</td>\n",
              "      <td>...</td>\n",
              "    </tr>\n",
              "    <tr>\n",
              "      <th>4405</th>\n",
              "      <td>5</td>\n",
              "      <td>4</td>\n",
              "      <td>1</td>\n",
              "      <td>60290</td>\n",
              "      <td>3.0</td>\n",
              "      <td>17</td>\n",
              "      <td>1</td>\n",
              "      <td>10.0</td>\n",
              "      <td>2</td>\n",
              "      <td>4.0</td>\n",
              "      <td>...</td>\n",
              "      <td>0</td>\n",
              "      <td>0</td>\n",
              "      <td>1</td>\n",
              "      <td>0</td>\n",
              "      <td>0</td>\n",
              "      <td>0</td>\n",
              "      <td>0</td>\n",
              "      <td>0</td>\n",
              "      <td>1</td>\n",
              "      <td>0</td>\n",
              "    </tr>\n",
              "    <tr>\n",
              "      <th>4406</th>\n",
              "      <td>2</td>\n",
              "      <td>4</td>\n",
              "      <td>1</td>\n",
              "      <td>26790</td>\n",
              "      <td>2.0</td>\n",
              "      <td>15</td>\n",
              "      <td>0</td>\n",
              "      <td>10.0</td>\n",
              "      <td>2</td>\n",
              "      <td>4.0</td>\n",
              "      <td>...</td>\n",
              "      <td>1</td>\n",
              "      <td>0</td>\n",
              "      <td>0</td>\n",
              "      <td>0</td>\n",
              "      <td>0</td>\n",
              "      <td>1</td>\n",
              "      <td>0</td>\n",
              "      <td>0</td>\n",
              "      <td>0</td>\n",
              "      <td>0</td>\n",
              "    </tr>\n",
              "    <tr>\n",
              "      <th>4407</th>\n",
              "      <td>25</td>\n",
              "      <td>2</td>\n",
              "      <td>2</td>\n",
              "      <td>37020</td>\n",
              "      <td>0.0</td>\n",
              "      <td>20</td>\n",
              "      <td>0</td>\n",
              "      <td>5.0</td>\n",
              "      <td>2</td>\n",
              "      <td>1.0</td>\n",
              "      <td>...</td>\n",
              "      <td>0</td>\n",
              "      <td>1</td>\n",
              "      <td>0</td>\n",
              "      <td>0</td>\n",
              "      <td>0</td>\n",
              "      <td>0</td>\n",
              "      <td>0</td>\n",
              "      <td>1</td>\n",
              "      <td>0</td>\n",
              "      <td>0</td>\n",
              "    </tr>\n",
              "    <tr>\n",
              "      <th>4408</th>\n",
              "      <td>18</td>\n",
              "      <td>2</td>\n",
              "      <td>1</td>\n",
              "      <td>23980</td>\n",
              "      <td>0.0</td>\n",
              "      <td>14</td>\n",
              "      <td>1</td>\n",
              "      <td>10.0</td>\n",
              "      <td>8</td>\n",
              "      <td>4.0</td>\n",
              "      <td>...</td>\n",
              "      <td>1</td>\n",
              "      <td>0</td>\n",
              "      <td>0</td>\n",
              "      <td>0</td>\n",
              "      <td>0</td>\n",
              "      <td>1</td>\n",
              "      <td>0</td>\n",
              "      <td>0</td>\n",
              "      <td>0</td>\n",
              "      <td>0</td>\n",
              "    </tr>\n",
              "    <tr>\n",
              "      <th>4409</th>\n",
              "      <td>28</td>\n",
              "      <td>3</td>\n",
              "      <td>2</td>\n",
              "      <td>54680</td>\n",
              "      <td>0.0</td>\n",
              "      <td>12</td>\n",
              "      <td>0</td>\n",
              "      <td>11.0</td>\n",
              "      <td>9</td>\n",
              "      <td>1.0</td>\n",
              "      <td>...</td>\n",
              "      <td>1</td>\n",
              "      <td>0</td>\n",
              "      <td>0</td>\n",
              "      <td>0</td>\n",
              "      <td>0</td>\n",
              "      <td>0</td>\n",
              "      <td>0</td>\n",
              "      <td>0</td>\n",
              "      <td>0</td>\n",
              "      <td>1</td>\n",
              "    </tr>\n",
              "  </tbody>\n",
              "</table>\n",
              "<p>4410 rows × 46 columns</p>\n",
              "</div>"
            ],
            "text/plain": [
              "      distancia_domicilio  educacion  nivel_de_cargo  ingresos_mensuales  \\\n",
              "0                       6          2               1              131160   \n",
              "1                      10          1               1               41890   \n",
              "2                      17          4               4              193280   \n",
              "3                       2          5               3               83210   \n",
              "4                      10          1               1               23420   \n",
              "...                   ...        ...             ...                 ...   \n",
              "4405                    5          4               1               60290   \n",
              "4406                    2          4               1               26790   \n",
              "4407                   25          2               2               37020   \n",
              "4408                   18          2               1               23980   \n",
              "4409                   28          3               2               54680   \n",
              "\n",
              "      empresas_anteriores  porcentaje_aumentosalario  nivel_de_opciones  \\\n",
              "0                     1.0                         11                  0   \n",
              "1                     0.0                         23                  1   \n",
              "2                     1.0                         15                  3   \n",
              "3                     3.0                         11                  3   \n",
              "4                     4.0                         12                  2   \n",
              "...                   ...                        ...                ...   \n",
              "4405                  3.0                         17                  1   \n",
              "4406                  2.0                         15                  0   \n",
              "4407                  0.0                         20                  0   \n",
              "4408                  0.0                         14                  1   \n",
              "4409                  0.0                         12                  0   \n",
              "\n",
              "      años_de_trabajo  años_jefe_actual  satisfaccion_entorno  ...  \\\n",
              "0                 1.0                 0                   3.0  ...   \n",
              "1                 6.0                 4                   3.0  ...   \n",
              "2                 5.0                 3                   2.0  ...   \n",
              "3                13.0                 5                   4.0  ...   \n",
              "4                 9.0                 4                   4.0  ...   \n",
              "...               ...               ...                   ...  ...   \n",
              "4405             10.0                 2                   4.0  ...   \n",
              "4406             10.0                 2                   4.0  ...   \n",
              "4407              5.0                 2                   1.0  ...   \n",
              "4408             10.0                 8                   4.0  ...   \n",
              "4409             11.0                 9                   1.0  ...   \n",
              "\n",
              "      estado_civil_Divorced  estado_civil_Married  estado_civil_Single  \\\n",
              "0                         0                     1                    0   \n",
              "1                         0                     0                    1   \n",
              "2                         0                     1                    0   \n",
              "3                         0                     1                    0   \n",
              "4                         0                     0                    1   \n",
              "...                     ...                   ...                  ...   \n",
              "4405                      0                     0                    1   \n",
              "4406                      1                     0                    0   \n",
              "4407                      0                     1                    0   \n",
              "4408                      1                     0                    0   \n",
              "4409                      1                     0                    0   \n",
              "\n",
              "      numero_capacitaciones_0  numero_capacitaciones_1  \\\n",
              "0                           0                        0   \n",
              "1                           0                        0   \n",
              "2                           0                        0   \n",
              "3                           0                        0   \n",
              "4                           0                        0   \n",
              "...                       ...                      ...   \n",
              "4405                        0                        0   \n",
              "4406                        0                        0   \n",
              "4407                        0                        0   \n",
              "4408                        0                        0   \n",
              "4409                        0                        0   \n",
              "\n",
              "      numero_capacitaciones_2  numero_capacitaciones_3  \\\n",
              "0                           0                        0   \n",
              "1                           0                        1   \n",
              "2                           1                        0   \n",
              "3                           0                        0   \n",
              "4                           1                        0   \n",
              "...                       ...                      ...   \n",
              "4405                        0                        0   \n",
              "4406                        1                        0   \n",
              "4407                        0                        0   \n",
              "4408                        1                        0   \n",
              "4409                        0                        0   \n",
              "\n",
              "      numero_capacitaciones_4  numero_capacitaciones_5  \\\n",
              "0                           0                        0   \n",
              "1                           0                        0   \n",
              "2                           0                        0   \n",
              "3                           0                        1   \n",
              "4                           0                        0   \n",
              "...                       ...                      ...   \n",
              "4405                        0                        1   \n",
              "4406                        0                        0   \n",
              "4407                        1                        0   \n",
              "4408                        0                        0   \n",
              "4409                        0                        0   \n",
              "\n",
              "      numero_capacitaciones_6  \n",
              "0                           1  \n",
              "1                           0  \n",
              "2                           0  \n",
              "3                           0  \n",
              "4                           0  \n",
              "...                       ...  \n",
              "4405                        0  \n",
              "4406                        0  \n",
              "4407                        0  \n",
              "4408                        0  \n",
              "4409                        1  \n",
              "\n",
              "[4410 rows x 46 columns]"
            ]
          },
          "execution_count": 122,
          "metadata": {},
          "output_type": "execute_result"
        }
      ],
      "source": [
        "tablabase1=pd.get_dummies(tablabase)\n",
        "tablabase1"
      ]
    },
    {
      "cell_type": "markdown",
      "metadata": {
        "id": "8eSzWPbrBgD8"
      },
      "source": [
        "### NORMALIZACION"
      ]
    },
    {
      "cell_type": "code",
      "execution_count": 123,
      "metadata": {
        "id": "JAuGJpJC4dgJ",
        "outputId": "d442a98e-d153-4b79-cdc7-d93b027795e8"
      },
      "outputs": [
        {
          "name": "stdout",
          "output_type": "stream",
          "text": [
            "<class 'pandas.core.frame.DataFrame'>\n",
            "RangeIndex: 4410 entries, 0 to 4409\n",
            "Data columns (total 46 columns):\n",
            " #   Column                                  Non-Null Count  Dtype  \n",
            "---  ------                                  --------------  -----  \n",
            " 0   distancia_domicilio                     4410 non-null   int64  \n",
            " 1   educacion                               4410 non-null   int64  \n",
            " 2   nivel_de_cargo                          4410 non-null   int64  \n",
            " 3   ingresos_mensuales                      4410 non-null   int64  \n",
            " 4   empresas_anteriores                     4410 non-null   float64\n",
            " 5   porcentaje_aumentosalario               4410 non-null   int64  \n",
            " 6   nivel_de_opciones                       4410 non-null   int64  \n",
            " 7   años_de_trabajo                         4410 non-null   float64\n",
            " 8   años_jefe_actual                        4410 non-null   int64  \n",
            " 9   satisfaccion_entorno                    4410 non-null   float64\n",
            " 10  satisfaccion_laboral                    4410 non-null   float64\n",
            " 11  conciliacion_faimilar_laboral           4410 non-null   float64\n",
            " 12  implicacion_laboral                     4410 non-null   int64  \n",
            " 13  tiempo_prom_dia                         4410 non-null   float64\n",
            " 14  desercion                               4410 non-null   int64  \n",
            " 15  frecuencia_viajes_Non-Travel            4410 non-null   uint8  \n",
            " 16  frecuencia_viajes_Travel_Frequently     4410 non-null   uint8  \n",
            " 17  frecuencia_viajes_Travel_Rarely         4410 non-null   uint8  \n",
            " 18  departamento_Human Resources            4410 non-null   uint8  \n",
            " 19  departamento_Research & Development     4410 non-null   uint8  \n",
            " 20  departamento_Sales                      4410 non-null   uint8  \n",
            " 21  formacion_Human Resources               4410 non-null   uint8  \n",
            " 22  formacion_Life Sciences                 4410 non-null   uint8  \n",
            " 23  formacion_Marketing                     4410 non-null   uint8  \n",
            " 24  formacion_Medical                       4410 non-null   uint8  \n",
            " 25  formacion_Other                         4410 non-null   uint8  \n",
            " 26  formacion_Technical Degree              4410 non-null   uint8  \n",
            " 27  nombre_cargo_Healthcare Representative  4410 non-null   uint8  \n",
            " 28  nombre_cargo_Human Resources            4410 non-null   uint8  \n",
            " 29  nombre_cargo_Laboratory Technician      4410 non-null   uint8  \n",
            " 30  nombre_cargo_Manager                    4410 non-null   uint8  \n",
            " 31  nombre_cargo_Manufacturing Director     4410 non-null   uint8  \n",
            " 32  nombre_cargo_Research Director          4410 non-null   uint8  \n",
            " 33  nombre_cargo_Research Scientist         4410 non-null   uint8  \n",
            " 34  nombre_cargo_Sales Executive            4410 non-null   uint8  \n",
            " 35  nombre_cargo_Sales Representative       4410 non-null   uint8  \n",
            " 36  estado_civil_Divorced                   4410 non-null   uint8  \n",
            " 37  estado_civil_Married                    4410 non-null   uint8  \n",
            " 38  estado_civil_Single                     4410 non-null   uint8  \n",
            " 39  numero_capacitaciones_0                 4410 non-null   uint8  \n",
            " 40  numero_capacitaciones_1                 4410 non-null   uint8  \n",
            " 41  numero_capacitaciones_2                 4410 non-null   uint8  \n",
            " 42  numero_capacitaciones_3                 4410 non-null   uint8  \n",
            " 43  numero_capacitaciones_4                 4410 non-null   uint8  \n",
            " 44  numero_capacitaciones_5                 4410 non-null   uint8  \n",
            " 45  numero_capacitaciones_6                 4410 non-null   uint8  \n",
            "dtypes: float64(6), int64(9), uint8(31)\n",
            "memory usage: 650.4 KB\n"
          ]
        }
      ],
      "source": [
        "tablabase1.info()"
      ]
    },
    {
      "cell_type": "code",
      "execution_count": 124,
      "metadata": {
        "id": "oAcX6NCn4dgK"
      },
      "outputs": [],
      "source": [
        "y=tablabase1[\"desercion\"]\n",
        "x=tablabase1.drop([\"desercion\"],axis=1)\n",
        "\n",
        "X_train, X_test, y_train, y_test = train_test_split(x, y, test_size=0.2)\n",
        "\n",
        "columnasenteras=[\"distancia_domicilio\",\"educacion\",\"nivel_de_cargo\",\"ingresos_mensuales\",\"porcentaje_aumentosalario\",\"nivel_de_opciones\",\"años_jefe_actual\",\"implicacion_laboral\"]\n",
        "tablabase1[columnasenteras]=tablabase1[columnasenteras].astype(float)\n",
        "columnasfloat=list(tablabase1.select_dtypes(\"float64\").columns)\n",
        "pipeline=ColumnTransformer([(\"num\", StandardScaler(),columnasfloat)],remainder='passthrough')\n",
        "\n",
        "X_train_std = pipeline.fit_transform(X_train)\n",
        "X_test_std = pipeline.transform(X_test)"
      ]
    },
    {
      "cell_type": "code",
      "execution_count": null,
      "metadata": {},
      "outputs": [],
      "source": [
        "MODELO 1"
      ]
    },
    {
      "cell_type": "code",
      "execution_count": 145,
      "metadata": {},
      "outputs": [
        {
          "name": "stdout",
          "output_type": "stream",
          "text": [
            "Exactitud en el entrenamiento: 0.862\n"
          ]
        }
      ],
      "source": [
        "from sklearn.metrics import accuracy_score\n",
        "\n",
        "# Entrenamiento del modelo\n",
        "modelo = LogisticRegression()\n",
        "\n",
        "# Ajustar el modelo a los datos\n",
        "modelo.fit(X_train_std, y_train)\n",
        "\n",
        "# Desempeño en el entrenamiento\n",
        "y_train_pred = modelo.predict(X_train_std)\n",
        "\n",
        "print('Exactitud en el entrenamiento: %.3f'  %accuracy_score(y_train, y_train_pred) )"
      ]
    },
    {
      "cell_type": "code",
      "execution_count": 146,
      "metadata": {},
      "outputs": [
        {
          "name": "stdout",
          "output_type": "stream",
          "text": [
            "Exactitud en el entrenamiento: 0.848\n"
          ]
        }
      ],
      "source": [
        "y_pred = modelo.predict(X_test_std)\n",
        "\n",
        "# Exactitud en el conjunto de validación\n",
        "print('Exactitud en el entrenamiento: %.3f'  %accuracy_score(y_test, y_pred))"
      ]
    },
    {
      "cell_type": "code",
      "execution_count": 147,
      "metadata": {},
      "outputs": [
        {
          "data": {
            "image/png": "[encoded data removed]",
            "text/plain": [
              "<Figure size 640x480 with 2 Axes>"
            ]
          },
          "metadata": {},
          "output_type": "display_data"
        }
      ],
      "source": [
        "from sklearn.metrics import confusion_matrix, ConfusionMatrixDisplay\n",
        "matriz= confusion_matrix(y_test, y_pred)\n",
        "matriz_display = ConfusionMatrixDisplay(confusion_matrix=matriz, display_labels=['No renuncia', 'renuncia'])\n",
        "matriz_display.plot()\n",
        "plt.show()"
      ]
    },
    {
      "cell_type": "code",
      "execution_count": 148,
      "metadata": {},
      "outputs": [
        {
          "name": "stdout",
          "output_type": "stream",
          "text": [
            "Precision: 0.6\n",
            "Recall: 0.1888111888111888\n",
            "Especificidad: 0.9756427604871448\n",
            "F1 score: 0.28723404255319146\n"
          ]
        }
      ],
      "source": [
        "tn, fp, fn, tp = matriz.ravel()\n",
        "\n",
        "precision = tp / (tp + fp)\n",
        "recall = tp / (tp + fn)\n",
        "especificidad = tn / (fp + tn)\n",
        "f1_score = 2*(precision*recall)/(precision+recall)\n",
        "\n",
        "print(f'Precision: {precision}')\n",
        "print(f'Recall: {recall}')\n",
        "print(f'Especificidad: {especificidad}')\n",
        "print(f'F1 score: {f1_score}')"
      ]
    },
    {
      "cell_type": "code",
      "execution_count": 149,
      "metadata": {},
      "outputs": [
        {
          "name": "stdout",
          "output_type": "stream",
          "text": [
            "MSE: 0.15\n",
            "RMSE 0.39\n",
            "MAE: 0.15\n",
            "MAPE: 91910196476949.05\n",
            "R2: -0.12\n",
            "R2-adjusted: -0.18\n"
          ]
        }
      ],
      "source": [
        "# Metricas\n",
        "print(\"MSE: %.2f\" % mean_squared_error(y_test, y_pred))\n",
        "print(\"RMSE %.2f\" % math.sqrt(mean_squared_error(y_test, y_pred)))\n",
        "print(\"MAE: %.2f\" % mean_absolute_error(y_test, y_pred))\n",
        "print(\"MAPE: %.2f\" % mean_absolute_percentage_error(y_test, y_pred))\n",
        "print(\"R2: %.2f\" % r2_score(y_test, y_pred))\n",
        "\n",
        "# R2 ajustado\n",
        "r2 = r2_score(y_test, y_pred)\n",
        "adj_r2 = 1 - (1-r2)*(len(y_test)-1)/(len(y_test)-X_test_std.shape[1]-1)\n",
        "print(\"R2-adjusted: %.2f\" % adj_r2)"
      ]
    },
    {
      "cell_type": "code",
      "execution_count": null,
      "metadata": {},
      "outputs": [],
      "source": [
        "#MODELO 1.1"
      ]
    },
    {
      "cell_type": "code",
      "execution_count": 150,
      "metadata": {},
      "outputs": [
        {
          "name": "stdout",
          "output_type": "stream",
          "text": [
            "Exactitud en el entrenamiento: 0.745\n"
          ]
        }
      ],
      "source": [
        "from sklearn.metrics import accuracy_score\n",
        "X_train_std1=X_train_std.copy()\n",
        "X_test_std1=X_test_std.copy()\n",
        "# Entrenamiento del modelo\n",
        "modelo1 = LogisticRegression(class_weight=\"balanced\",random_state=142)\n",
        "\n",
        "# Ajustar el modelo a los datos\n",
        "modelo1.fit(X_train_std1, y_train)\n",
        "\n",
        "# Desempeño en el entrenamiento\n",
        "y_train_pred1 = modelo1.predict(X_train_std1)\n",
        "\n",
        "print('Exactitud en el entrenamiento: %.3f'  %accuracy_score(y_train, y_train_pred1) )"
      ]
    },
    {
      "cell_type": "code",
      "execution_count": 151,
      "metadata": {},
      "outputs": [
        {
          "name": "stdout",
          "output_type": "stream",
          "text": [
            "Exactitud en el entrenamiento: 0.751\n"
          ]
        }
      ],
      "source": [
        "y_pred1 = modelo1.predict(X_test_std1)\n",
        "\n",
        "# Exactitud en el conjunto de validación\n",
        "print('Exactitud en el entrenamiento: %.3f'  %accuracy_score(y_test, y_pred1))"
      ]
    },
    {
      "cell_type": "code",
      "execution_count": 152,
      "metadata": {},
      "outputs": [
        {
          "data": {
            "image/png": "[encoded data removed]",
            "text/plain": [
              "<Figure size 640x480 with 2 Axes>"
            ]
          },
          "metadata": {},
          "output_type": "display_data"
        }
      ],
      "source": [
        "from sklearn.metrics import confusion_matrix, ConfusionMatrixDisplay\n",
        "matriz1= confusion_matrix(y_test, y_pred1)\n",
        "matriz_display1 = ConfusionMatrixDisplay(confusion_matrix=matriz1, display_labels=['No renuncia', 'renuncia'])\n",
        "matriz_display1.plot()\n",
        "plt.show()"
      ]
    },
    {
      "cell_type": "code",
      "execution_count": 153,
      "metadata": {},
      "outputs": [
        {
          "name": "stdout",
          "output_type": "stream",
          "text": [
            "Precision: 0.36395759717314485\n",
            "Recall: 0.7202797202797203\n",
            "Especificidad: 0.7564276048714479\n",
            "F1 score: 0.4835680751173709\n"
          ]
        }
      ],
      "source": [
        "tn, fp, fn, tp = matriz1.ravel()\n",
        "\n",
        "precision = tp / (tp + fp)\n",
        "recall = tp / (tp + fn)\n",
        "especificidad = tn / (fp + tn)\n",
        "f1_score = 2*(precision*recall)/(precision+recall)\n",
        "\n",
        "print(f'Precision: {precision}')\n",
        "print(f'Recall: {recall}')\n",
        "print(f'Especificidad: {especificidad}')\n",
        "print(f'F1 score: {f1_score}')"
      ]
    },
    {
      "cell_type": "code",
      "execution_count": 154,
      "metadata": {},
      "outputs": [
        {
          "name": "stdout",
          "output_type": "stream",
          "text": [
            "MSE: 0.25\n",
            "RMSE 0.50\n",
            "MAE: 0.25\n",
            "MAPE: 919101964769489.00\n",
            "R2: -0.84\n",
            "R2-adjusted: -0.93\n"
          ]
        }
      ],
      "source": [
        "# Metricas\n",
        "print(\"MSE: %.2f\" % mean_squared_error(y_test, y_pred1))\n",
        "print(\"RMSE %.2f\" % math.sqrt(mean_squared_error(y_test, y_pred1)))\n",
        "print(\"MAE: %.2f\" % mean_absolute_error(y_test, y_pred1))\n",
        "print(\"MAPE: %.2f\" % mean_absolute_percentage_error(y_test, y_pred1))\n",
        "print(\"R2: %.2f\" % r2_score(y_test, y_pred1))\n",
        "\n",
        "# R2 ajustado\n",
        "r2 = r2_score(y_test, y_pred1)\n",
        "adj_r2 = 1 - (1-r2)*(len(y_test)-1)/(len(y_test)-X_test_std1.shape[1]-1)\n",
        "print(\"R2-adjusted: %.2f\" % adj_r2)"
      ]
    },
    {
      "cell_type": "markdown",
      "metadata": {},
      "source": [
        "# modelo2"
      ]
    },
    {
      "cell_type": "markdown",
      "metadata": {},
      "source": [
        "# Penalizar clases mayoritarias y balanceo de clases"
      ]
    },
    {
      "cell_type": "markdown",
      "metadata": {},
      "source": [
        "# REGULARIZACION"
      ]
    },
    {
      "cell_type": "code",
      "execution_count": 125,
      "metadata": {},
      "outputs": [
        {
          "name": "stdout",
          "output_type": "stream",
          "text": [
            "Distribution before resampling Counter({0: 2960, 1: 568})\n",
            "Distribution after resampling Counter({0: 2960, 1: 2960})\n"
          ]
        }
      ],
      "source": [
        "os_us = SMOTETomek()\n",
        "x_train_res, y_train_res = os_us.fit_resample(X_train_std, y_train)\n",
        "\n",
        "print (\"Distribution before resampling {}\".format(Counter(y_train)))\n",
        "print (\"Distribution after resampling {}\".format(Counter(y_train_res)))"
      ]
    },
    {
      "cell_type": "markdown",
      "metadata": {
        "id": "E7b76cCbBbtD"
      },
      "source": [
        "# SELECCION DE VARIABLES"
      ]
    },
    {
      "cell_type": "code",
      "execution_count": null,
      "metadata": {},
      "outputs": [],
      "source": [
        "# METODO LASSO"
      ]
    },
    {
      "cell_type": "code",
      "execution_count": 126,
      "metadata": {},
      "outputs": [],
      "source": [
        "from sklearn.feature_selection import SelectKBest, f_regression, mutual_info_regression,  f_classif, mutual_info_classif, chi2"
      ]
    },
    {
      "cell_type": "code",
      "execution_count": 127,
      "metadata": {},
      "outputs": [],
      "source": [
        "# metodo integrado\n",
        "from sklearn.feature_selection import SelectFromModel\n",
        "from sklearn.linear_model import Lasso, Ridge"
      ]
    },
    {
      "cell_type": "code",
      "execution_count": 140,
      "metadata": {},
      "outputs": [
        {
          "name": "stdout",
          "output_type": "stream",
          "text": [
            "[-0.00429922 -0.         -0.00759465 -0.00218585  0.02797204  0.0131973\n",
            " -0.00041793 -0.08924038 -0.04580349 -0.06253077 -0.0565051  -0.01489278\n",
            " -0.          0.110849   -0.07769354  0.07949214  0.          0.\n",
            " -0.         -0.          0.          0.         -0.          0.\n",
            " -0.         -0.         -0.         -0.          0.         -0.\n",
            " -0.          0.          0.          0.0153043  -0.         -0.04012753\n",
            "  0.          0.14328935  0.         -0.          0.06231838  0.03334792\n",
            " -0.         -0.         -0.        ]\n"
          ]
        },
        {
          "data": {
            "text/html": [
              "<div>\n",
              "<style scoped>\n",
              "    .dataframe tbody tr th:only-of-type {\n",
              "        vertical-align: middle;\n",
              "    }\n",
              "\n",
              "    .dataframe tbody tr th {\n",
              "        vertical-align: top;\n",
              "    }\n",
              "\n",
              "    .dataframe thead th {\n",
              "        text-align: right;\n",
              "    }\n",
              "</style>\n",
              "<table border=\"1\" class=\"dataframe\">\n",
              "  <thead>\n",
              "    <tr style=\"text-align: right;\">\n",
              "      <th></th>\n",
              "      <th>años_de_trabajo</th>\n",
              "      <th>años_jefe_actual</th>\n",
              "      <th>satisfaccion_entorno</th>\n",
              "      <th>satisfaccion_laboral</th>\n",
              "      <th>tiempo_prom_dia</th>\n",
              "      <th>frecuencia_viajes_Non-Travel</th>\n",
              "      <th>frecuencia_viajes_Travel_Frequently</th>\n",
              "      <th>estado_civil_Divorced</th>\n",
              "      <th>estado_civil_Single</th>\n",
              "      <th>numero_capacitaciones_2</th>\n",
              "    </tr>\n",
              "  </thead>\n",
              "  <tbody>\n",
              "    <tr>\n",
              "      <th>2752</th>\n",
              "      <td>20.0</td>\n",
              "      <td>3</td>\n",
              "      <td>1.0</td>\n",
              "      <td>3.0</td>\n",
              "      <td>6.4536</td>\n",
              "      <td>0</td>\n",
              "      <td>1</td>\n",
              "      <td>0</td>\n",
              "      <td>1</td>\n",
              "      <td>0</td>\n",
              "    </tr>\n",
              "    <tr>\n",
              "      <th>1323</th>\n",
              "      <td>9.0</td>\n",
              "      <td>6</td>\n",
              "      <td>1.0</td>\n",
              "      <td>3.0</td>\n",
              "      <td>7.8554</td>\n",
              "      <td>0</td>\n",
              "      <td>1</td>\n",
              "      <td>0</td>\n",
              "      <td>1</td>\n",
              "      <td>0</td>\n",
              "    </tr>\n",
              "    <tr>\n",
              "      <th>1060</th>\n",
              "      <td>11.0</td>\n",
              "      <td>10</td>\n",
              "      <td>4.0</td>\n",
              "      <td>4.0</td>\n",
              "      <td>7.3226</td>\n",
              "      <td>0</td>\n",
              "      <td>1</td>\n",
              "      <td>0</td>\n",
              "      <td>0</td>\n",
              "      <td>0</td>\n",
              "    </tr>\n",
              "    <tr>\n",
              "      <th>1347</th>\n",
              "      <td>7.0</td>\n",
              "      <td>1</td>\n",
              "      <td>2.0</td>\n",
              "      <td>2.0</td>\n",
              "      <td>6.4440</td>\n",
              "      <td>0</td>\n",
              "      <td>0</td>\n",
              "      <td>1</td>\n",
              "      <td>0</td>\n",
              "      <td>1</td>\n",
              "    </tr>\n",
              "    <tr>\n",
              "      <th>1331</th>\n",
              "      <td>25.0</td>\n",
              "      <td>12</td>\n",
              "      <td>3.0</td>\n",
              "      <td>4.0</td>\n",
              "      <td>8.2136</td>\n",
              "      <td>0</td>\n",
              "      <td>1</td>\n",
              "      <td>0</td>\n",
              "      <td>0</td>\n",
              "      <td>0</td>\n",
              "    </tr>\n",
              "    <tr>\n",
              "      <th>...</th>\n",
              "      <td>...</td>\n",
              "      <td>...</td>\n",
              "      <td>...</td>\n",
              "      <td>...</td>\n",
              "      <td>...</td>\n",
              "      <td>...</td>\n",
              "      <td>...</td>\n",
              "      <td>...</td>\n",
              "      <td>...</td>\n",
              "      <td>...</td>\n",
              "    </tr>\n",
              "    <tr>\n",
              "      <th>3276</th>\n",
              "      <td>10.0</td>\n",
              "      <td>7</td>\n",
              "      <td>3.0</td>\n",
              "      <td>3.0</td>\n",
              "      <td>7.0969</td>\n",
              "      <td>0</td>\n",
              "      <td>0</td>\n",
              "      <td>0</td>\n",
              "      <td>0</td>\n",
              "      <td>0</td>\n",
              "    </tr>\n",
              "    <tr>\n",
              "      <th>546</th>\n",
              "      <td>27.0</td>\n",
              "      <td>1</td>\n",
              "      <td>1.0</td>\n",
              "      <td>4.0</td>\n",
              "      <td>5.6867</td>\n",
              "      <td>1</td>\n",
              "      <td>0</td>\n",
              "      <td>0</td>\n",
              "      <td>1</td>\n",
              "      <td>0</td>\n",
              "    </tr>\n",
              "    <tr>\n",
              "      <th>2049</th>\n",
              "      <td>20.0</td>\n",
              "      <td>13</td>\n",
              "      <td>2.0</td>\n",
              "      <td>3.0</td>\n",
              "      <td>6.4356</td>\n",
              "      <td>0</td>\n",
              "      <td>1</td>\n",
              "      <td>0</td>\n",
              "      <td>1</td>\n",
              "      <td>0</td>\n",
              "    </tr>\n",
              "    <tr>\n",
              "      <th>1173</th>\n",
              "      <td>14.0</td>\n",
              "      <td>7</td>\n",
              "      <td>3.0</td>\n",
              "      <td>4.0</td>\n",
              "      <td>7.4542</td>\n",
              "      <td>0</td>\n",
              "      <td>0</td>\n",
              "      <td>0</td>\n",
              "      <td>0</td>\n",
              "      <td>0</td>\n",
              "    </tr>\n",
              "    <tr>\n",
              "      <th>3011</th>\n",
              "      <td>21.0</td>\n",
              "      <td>1</td>\n",
              "      <td>4.0</td>\n",
              "      <td>3.0</td>\n",
              "      <td>6.2478</td>\n",
              "      <td>0</td>\n",
              "      <td>0</td>\n",
              "      <td>0</td>\n",
              "      <td>0</td>\n",
              "      <td>0</td>\n",
              "    </tr>\n",
              "  </tbody>\n",
              "</table>\n",
              "<p>3528 rows × 10 columns</p>\n",
              "</div>"
            ],
            "text/plain": [
              "      años_de_trabajo  años_jefe_actual  satisfaccion_entorno  \\\n",
              "2752             20.0                 3                   1.0   \n",
              "1323              9.0                 6                   1.0   \n",
              "1060             11.0                10                   4.0   \n",
              "1347              7.0                 1                   2.0   \n",
              "1331             25.0                12                   3.0   \n",
              "...               ...               ...                   ...   \n",
              "3276             10.0                 7                   3.0   \n",
              "546              27.0                 1                   1.0   \n",
              "2049             20.0                13                   2.0   \n",
              "1173             14.0                 7                   3.0   \n",
              "3011             21.0                 1                   4.0   \n",
              "\n",
              "      satisfaccion_laboral  tiempo_prom_dia  frecuencia_viajes_Non-Travel  \\\n",
              "2752                   3.0           6.4536                             0   \n",
              "1323                   3.0           7.8554                             0   \n",
              "1060                   4.0           7.3226                             0   \n",
              "1347                   2.0           6.4440                             0   \n",
              "1331                   4.0           8.2136                             0   \n",
              "...                    ...              ...                           ...   \n",
              "3276                   3.0           7.0969                             0   \n",
              "546                    4.0           5.6867                             1   \n",
              "2049                   3.0           6.4356                             0   \n",
              "1173                   4.0           7.4542                             0   \n",
              "3011                   3.0           6.2478                             0   \n",
              "\n",
              "      frecuencia_viajes_Travel_Frequently  estado_civil_Divorced  \\\n",
              "2752                                    1                      0   \n",
              "1323                                    1                      0   \n",
              "1060                                    1                      0   \n",
              "1347                                    0                      1   \n",
              "1331                                    1                      0   \n",
              "...                                   ...                    ...   \n",
              "3276                                    0                      0   \n",
              "546                                     0                      0   \n",
              "2049                                    1                      0   \n",
              "1173                                    0                      0   \n",
              "3011                                    0                      0   \n",
              "\n",
              "      estado_civil_Single  numero_capacitaciones_2  \n",
              "2752                    1                        0  \n",
              "1323                    1                        0  \n",
              "1060                    0                        0  \n",
              "1347                    0                        1  \n",
              "1331                    0                        0  \n",
              "...                   ...                      ...  \n",
              "3276                    0                        0  \n",
              "546                     1                        0  \n",
              "2049                    1                        0  \n",
              "1173                    0                        0  \n",
              "3011                    0                        0  \n",
              "\n",
              "[3528 rows x 10 columns]"
            ]
          },
          "execution_count": 140,
          "metadata": {},
          "output_type": "execute_result"
        }
      ],
      "source": [
        "\n",
        "sel_ = SelectFromModel(Lasso(alpha = 0.01, max_iter=10000), max_features=10) #entre mas aumente el parametro de serializacon, ams variables van atender a 0\n",
        "sel_.fit(x_train_res, y_train_res)\n",
        "print(sel_.estimator_.coef_)\n",
        "\n",
        "#Obtener variables seleccionadas\n",
        "X_new = sel_.get_support()#descarta los coeficientes mas cercanos a 0\n",
        "X_train_modelo2 = x_train_res[:,X_new]\n",
        "X_test_modelo2= X_test_std[:,X_new]\n",
        "X_train.iloc[:,X_new]"
      ]
    },
    {
      "cell_type": "code",
      "execution_count": 141,
      "metadata": {},
      "outputs": [
        {
          "name": "stdout",
          "output_type": "stream",
          "text": [
            "Exactitud en el entrenamiento: 0.726\n"
          ]
        }
      ],
      "source": [
        "from sklearn.metrics import accuracy_score\n",
        "\n",
        "# Entrenamiento del modelo\n",
        "modelo = LogisticRegression(random_state=142)\n",
        "\n",
        "# Ajustar el modelo a los datos\n",
        "modelo.fit(X_train_modelo2, y_train_res)\n",
        "\n",
        "# Desempeño en el entrenamiento\n",
        "y_train_pred2 = modelo.predict(X_train_modelo2)\n",
        "\n",
        "print('Exactitud en el entrenamiento: %.3f'  %accuracy_score(y_train_res, y_train_pred2) )"
      ]
    },
    {
      "cell_type": "code",
      "execution_count": 142,
      "metadata": {},
      "outputs": [
        {
          "name": "stdout",
          "output_type": "stream",
          "text": [
            "Exactitud en el entrenamiento: 0.730\n"
          ]
        }
      ],
      "source": [
        "y_pred = modelo.predict(X_test_modelo2)\n",
        "\n",
        "# Exactitud en el conjunto de validación\n",
        "print('Exactitud en el entrenamiento: %.3f'  %accuracy_score(y_test, y_pred))"
      ]
    },
    {
      "cell_type": "code",
      "execution_count": 143,
      "metadata": {},
      "outputs": [
        {
          "data": {
            "image/png": "[encoded data removed]",
            "text/plain": [
              "<Figure size 640x480 with 2 Axes>"
            ]
          },
          "metadata": {},
          "output_type": "display_data"
        }
      ],
      "source": [
        "from sklearn.metrics import confusion_matrix, ConfusionMatrixDisplay\n",
        "matriz= confusion_matrix(y_test, y_pred)\n",
        "matriz_display = ConfusionMatrixDisplay(confusion_matrix=matriz, display_labels=['No renuncia', 'renuncia'])\n",
        "matriz_display.plot()\n",
        "plt.show()"
      ]
    },
    {
      "cell_type": "code",
      "execution_count": 144,
      "metadata": {},
      "outputs": [
        {
          "name": "stdout",
          "output_type": "stream",
          "text": [
            "Precision: 0.34219269102990035\n",
            "Recall: 0.7202797202797203\n",
            "Especificidad: 0.7320703653585927\n",
            "F1 score: 0.463963963963964\n"
          ]
        }
      ],
      "source": [
        "tn, fp, fn, tp = matriz.ravel()\n",
        "\n",
        "precision = tp / (tp + fp)\n",
        "recall = tp / (tp + fn)\n",
        "especificidad = tn / (fp + tn)\n",
        "f1_score = 2*(precision*recall)/(precision+recall)\n",
        "\n",
        "print(f'Precision: {precision}')\n",
        "print(f'Recall: {recall}')\n",
        "print(f'Especificidad: {especificidad}')\n",
        "print(f'F1 score: {f1_score}')"
      ]
    },
    {
      "cell_type": "code",
      "execution_count": 165,
      "metadata": {},
      "outputs": [
        {
          "name": "stdout",
          "output_type": "stream",
          "text": [
            "Exactitud en el entrenamiento: 0.770\n"
          ]
        }
      ],
      "source": [
        "from sklearn.metrics import accuracy_score\n",
        "\n",
        "# Entrenamiento del modelo\n",
        "modelo = LogisticRegression(random_state=142)\n",
        "\n",
        "# Ajustar el modelo a los datos\n",
        "modelo.fit(x_train_res, y_train_res)\n",
        "\n",
        "# Desempeño en el entrenamiento\n",
        "y_train_pred2 = modelo.predict(x_train_res)\n",
        "\n",
        "print('Exactitud en el entrenamiento: %.3f'  %accuracy_score(y_train_res, y_train_pred2) )"
      ]
    },
    {
      "cell_type": "code",
      "execution_count": 167,
      "metadata": {},
      "outputs": [
        {
          "name": "stdout",
          "output_type": "stream",
          "text": [
            "Exactitud en el entrenamiento: 0.754\n"
          ]
        }
      ],
      "source": [
        "y_pred = modelo.predict(X_test_std)\n",
        "\n",
        "# Exactitud en el conjunto de validación\n",
        "print('Exactitud en el entrenamiento: %.3f'  %accuracy_score(y_test, y_pred))"
      ]
    },
    {
      "cell_type": "code",
      "execution_count": 168,
      "metadata": {},
      "outputs": [
        {
          "data": {
            "image/png": "[encoded data removed]",
            "text/plain": [
              "<Figure size 640x480 with 2 Axes>"
            ]
          },
          "metadata": {},
          "output_type": "display_data"
        }
      ],
      "source": [
        "from sklearn.metrics import confusion_matrix, ConfusionMatrixDisplay\n",
        "matriz= confusion_matrix(y_test, y_pred)\n",
        "matriz_display = ConfusionMatrixDisplay(confusion_matrix=matriz, display_labels=['No renuncia', 'renuncia'])\n",
        "matriz_display.plot()\n",
        "plt.show()"
      ]
    },
    {
      "cell_type": "code",
      "execution_count": 169,
      "metadata": {},
      "outputs": [
        {
          "name": "stdout",
          "output_type": "stream",
          "text": [
            "Precision: 0.3639705882352941\n",
            "Recall: 0.6923076923076923\n",
            "Especificidad: 0.7658998646820027\n",
            "F1 score: 0.4771084337349397\n"
          ]
        }
      ],
      "source": [
        "tn, fp, fn, tp = matriz.ravel()\n",
        "\n",
        "precision = tp / (tp + fp)\n",
        "recall = tp / (tp + fn)\n",
        "especificidad = tn / (fp + tn)\n",
        "f1_score = 2*(precision*recall)/(precision+recall)\n",
        "\n",
        "print(f'Precision: {precision}')\n",
        "print(f'Recall: {recall}')\n",
        "print(f'Especificidad: {especificidad}')\n",
        "print(f'F1 score: {f1_score}')"
      ]
    },
    {
      "cell_type": "code",
      "execution_count": null,
      "metadata": {},
      "outputs": [],
      "source": [
        "### Metod wrapper"
      ]
    },
    {
      "cell_type": "code",
      "execution_count": 106,
      "metadata": {},
      "outputs": [],
      "source": [
        "from sklearn.feature_selection import RFE\n",
        "from sklearn.linear_model import LinearRegression, LogisticRegression\n",
        "\n",
        "# Función recursiva de selección de características\n",
        "def recursive_feature_selection(X,y,model,k):\n",
        "  rfe = RFE(model, n_features_to_select=k, step=1)\n",
        "  fit = rfe.fit(X, y)\n",
        "  X_new = fit.support_\n",
        "  print(\"Num Features: %s\" % (fit.n_features_))\n",
        "  print(\"Selected Features: %s\" % (fit.support_))\n",
        "  print(\"Feature Ranking: %s\" % (fit.ranking_))\n"
      ]
    },
    {
      "cell_type": "code",
      "execution_count": 109,
      "metadata": {},
      "outputs": [
        {
          "name": "stdout",
          "output_type": "stream",
          "text": [
            "Num Features: 10\n",
            "Selected Features: [False False False False False False False  True False False False False\n",
            " False  True False False False False  True  True False  True False False\n",
            "  True False False False False False False False False False  True  True\n",
            " False False False False False  True False False False False False False\n",
            " False  True]\n",
            "Feature Ranking: [35 30 20 37  7 31 33  1 15  4  6 14 28  1 39 41 38  8  1  1 32  1 19 18\n",
            "  1 29 22 23 12 21 27  5 26  3  1  1 25 24  2 13 17  1 40 11 34 10  9 36\n",
            " 16  1]\n"
          ]
        },
        {
          "ename": "ValueError",
          "evalue": "Location based indexing can only have [integer, integer slice (START point is INCLUDED, END point is EXCLUDED), listlike of integers, boolean array] types",
          "output_type": "error",
          "traceback": [
            "\u001b[1;31m---------------------------------------------------------------------------\u001b[0m",
            "\u001b[1;31mValueError\u001b[0m                                Traceback (most recent call last)",
            "File \u001b[1;32mc:\\Users\\Luisa\\anaconda3\\lib\\site-packages\\pandas\\core\\indexing.py:873\u001b[0m, in \u001b[0;36m_LocationIndexer._validate_tuple_indexer\u001b[1;34m(self, key)\u001b[0m\n\u001b[0;32m    872\u001b[0m \u001b[39mtry\u001b[39;00m:\n\u001b[1;32m--> 873\u001b[0m     \u001b[39mself\u001b[39;49m\u001b[39m.\u001b[39;49m_validate_key(k, i)\n\u001b[0;32m    874\u001b[0m \u001b[39mexcept\u001b[39;00m \u001b[39mValueError\u001b[39;00m \u001b[39mas\u001b[39;00m err:\n",
            "File \u001b[1;32mc:\\Users\\Luisa\\anaconda3\\lib\\site-packages\\pandas\\core\\indexing.py:1483\u001b[0m, in \u001b[0;36m_iLocIndexer._validate_key\u001b[1;34m(self, key, axis)\u001b[0m\n\u001b[0;32m   1482\u001b[0m \u001b[39melse\u001b[39;00m:\n\u001b[1;32m-> 1483\u001b[0m     \u001b[39mraise\u001b[39;00m \u001b[39mValueError\u001b[39;00m(\u001b[39mf\u001b[39m\u001b[39m\"\u001b[39m\u001b[39mCan only index by location with a [\u001b[39m\u001b[39m{\u001b[39;00m\u001b[39mself\u001b[39m\u001b[39m.\u001b[39m_valid_types\u001b[39m}\u001b[39;00m\u001b[39m]\u001b[39m\u001b[39m\"\u001b[39m)\n",
            "\u001b[1;31mValueError\u001b[0m: Can only index by location with a [integer, integer slice (START point is INCLUDED, END point is EXCLUDED), listlike of integers, boolean array]",
            "\nThe above exception was the direct cause of the following exception:\n",
            "\u001b[1;31mValueError\u001b[0m                                Traceback (most recent call last)",
            "\u001b[1;32md:\\Informacion\\Desktop\\UDEA\\NOVENO SEMESTRE\\ANALITICA 2\\VISUAL CODE\\Analitica2_trabajo1\\Selección_de_variables_y_regularización.ipynb Cell 28\u001b[0m line \u001b[0;36m7\n\u001b[0;32m      <a href='vscode-notebook-cell:/d%3A/Informacion/Desktop/UDEA/NOVENO%20SEMESTRE/ANALITICA%202/VISUAL%20CODE/Analitica2_trabajo1/Selecci%C3%B3n_de_variables_y_regularizaci%C3%B3n.ipynb#Y162sZmlsZQ%3D%3D?line=3'>4</a>\u001b[0m X_new_class \u001b[39m=\u001b[39m recursive_feature_selection(X_train_std, y_train, model, \u001b[39m10\u001b[39m)\n\u001b[0;32m      <a href='vscode-notebook-cell:/d%3A/Informacion/Desktop/UDEA/NOVENO%20SEMESTRE/ANALITICA%202/VISUAL%20CODE/Analitica2_trabajo1/Selecci%C3%B3n_de_variables_y_regularizaci%C3%B3n.ipynb#Y162sZmlsZQ%3D%3D?line=5'>6</a>\u001b[0m \u001b[39m# Nuevo conjunto de datos\u001b[39;00m\n\u001b[1;32m----> <a href='vscode-notebook-cell:/d%3A/Informacion/Desktop/UDEA/NOVENO%20SEMESTRE/ANALITICA%202/VISUAL%20CODE/Analitica2_trabajo1/Selecci%C3%B3n_de_variables_y_regularizaci%C3%B3n.ipynb#Y162sZmlsZQ%3D%3D?line=6'>7</a>\u001b[0m df_classification_new \u001b[39m=\u001b[39m X_train_std\u001b[39m.\u001b[39;49miloc[:,X_new_class]\n\u001b[0;32m      <a href='vscode-notebook-cell:/d%3A/Informacion/Desktop/UDEA/NOVENO%20SEMESTRE/ANALITICA%202/VISUAL%20CODE/Analitica2_trabajo1/Selecci%C3%B3n_de_variables_y_regularizaci%C3%B3n.ipynb#Y162sZmlsZQ%3D%3D?line=7'>8</a>\u001b[0m df_classification_new\u001b[39m.\u001b[39mhead()\n",
            "File \u001b[1;32mc:\\Users\\Luisa\\anaconda3\\lib\\site-packages\\pandas\\core\\indexing.py:1067\u001b[0m, in \u001b[0;36m_LocationIndexer.__getitem__\u001b[1;34m(self, key)\u001b[0m\n\u001b[0;32m   1065\u001b[0m     \u001b[39mif\u001b[39;00m \u001b[39mself\u001b[39m\u001b[39m.\u001b[39m_is_scalar_access(key):\n\u001b[0;32m   1066\u001b[0m         \u001b[39mreturn\u001b[39;00m \u001b[39mself\u001b[39m\u001b[39m.\u001b[39mobj\u001b[39m.\u001b[39m_get_value(\u001b[39m*\u001b[39mkey, takeable\u001b[39m=\u001b[39m\u001b[39mself\u001b[39m\u001b[39m.\u001b[39m_takeable)\n\u001b[1;32m-> 1067\u001b[0m     \u001b[39mreturn\u001b[39;00m \u001b[39mself\u001b[39;49m\u001b[39m.\u001b[39;49m_getitem_tuple(key)\n\u001b[0;32m   1068\u001b[0m \u001b[39melse\u001b[39;00m:\n\u001b[0;32m   1069\u001b[0m     \u001b[39m# we by definition only have the 0th axis\u001b[39;00m\n\u001b[0;32m   1070\u001b[0m     axis \u001b[39m=\u001b[39m \u001b[39mself\u001b[39m\u001b[39m.\u001b[39maxis \u001b[39mor\u001b[39;00m \u001b[39m0\u001b[39m\n",
            "File \u001b[1;32mc:\\Users\\Luisa\\anaconda3\\lib\\site-packages\\pandas\\core\\indexing.py:1563\u001b[0m, in \u001b[0;36m_iLocIndexer._getitem_tuple\u001b[1;34m(self, tup)\u001b[0m\n\u001b[0;32m   1561\u001b[0m \u001b[39mdef\u001b[39;00m \u001b[39m_getitem_tuple\u001b[39m(\u001b[39mself\u001b[39m, tup: \u001b[39mtuple\u001b[39m):\n\u001b[1;32m-> 1563\u001b[0m     tup \u001b[39m=\u001b[39m \u001b[39mself\u001b[39;49m\u001b[39m.\u001b[39;49m_validate_tuple_indexer(tup)\n\u001b[0;32m   1564\u001b[0m     \u001b[39mwith\u001b[39;00m suppress(IndexingError):\n\u001b[0;32m   1565\u001b[0m         \u001b[39mreturn\u001b[39;00m \u001b[39mself\u001b[39m\u001b[39m.\u001b[39m_getitem_lowerdim(tup)\n",
            "File \u001b[1;32mc:\\Users\\Luisa\\anaconda3\\lib\\site-packages\\pandas\\core\\indexing.py:875\u001b[0m, in \u001b[0;36m_LocationIndexer._validate_tuple_indexer\u001b[1;34m(self, key)\u001b[0m\n\u001b[0;32m    873\u001b[0m         \u001b[39mself\u001b[39m\u001b[39m.\u001b[39m_validate_key(k, i)\n\u001b[0;32m    874\u001b[0m     \u001b[39mexcept\u001b[39;00m \u001b[39mValueError\u001b[39;00m \u001b[39mas\u001b[39;00m err:\n\u001b[1;32m--> 875\u001b[0m         \u001b[39mraise\u001b[39;00m \u001b[39mValueError\u001b[39;00m(\n\u001b[0;32m    876\u001b[0m             \u001b[39m\"\u001b[39m\u001b[39mLocation based indexing can only have \u001b[39m\u001b[39m\"\u001b[39m\n\u001b[0;32m    877\u001b[0m             \u001b[39mf\u001b[39m\u001b[39m\"\u001b[39m\u001b[39m[\u001b[39m\u001b[39m{\u001b[39;00m\u001b[39mself\u001b[39m\u001b[39m.\u001b[39m_valid_types\u001b[39m}\u001b[39;00m\u001b[39m] types\u001b[39m\u001b[39m\"\u001b[39m\n\u001b[0;32m    878\u001b[0m         ) \u001b[39mfrom\u001b[39;00m \u001b[39merr\u001b[39;00m\n\u001b[0;32m    879\u001b[0m \u001b[39mreturn\u001b[39;00m key\n",
            "\u001b[1;31mValueError\u001b[0m: Location based indexing can only have [integer, integer slice (START point is INCLUDED, END point is EXCLUDED), listlike of integers, boolean array] types"
          ]
        }
      ],
      "source": [
        "# Establecer Estimador\n",
        "model = LogisticRegression(max_iter=100000)\n",
        "# Obtener columnas seleciconadas - (3 caracteristicas)\n",
        "X_new_class = recursive_feature_selection(X_train_std, y_train, model, 10)\n",
        "\n",
        "# Nuevo conjunto de datos\n",
        "df_classification_new = X_train_std.iloc[:,X_new_class]\n",
        "df_classification_new.head()"
      ]
    },
    {
      "cell_type": "code",
      "execution_count": null,
      "metadata": {},
      "outputs": [],
      "source": []
    },
    {
      "cell_type": "markdown",
      "metadata": {
        "id": "fxqS6NmLCf8e"
      },
      "source": [
        "## PARA CATEGORICAS ES MAS DESDE LO GRAFICO"
      ]
    },
    {
      "cell_type": "markdown",
      "metadata": {
        "id": "fd7BvT_LC9MD"
      },
      "source": [
        "## SELECCION UNIVARIANTE"
      ]
    },
    {
      "cell_type": "markdown",
      "metadata": {
        "id": "LK37sHPaMm9B"
      },
      "source": [
        "## PARA VARIABLE DEPENDIENTE CATEGORICO"
      ]
    },
    {
      "cell_type": "code",
      "execution_count": null,
      "metadata": {},
      "outputs": [],
      "source": []
    }
  ],
  "metadata": {
    "colab": {
      "collapsed_sections": [
        "AE_s_x4ndroU",
        "Q0Ny3_tPeGw_",
        "UaAorFM4qkyl",
        "NOH13MOC_FzW",
        "hRrN0e3Hq04c",
        "iraJL-3XtR_w",
        "DkwfO7dkdMwi",
        "Ael2IrSRaaOk",
        "0wRqC_otq-sN",
        "CVBRc0FxneE8",
        "ZmT8HaT2r2tV",
        "Wj9QmDNRq2ck",
        "rVMtFs0Dqd2e",
        "y_vpHkDcqKFE",
        "QdzIljkonkkg",
        "7AVgbsePRhUM",
        "FMdvnBsDZCuO",
        "sT9pPlt6Z0Rf",
        "ge1zAvh7aVPb",
        "NDimhCNEbohO",
        "wF_sskr4br_t"
      ],
      "include_colab_link": true,
      "provenance": []
    },
    "kernelspec": {
      "display_name": "Python 3",
      "name": "python3"
    },
    "language_info": {
      "codemirror_mode": {
        "name": "ipython",
        "version": 3
      },
      "file_extension": ".py",
      "mimetype": "text/x-python",
      "name": "python",
      "nbconvert_exporter": "python",
      "pygments_lexer": "ipython3",
      "version": "3.10.9"
    }
  },
  "nbformat": 4,
  "nbformat_minor": 0
}

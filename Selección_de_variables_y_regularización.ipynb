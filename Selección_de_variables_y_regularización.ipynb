{
  "cells": [
    {
      "cell_type": "markdown",
      "metadata": {
        "colab_type": "text",
        "id": "view-in-github"
      },
      "source": [
        "<a href=\"https://colab.research.google.com/github/CamiloLoaiza12/Analitica2_trabajo1/blob/main/Selecci%C3%B3n_de_variables_y_regularizaci%C3%B3n.ipynb\" target=\"_parent\"><img src=\"https://colab.research.google.com/assets/colab-badge.svg\" alt=\"Open In Colab\"/></a>"
      ]
    },
    {
      "cell_type": "markdown",
      "metadata": {},
      "source": [
        "# Librerias"
      ]
    },
    {
      "cell_type": "code",
      "execution_count": 1,
      "metadata": {
        "id": "F1C8ZCjFGBqM"
      },
      "outputs": [],
      "source": [
        "## Remove Warnings\n",
        "import warnings\n",
        "warnings.filterwarnings(\"ignore\")\n",
        "\n",
        "## Data\n",
        "import pandas as pd\n",
        "import numpy as np\n",
        "from itertools import product\n",
        "\n",
        "## Visualization\n",
        "import matplotlib.pyplot as plt\n",
        "import seaborn as sns\n",
        "from plotly.subplots import make_subplots\n",
        "import plotly.express as px\n",
        "import plotly.graph_objects as go\n",
        "import plotly.figure_factory as ff\n",
        "\n",
        "## Modelling\n",
        "from sklearn.metrics import mean_squared_error\n",
        "from sklearn.model_selection import train_test_split, GridSearchCV\n",
        "from sklearn.linear_model import LinearRegression\n",
        "import statsmodels.api as sm\n",
        "from sklearn.metrics import mean_squared_error,  mean_absolute_error, mean_absolute_percentage_error, r2_score, classification_report\n",
        "import math"
      ]
    },
    {
      "cell_type": "code",
      "execution_count": 2,
      "metadata": {
        "id": "cxpMgQ7H4deN"
      },
      "outputs": [],
      "source": [
        "# Importar librerias necesarias\n",
        "import pandas as pd\n",
        "import numpy as np\n",
        "import seaborn as sns\n",
        "import matplotlib.pyplot as plt\n",
        "from sklearn.linear_model import LinearRegression, Ridge, RidgeCV, Lasso\n",
        "from sklearn.impute import SimpleImputer\n",
        "from sklearn.preprocessing import OneHotEncoder, StandardScaler\n",
        "from sklearn.compose import ColumnTransformer\n",
        "from sklearn.model_selection import train_test_split\n",
        "from sklearn.metrics import mean_absolute_error, mean_squared_error, r2_score\n",
        "from sklearn import metrics\n",
        "\n",
        "%matplotlib inline"
      ]
    },
    {
      "cell_type": "code",
      "execution_count": 3,
      "metadata": {
        "id": "SzM3fvwo4deO"
      },
      "outputs": [],
      "source": [
        "# Importar librerias necesarias\n",
        "import pandas as pd\n",
        "import numpy as np\n",
        "import seaborn as sns\n",
        "import matplotlib.pyplot as plt\n",
        "from sklearn.linear_model import LogisticRegression\n",
        "\n",
        "%matplotlib inline"
      ]
    },
    {
      "cell_type": "code",
      "execution_count": 4,
      "metadata": {},
      "outputs": [],
      "source": [
        "from imblearn.under_sampling import NearMiss\n",
        "from imblearn.over_sampling import RandomOverSampler\n",
        "from imblearn.combine import SMOTETomek\n",
        "from imblearn.ensemble import BalancedBaggingClassifier\n",
        "from sklearn.datasets import make_classification\n",
        "from collections import Counter"
      ]
    },
    {
      "cell_type": "code",
      "execution_count": 13,
      "metadata": {},
      "outputs": [],
      "source": [
        "from sklearn.metrics import confusion_matrix, ConfusionMatrixDisplay\n",
        "from sklearn.metrics import accuracy_score"
      ]
    },
    {
      "cell_type": "markdown",
      "metadata": {
        "id": "AE_s_x4ndroU"
      },
      "source": [
        "# Importacion de datos"
      ]
    },
    {
      "cell_type": "code",
      "execution_count": 5,
      "metadata": {},
      "outputs": [],
      "source": [
        "tabla_base = pd.read_csv('tabla_base.csv', sep = \",\")"
      ]
    },
    {
      "cell_type": "code",
      "execution_count": 6,
      "metadata": {},
      "outputs": [
        {
          "name": "stdout",
          "output_type": "stream",
          "text": [
            "<class 'pandas.core.frame.DataFrame'>\n",
            "RangeIndex: 4410 entries, 0 to 4409\n",
            "Data columns (total 21 columns):\n",
            " #   Column                         Non-Null Count  Dtype  \n",
            "---  ------                         --------------  -----  \n",
            " 0   desercion_año_anterior         4410 non-null   object \n",
            " 1   frecuencia_viajes              4410 non-null   object \n",
            " 2   departamento                   4410 non-null   object \n",
            " 3   distancia_domicilio            4410 non-null   int64  \n",
            " 4   educacion                      4410 non-null   int64  \n",
            " 5   formacion                      4410 non-null   object \n",
            " 6   nivel_de_cargo                 4410 non-null   int64  \n",
            " 7   nombre_cargo                   4410 non-null   object \n",
            " 8   estado_civil                   4410 non-null   object \n",
            " 9   ingresos_mensuales             4410 non-null   int64  \n",
            " 10  empresas_anteriores            4410 non-null   float64\n",
            " 11  porcentaje_aumentosalario      4410 non-null   int64  \n",
            " 12  nivel_de_opciones              4410 non-null   int64  \n",
            " 13  años_de_trabajo                4410 non-null   float64\n",
            " 14  numero_capacitaciones          4410 non-null   int64  \n",
            " 15  años_jefe_actual               4410 non-null   int64  \n",
            " 16  satisfaccion_entorno           4410 non-null   float64\n",
            " 17  satisfaccion_laboral           4410 non-null   float64\n",
            " 18  conciliacion_faimilar_laboral  4410 non-null   float64\n",
            " 19  implicacion_laboral            4410 non-null   int64  \n",
            " 20  tiempo_prom_dia                4410 non-null   float64\n",
            "dtypes: float64(6), int64(9), object(6)\n",
            "memory usage: 723.6+ KB\n"
          ]
        }
      ],
      "source": [
        "tabla_base.info()"
      ]
    },
    {
      "cell_type": "markdown",
      "metadata": {
        "id": "nssp5dg-4df6"
      },
      "source": [
        "# Normalización"
      ]
    },
    {
      "cell_type": "code",
      "execution_count": 7,
      "metadata": {
        "id": "n3RP-zXQ4dgD",
        "outputId": "e6247824-dd32-401e-def6-72c32b48a374"
      },
      "outputs": [
        {
          "data": {
            "text/plain": [
              "desercion_año_anterior            object\n",
              "frecuencia_viajes                 object\n",
              "departamento                      object\n",
              "distancia_domicilio                int64\n",
              "educacion                          int64\n",
              "formacion                         object\n",
              "nivel_de_cargo                     int64\n",
              "nombre_cargo                      object\n",
              "estado_civil                      object\n",
              "ingresos_mensuales                 int64\n",
              "empresas_anteriores              float64\n",
              "porcentaje_aumentosalario          int64\n",
              "nivel_de_opciones                  int64\n",
              "años_de_trabajo                  float64\n",
              "numero_capacitaciones             object\n",
              "años_jefe_actual                   int64\n",
              "satisfaccion_entorno             float64\n",
              "satisfaccion_laboral             float64\n",
              "conciliacion_faimilar_laboral    float64\n",
              "implicacion_laboral                int64\n",
              "tiempo_prom_dia                  float64\n",
              "dtype: object"
            ]
          },
          "execution_count": 7,
          "metadata": {},
          "output_type": "execute_result"
        }
      ],
      "source": [
        "tablabase=tabla_base.copy()\n",
        "columnascategoricas=[\"numero_capacitaciones\",\"frecuencia_viajes\"]\n",
        "tablabase[columnascategoricas] = tablabase[columnascategoricas].astype(str)\n",
        "tablabase.dtypes"
      ]
    },
    {
      "cell_type": "code",
      "execution_count": 8,
      "metadata": {
        "id": "ZPVLGNaY4dgF",
        "outputId": "6e941115-175c-4eb5-bfd3-8bf2de80fa16"
      },
      "outputs": [
        {
          "data": {
            "text/html": [
              "<div>\n",
              "<style scoped>\n",
              "    .dataframe tbody tr th:only-of-type {\n",
              "        vertical-align: middle;\n",
              "    }\n",
              "\n",
              "    .dataframe tbody tr th {\n",
              "        vertical-align: top;\n",
              "    }\n",
              "\n",
              "    .dataframe thead th {\n",
              "        text-align: right;\n",
              "    }\n",
              "</style>\n",
              "<table border=\"1\" class=\"dataframe\">\n",
              "  <thead>\n",
              "    <tr style=\"text-align: right;\">\n",
              "      <th></th>\n",
              "      <th>frecuencia_viajes</th>\n",
              "      <th>departamento</th>\n",
              "      <th>distancia_domicilio</th>\n",
              "      <th>educacion</th>\n",
              "      <th>formacion</th>\n",
              "      <th>nivel_de_cargo</th>\n",
              "      <th>nombre_cargo</th>\n",
              "      <th>estado_civil</th>\n",
              "      <th>ingresos_mensuales</th>\n",
              "      <th>empresas_anteriores</th>\n",
              "      <th>...</th>\n",
              "      <th>nivel_de_opciones</th>\n",
              "      <th>años_de_trabajo</th>\n",
              "      <th>numero_capacitaciones</th>\n",
              "      <th>años_jefe_actual</th>\n",
              "      <th>satisfaccion_entorno</th>\n",
              "      <th>satisfaccion_laboral</th>\n",
              "      <th>conciliacion_faimilar_laboral</th>\n",
              "      <th>implicacion_laboral</th>\n",
              "      <th>tiempo_prom_dia</th>\n",
              "      <th>desercion</th>\n",
              "    </tr>\n",
              "  </thead>\n",
              "  <tbody>\n",
              "    <tr>\n",
              "      <th>0</th>\n",
              "      <td>Travel_Rarely</td>\n",
              "      <td>Sales</td>\n",
              "      <td>6</td>\n",
              "      <td>2</td>\n",
              "      <td>Life Sciences</td>\n",
              "      <td>1</td>\n",
              "      <td>Healthcare Representative</td>\n",
              "      <td>Married</td>\n",
              "      <td>131160</td>\n",
              "      <td>1.0</td>\n",
              "      <td>...</td>\n",
              "      <td>0</td>\n",
              "      <td>1.0</td>\n",
              "      <td>6</td>\n",
              "      <td>0</td>\n",
              "      <td>3.0</td>\n",
              "      <td>4.0</td>\n",
              "      <td>2.0</td>\n",
              "      <td>3</td>\n",
              "      <td>6.8702</td>\n",
              "      <td>0</td>\n",
              "    </tr>\n",
              "    <tr>\n",
              "      <th>1</th>\n",
              "      <td>Travel_Frequently</td>\n",
              "      <td>Research &amp; Development</td>\n",
              "      <td>10</td>\n",
              "      <td>1</td>\n",
              "      <td>Life Sciences</td>\n",
              "      <td>1</td>\n",
              "      <td>Research Scientist</td>\n",
              "      <td>Single</td>\n",
              "      <td>41890</td>\n",
              "      <td>0.0</td>\n",
              "      <td>...</td>\n",
              "      <td>1</td>\n",
              "      <td>6.0</td>\n",
              "      <td>3</td>\n",
              "      <td>4</td>\n",
              "      <td>3.0</td>\n",
              "      <td>2.0</td>\n",
              "      <td>4.0</td>\n",
              "      <td>2</td>\n",
              "      <td>7.3160</td>\n",
              "      <td>1</td>\n",
              "    </tr>\n",
              "    <tr>\n",
              "      <th>2</th>\n",
              "      <td>Travel_Frequently</td>\n",
              "      <td>Research &amp; Development</td>\n",
              "      <td>17</td>\n",
              "      <td>4</td>\n",
              "      <td>Other</td>\n",
              "      <td>4</td>\n",
              "      <td>Sales Executive</td>\n",
              "      <td>Married</td>\n",
              "      <td>193280</td>\n",
              "      <td>1.0</td>\n",
              "      <td>...</td>\n",
              "      <td>3</td>\n",
              "      <td>5.0</td>\n",
              "      <td>2</td>\n",
              "      <td>3</td>\n",
              "      <td>2.0</td>\n",
              "      <td>2.0</td>\n",
              "      <td>1.0</td>\n",
              "      <td>3</td>\n",
              "      <td>6.8161</td>\n",
              "      <td>0</td>\n",
              "    </tr>\n",
              "    <tr>\n",
              "      <th>3</th>\n",
              "      <td>Non-Travel</td>\n",
              "      <td>Research &amp; Development</td>\n",
              "      <td>2</td>\n",
              "      <td>5</td>\n",
              "      <td>Life Sciences</td>\n",
              "      <td>3</td>\n",
              "      <td>Human Resources</td>\n",
              "      <td>Married</td>\n",
              "      <td>83210</td>\n",
              "      <td>3.0</td>\n",
              "      <td>...</td>\n",
              "      <td>3</td>\n",
              "      <td>13.0</td>\n",
              "      <td>5</td>\n",
              "      <td>5</td>\n",
              "      <td>4.0</td>\n",
              "      <td>4.0</td>\n",
              "      <td>3.0</td>\n",
              "      <td>2</td>\n",
              "      <td>6.7892</td>\n",
              "      <td>0</td>\n",
              "    </tr>\n",
              "    <tr>\n",
              "      <th>4</th>\n",
              "      <td>Travel_Rarely</td>\n",
              "      <td>Research &amp; Development</td>\n",
              "      <td>10</td>\n",
              "      <td>1</td>\n",
              "      <td>Medical</td>\n",
              "      <td>1</td>\n",
              "      <td>Sales Executive</td>\n",
              "      <td>Single</td>\n",
              "      <td>23420</td>\n",
              "      <td>4.0</td>\n",
              "      <td>...</td>\n",
              "      <td>2</td>\n",
              "      <td>9.0</td>\n",
              "      <td>2</td>\n",
              "      <td>4</td>\n",
              "      <td>4.0</td>\n",
              "      <td>1.0</td>\n",
              "      <td>3.0</td>\n",
              "      <td>3</td>\n",
              "      <td>7.8776</td>\n",
              "      <td>0</td>\n",
              "    </tr>\n",
              "    <tr>\n",
              "      <th>...</th>\n",
              "      <td>...</td>\n",
              "      <td>...</td>\n",
              "      <td>...</td>\n",
              "      <td>...</td>\n",
              "      <td>...</td>\n",
              "      <td>...</td>\n",
              "      <td>...</td>\n",
              "      <td>...</td>\n",
              "      <td>...</td>\n",
              "      <td>...</td>\n",
              "      <td>...</td>\n",
              "      <td>...</td>\n",
              "      <td>...</td>\n",
              "      <td>...</td>\n",
              "      <td>...</td>\n",
              "      <td>...</td>\n",
              "      <td>...</td>\n",
              "      <td>...</td>\n",
              "      <td>...</td>\n",
              "      <td>...</td>\n",
              "      <td>...</td>\n",
              "    </tr>\n",
              "    <tr>\n",
              "      <th>4405</th>\n",
              "      <td>Travel_Rarely</td>\n",
              "      <td>Research &amp; Development</td>\n",
              "      <td>5</td>\n",
              "      <td>4</td>\n",
              "      <td>Medical</td>\n",
              "      <td>1</td>\n",
              "      <td>Research Scientist</td>\n",
              "      <td>Single</td>\n",
              "      <td>60290</td>\n",
              "      <td>3.0</td>\n",
              "      <td>...</td>\n",
              "      <td>1</td>\n",
              "      <td>10.0</td>\n",
              "      <td>5</td>\n",
              "      <td>2</td>\n",
              "      <td>4.0</td>\n",
              "      <td>1.0</td>\n",
              "      <td>3.0</td>\n",
              "      <td>3</td>\n",
              "      <td>8.3169</td>\n",
              "      <td>0</td>\n",
              "    </tr>\n",
              "    <tr>\n",
              "      <th>4406</th>\n",
              "      <td>Travel_Rarely</td>\n",
              "      <td>Research &amp; Development</td>\n",
              "      <td>2</td>\n",
              "      <td>4</td>\n",
              "      <td>Medical</td>\n",
              "      <td>1</td>\n",
              "      <td>Laboratory Technician</td>\n",
              "      <td>Divorced</td>\n",
              "      <td>26790</td>\n",
              "      <td>2.0</td>\n",
              "      <td>...</td>\n",
              "      <td>0</td>\n",
              "      <td>10.0</td>\n",
              "      <td>2</td>\n",
              "      <td>2</td>\n",
              "      <td>4.0</td>\n",
              "      <td>4.0</td>\n",
              "      <td>3.0</td>\n",
              "      <td>2</td>\n",
              "      <td>5.8972</td>\n",
              "      <td>0</td>\n",
              "    </tr>\n",
              "    <tr>\n",
              "      <th>4407</th>\n",
              "      <td>Travel_Rarely</td>\n",
              "      <td>Research &amp; Development</td>\n",
              "      <td>25</td>\n",
              "      <td>2</td>\n",
              "      <td>Life Sciences</td>\n",
              "      <td>2</td>\n",
              "      <td>Sales Executive</td>\n",
              "      <td>Married</td>\n",
              "      <td>37020</td>\n",
              "      <td>0.0</td>\n",
              "      <td>...</td>\n",
              "      <td>0</td>\n",
              "      <td>5.0</td>\n",
              "      <td>4</td>\n",
              "      <td>2</td>\n",
              "      <td>1.0</td>\n",
              "      <td>3.0</td>\n",
              "      <td>3.0</td>\n",
              "      <td>3</td>\n",
              "      <td>7.1495</td>\n",
              "      <td>0</td>\n",
              "    </tr>\n",
              "    <tr>\n",
              "      <th>4408</th>\n",
              "      <td>Travel_Rarely</td>\n",
              "      <td>Sales</td>\n",
              "      <td>18</td>\n",
              "      <td>2</td>\n",
              "      <td>Medical</td>\n",
              "      <td>1</td>\n",
              "      <td>Laboratory Technician</td>\n",
              "      <td>Divorced</td>\n",
              "      <td>23980</td>\n",
              "      <td>0.0</td>\n",
              "      <td>...</td>\n",
              "      <td>1</td>\n",
              "      <td>10.0</td>\n",
              "      <td>2</td>\n",
              "      <td>8</td>\n",
              "      <td>4.0</td>\n",
              "      <td>1.0</td>\n",
              "      <td>3.0</td>\n",
              "      <td>2</td>\n",
              "      <td>9.1876</td>\n",
              "      <td>0</td>\n",
              "    </tr>\n",
              "    <tr>\n",
              "      <th>4409</th>\n",
              "      <td>Travel_Rarely</td>\n",
              "      <td>Research &amp; Development</td>\n",
              "      <td>28</td>\n",
              "      <td>3</td>\n",
              "      <td>Medical</td>\n",
              "      <td>2</td>\n",
              "      <td>Laboratory Technician</td>\n",
              "      <td>Divorced</td>\n",
              "      <td>54680</td>\n",
              "      <td>0.0</td>\n",
              "      <td>...</td>\n",
              "      <td>0</td>\n",
              "      <td>11.0</td>\n",
              "      <td>6</td>\n",
              "      <td>9</td>\n",
              "      <td>1.0</td>\n",
              "      <td>3.0</td>\n",
              "      <td>3.0</td>\n",
              "      <td>4</td>\n",
              "      <td>6.5118</td>\n",
              "      <td>0</td>\n",
              "    </tr>\n",
              "  </tbody>\n",
              "</table>\n",
              "<p>4410 rows × 21 columns</p>\n",
              "</div>"
            ],
            "text/plain": [
              "      frecuencia_viajes            departamento  distancia_domicilio  \\\n",
              "0         Travel_Rarely                   Sales                    6   \n",
              "1     Travel_Frequently  Research & Development                   10   \n",
              "2     Travel_Frequently  Research & Development                   17   \n",
              "3            Non-Travel  Research & Development                    2   \n",
              "4         Travel_Rarely  Research & Development                   10   \n",
              "...                 ...                     ...                  ...   \n",
              "4405      Travel_Rarely  Research & Development                    5   \n",
              "4406      Travel_Rarely  Research & Development                    2   \n",
              "4407      Travel_Rarely  Research & Development                   25   \n",
              "4408      Travel_Rarely                   Sales                   18   \n",
              "4409      Travel_Rarely  Research & Development                   28   \n",
              "\n",
              "      educacion      formacion  nivel_de_cargo               nombre_cargo  \\\n",
              "0             2  Life Sciences               1  Healthcare Representative   \n",
              "1             1  Life Sciences               1         Research Scientist   \n",
              "2             4          Other               4            Sales Executive   \n",
              "3             5  Life Sciences               3            Human Resources   \n",
              "4             1        Medical               1            Sales Executive   \n",
              "...         ...            ...             ...                        ...   \n",
              "4405          4        Medical               1         Research Scientist   \n",
              "4406          4        Medical               1      Laboratory Technician   \n",
              "4407          2  Life Sciences               2            Sales Executive   \n",
              "4408          2        Medical               1      Laboratory Technician   \n",
              "4409          3        Medical               2      Laboratory Technician   \n",
              "\n",
              "     estado_civil  ingresos_mensuales  empresas_anteriores  ...  \\\n",
              "0         Married              131160                  1.0  ...   \n",
              "1          Single               41890                  0.0  ...   \n",
              "2         Married              193280                  1.0  ...   \n",
              "3         Married               83210                  3.0  ...   \n",
              "4          Single               23420                  4.0  ...   \n",
              "...           ...                 ...                  ...  ...   \n",
              "4405       Single               60290                  3.0  ...   \n",
              "4406     Divorced               26790                  2.0  ...   \n",
              "4407      Married               37020                  0.0  ...   \n",
              "4408     Divorced               23980                  0.0  ...   \n",
              "4409     Divorced               54680                  0.0  ...   \n",
              "\n",
              "      nivel_de_opciones  años_de_trabajo  numero_capacitaciones  \\\n",
              "0                     0              1.0                      6   \n",
              "1                     1              6.0                      3   \n",
              "2                     3              5.0                      2   \n",
              "3                     3             13.0                      5   \n",
              "4                     2              9.0                      2   \n",
              "...                 ...              ...                    ...   \n",
              "4405                  1             10.0                      5   \n",
              "4406                  0             10.0                      2   \n",
              "4407                  0              5.0                      4   \n",
              "4408                  1             10.0                      2   \n",
              "4409                  0             11.0                      6   \n",
              "\n",
              "     años_jefe_actual  satisfaccion_entorno  satisfaccion_laboral  \\\n",
              "0                   0                   3.0                   4.0   \n",
              "1                   4                   3.0                   2.0   \n",
              "2                   3                   2.0                   2.0   \n",
              "3                   5                   4.0                   4.0   \n",
              "4                   4                   4.0                   1.0   \n",
              "...               ...                   ...                   ...   \n",
              "4405                2                   4.0                   1.0   \n",
              "4406                2                   4.0                   4.0   \n",
              "4407                2                   1.0                   3.0   \n",
              "4408                8                   4.0                   1.0   \n",
              "4409                9                   1.0                   3.0   \n",
              "\n",
              "      conciliacion_faimilar_laboral  implicacion_laboral  tiempo_prom_dia  \\\n",
              "0                               2.0                    3           6.8702   \n",
              "1                               4.0                    2           7.3160   \n",
              "2                               1.0                    3           6.8161   \n",
              "3                               3.0                    2           6.7892   \n",
              "4                               3.0                    3           7.8776   \n",
              "...                             ...                  ...              ...   \n",
              "4405                            3.0                    3           8.3169   \n",
              "4406                            3.0                    2           5.8972   \n",
              "4407                            3.0                    3           7.1495   \n",
              "4408                            3.0                    2           9.1876   \n",
              "4409                            3.0                    4           6.5118   \n",
              "\n",
              "      desercion  \n",
              "0             0  \n",
              "1             1  \n",
              "2             0  \n",
              "3             0  \n",
              "4             0  \n",
              "...         ...  \n",
              "4405          0  \n",
              "4406          0  \n",
              "4407          0  \n",
              "4408          0  \n",
              "4409          0  \n",
              "\n",
              "[4410 rows x 21 columns]"
            ]
          },
          "execution_count": 8,
          "metadata": {},
          "output_type": "execute_result"
        }
      ],
      "source": [
        "tablabase[\"desercion\"]=tablabase['desercion_año_anterior'].replace({'No':0, 'Yes':1})\n",
        "del tablabase['desercion_año_anterior']\n",
        "tablabase"
      ]
    },
    {
      "cell_type": "code",
      "execution_count": 9,
      "metadata": {
        "id": "nKyVsIj84dgG",
        "outputId": "f0bead88-2185-49e1-cc39-39fadeb9a0af"
      },
      "outputs": [
        {
          "data": {
            "text/html": [
              "<div>\n",
              "<style scoped>\n",
              "    .dataframe tbody tr th:only-of-type {\n",
              "        vertical-align: middle;\n",
              "    }\n",
              "\n",
              "    .dataframe tbody tr th {\n",
              "        vertical-align: top;\n",
              "    }\n",
              "\n",
              "    .dataframe thead th {\n",
              "        text-align: right;\n",
              "    }\n",
              "</style>\n",
              "<table border=\"1\" class=\"dataframe\">\n",
              "  <thead>\n",
              "    <tr style=\"text-align: right;\">\n",
              "      <th></th>\n",
              "      <th>distancia_domicilio</th>\n",
              "      <th>educacion</th>\n",
              "      <th>nivel_de_cargo</th>\n",
              "      <th>ingresos_mensuales</th>\n",
              "      <th>empresas_anteriores</th>\n",
              "      <th>porcentaje_aumentosalario</th>\n",
              "      <th>nivel_de_opciones</th>\n",
              "      <th>años_de_trabajo</th>\n",
              "      <th>años_jefe_actual</th>\n",
              "      <th>satisfaccion_entorno</th>\n",
              "      <th>...</th>\n",
              "      <th>estado_civil_Divorced</th>\n",
              "      <th>estado_civil_Married</th>\n",
              "      <th>estado_civil_Single</th>\n",
              "      <th>numero_capacitaciones_0</th>\n",
              "      <th>numero_capacitaciones_1</th>\n",
              "      <th>numero_capacitaciones_2</th>\n",
              "      <th>numero_capacitaciones_3</th>\n",
              "      <th>numero_capacitaciones_4</th>\n",
              "      <th>numero_capacitaciones_5</th>\n",
              "      <th>numero_capacitaciones_6</th>\n",
              "    </tr>\n",
              "  </thead>\n",
              "  <tbody>\n",
              "    <tr>\n",
              "      <th>0</th>\n",
              "      <td>6</td>\n",
              "      <td>2</td>\n",
              "      <td>1</td>\n",
              "      <td>131160</td>\n",
              "      <td>1.0</td>\n",
              "      <td>11</td>\n",
              "      <td>0</td>\n",
              "      <td>1.0</td>\n",
              "      <td>0</td>\n",
              "      <td>3.0</td>\n",
              "      <td>...</td>\n",
              "      <td>0</td>\n",
              "      <td>1</td>\n",
              "      <td>0</td>\n",
              "      <td>0</td>\n",
              "      <td>0</td>\n",
              "      <td>0</td>\n",
              "      <td>0</td>\n",
              "      <td>0</td>\n",
              "      <td>0</td>\n",
              "      <td>1</td>\n",
              "    </tr>\n",
              "    <tr>\n",
              "      <th>1</th>\n",
              "      <td>10</td>\n",
              "      <td>1</td>\n",
              "      <td>1</td>\n",
              "      <td>41890</td>\n",
              "      <td>0.0</td>\n",
              "      <td>23</td>\n",
              "      <td>1</td>\n",
              "      <td>6.0</td>\n",
              "      <td>4</td>\n",
              "      <td>3.0</td>\n",
              "      <td>...</td>\n",
              "      <td>0</td>\n",
              "      <td>0</td>\n",
              "      <td>1</td>\n",
              "      <td>0</td>\n",
              "      <td>0</td>\n",
              "      <td>0</td>\n",
              "      <td>1</td>\n",
              "      <td>0</td>\n",
              "      <td>0</td>\n",
              "      <td>0</td>\n",
              "    </tr>\n",
              "    <tr>\n",
              "      <th>2</th>\n",
              "      <td>17</td>\n",
              "      <td>4</td>\n",
              "      <td>4</td>\n",
              "      <td>193280</td>\n",
              "      <td>1.0</td>\n",
              "      <td>15</td>\n",
              "      <td>3</td>\n",
              "      <td>5.0</td>\n",
              "      <td>3</td>\n",
              "      <td>2.0</td>\n",
              "      <td>...</td>\n",
              "      <td>0</td>\n",
              "      <td>1</td>\n",
              "      <td>0</td>\n",
              "      <td>0</td>\n",
              "      <td>0</td>\n",
              "      <td>1</td>\n",
              "      <td>0</td>\n",
              "      <td>0</td>\n",
              "      <td>0</td>\n",
              "      <td>0</td>\n",
              "    </tr>\n",
              "    <tr>\n",
              "      <th>3</th>\n",
              "      <td>2</td>\n",
              "      <td>5</td>\n",
              "      <td>3</td>\n",
              "      <td>83210</td>\n",
              "      <td>3.0</td>\n",
              "      <td>11</td>\n",
              "      <td>3</td>\n",
              "      <td>13.0</td>\n",
              "      <td>5</td>\n",
              "      <td>4.0</td>\n",
              "      <td>...</td>\n",
              "      <td>0</td>\n",
              "      <td>1</td>\n",
              "      <td>0</td>\n",
              "      <td>0</td>\n",
              "      <td>0</td>\n",
              "      <td>0</td>\n",
              "      <td>0</td>\n",
              "      <td>0</td>\n",
              "      <td>1</td>\n",
              "      <td>0</td>\n",
              "    </tr>\n",
              "    <tr>\n",
              "      <th>4</th>\n",
              "      <td>10</td>\n",
              "      <td>1</td>\n",
              "      <td>1</td>\n",
              "      <td>23420</td>\n",
              "      <td>4.0</td>\n",
              "      <td>12</td>\n",
              "      <td>2</td>\n",
              "      <td>9.0</td>\n",
              "      <td>4</td>\n",
              "      <td>4.0</td>\n",
              "      <td>...</td>\n",
              "      <td>0</td>\n",
              "      <td>0</td>\n",
              "      <td>1</td>\n",
              "      <td>0</td>\n",
              "      <td>0</td>\n",
              "      <td>1</td>\n",
              "      <td>0</td>\n",
              "      <td>0</td>\n",
              "      <td>0</td>\n",
              "      <td>0</td>\n",
              "    </tr>\n",
              "    <tr>\n",
              "      <th>...</th>\n",
              "      <td>...</td>\n",
              "      <td>...</td>\n",
              "      <td>...</td>\n",
              "      <td>...</td>\n",
              "      <td>...</td>\n",
              "      <td>...</td>\n",
              "      <td>...</td>\n",
              "      <td>...</td>\n",
              "      <td>...</td>\n",
              "      <td>...</td>\n",
              "      <td>...</td>\n",
              "      <td>...</td>\n",
              "      <td>...</td>\n",
              "      <td>...</td>\n",
              "      <td>...</td>\n",
              "      <td>...</td>\n",
              "      <td>...</td>\n",
              "      <td>...</td>\n",
              "      <td>...</td>\n",
              "      <td>...</td>\n",
              "      <td>...</td>\n",
              "    </tr>\n",
              "    <tr>\n",
              "      <th>4405</th>\n",
              "      <td>5</td>\n",
              "      <td>4</td>\n",
              "      <td>1</td>\n",
              "      <td>60290</td>\n",
              "      <td>3.0</td>\n",
              "      <td>17</td>\n",
              "      <td>1</td>\n",
              "      <td>10.0</td>\n",
              "      <td>2</td>\n",
              "      <td>4.0</td>\n",
              "      <td>...</td>\n",
              "      <td>0</td>\n",
              "      <td>0</td>\n",
              "      <td>1</td>\n",
              "      <td>0</td>\n",
              "      <td>0</td>\n",
              "      <td>0</td>\n",
              "      <td>0</td>\n",
              "      <td>0</td>\n",
              "      <td>1</td>\n",
              "      <td>0</td>\n",
              "    </tr>\n",
              "    <tr>\n",
              "      <th>4406</th>\n",
              "      <td>2</td>\n",
              "      <td>4</td>\n",
              "      <td>1</td>\n",
              "      <td>26790</td>\n",
              "      <td>2.0</td>\n",
              "      <td>15</td>\n",
              "      <td>0</td>\n",
              "      <td>10.0</td>\n",
              "      <td>2</td>\n",
              "      <td>4.0</td>\n",
              "      <td>...</td>\n",
              "      <td>1</td>\n",
              "      <td>0</td>\n",
              "      <td>0</td>\n",
              "      <td>0</td>\n",
              "      <td>0</td>\n",
              "      <td>1</td>\n",
              "      <td>0</td>\n",
              "      <td>0</td>\n",
              "      <td>0</td>\n",
              "      <td>0</td>\n",
              "    </tr>\n",
              "    <tr>\n",
              "      <th>4407</th>\n",
              "      <td>25</td>\n",
              "      <td>2</td>\n",
              "      <td>2</td>\n",
              "      <td>37020</td>\n",
              "      <td>0.0</td>\n",
              "      <td>20</td>\n",
              "      <td>0</td>\n",
              "      <td>5.0</td>\n",
              "      <td>2</td>\n",
              "      <td>1.0</td>\n",
              "      <td>...</td>\n",
              "      <td>0</td>\n",
              "      <td>1</td>\n",
              "      <td>0</td>\n",
              "      <td>0</td>\n",
              "      <td>0</td>\n",
              "      <td>0</td>\n",
              "      <td>0</td>\n",
              "      <td>1</td>\n",
              "      <td>0</td>\n",
              "      <td>0</td>\n",
              "    </tr>\n",
              "    <tr>\n",
              "      <th>4408</th>\n",
              "      <td>18</td>\n",
              "      <td>2</td>\n",
              "      <td>1</td>\n",
              "      <td>23980</td>\n",
              "      <td>0.0</td>\n",
              "      <td>14</td>\n",
              "      <td>1</td>\n",
              "      <td>10.0</td>\n",
              "      <td>8</td>\n",
              "      <td>4.0</td>\n",
              "      <td>...</td>\n",
              "      <td>1</td>\n",
              "      <td>0</td>\n",
              "      <td>0</td>\n",
              "      <td>0</td>\n",
              "      <td>0</td>\n",
              "      <td>1</td>\n",
              "      <td>0</td>\n",
              "      <td>0</td>\n",
              "      <td>0</td>\n",
              "      <td>0</td>\n",
              "    </tr>\n",
              "    <tr>\n",
              "      <th>4409</th>\n",
              "      <td>28</td>\n",
              "      <td>3</td>\n",
              "      <td>2</td>\n",
              "      <td>54680</td>\n",
              "      <td>0.0</td>\n",
              "      <td>12</td>\n",
              "      <td>0</td>\n",
              "      <td>11.0</td>\n",
              "      <td>9</td>\n",
              "      <td>1.0</td>\n",
              "      <td>...</td>\n",
              "      <td>1</td>\n",
              "      <td>0</td>\n",
              "      <td>0</td>\n",
              "      <td>0</td>\n",
              "      <td>0</td>\n",
              "      <td>0</td>\n",
              "      <td>0</td>\n",
              "      <td>0</td>\n",
              "      <td>0</td>\n",
              "      <td>1</td>\n",
              "    </tr>\n",
              "  </tbody>\n",
              "</table>\n",
              "<p>4410 rows × 46 columns</p>\n",
              "</div>"
            ],
            "text/plain": [
              "      distancia_domicilio  educacion  nivel_de_cargo  ingresos_mensuales  \\\n",
              "0                       6          2               1              131160   \n",
              "1                      10          1               1               41890   \n",
              "2                      17          4               4              193280   \n",
              "3                       2          5               3               83210   \n",
              "4                      10          1               1               23420   \n",
              "...                   ...        ...             ...                 ...   \n",
              "4405                    5          4               1               60290   \n",
              "4406                    2          4               1               26790   \n",
              "4407                   25          2               2               37020   \n",
              "4408                   18          2               1               23980   \n",
              "4409                   28          3               2               54680   \n",
              "\n",
              "      empresas_anteriores  porcentaje_aumentosalario  nivel_de_opciones  \\\n",
              "0                     1.0                         11                  0   \n",
              "1                     0.0                         23                  1   \n",
              "2                     1.0                         15                  3   \n",
              "3                     3.0                         11                  3   \n",
              "4                     4.0                         12                  2   \n",
              "...                   ...                        ...                ...   \n",
              "4405                  3.0                         17                  1   \n",
              "4406                  2.0                         15                  0   \n",
              "4407                  0.0                         20                  0   \n",
              "4408                  0.0                         14                  1   \n",
              "4409                  0.0                         12                  0   \n",
              "\n",
              "      años_de_trabajo  años_jefe_actual  satisfaccion_entorno  ...  \\\n",
              "0                 1.0                 0                   3.0  ...   \n",
              "1                 6.0                 4                   3.0  ...   \n",
              "2                 5.0                 3                   2.0  ...   \n",
              "3                13.0                 5                   4.0  ...   \n",
              "4                 9.0                 4                   4.0  ...   \n",
              "...               ...               ...                   ...  ...   \n",
              "4405             10.0                 2                   4.0  ...   \n",
              "4406             10.0                 2                   4.0  ...   \n",
              "4407              5.0                 2                   1.0  ...   \n",
              "4408             10.0                 8                   4.0  ...   \n",
              "4409             11.0                 9                   1.0  ...   \n",
              "\n",
              "      estado_civil_Divorced  estado_civil_Married  estado_civil_Single  \\\n",
              "0                         0                     1                    0   \n",
              "1                         0                     0                    1   \n",
              "2                         0                     1                    0   \n",
              "3                         0                     1                    0   \n",
              "4                         0                     0                    1   \n",
              "...                     ...                   ...                  ...   \n",
              "4405                      0                     0                    1   \n",
              "4406                      1                     0                    0   \n",
              "4407                      0                     1                    0   \n",
              "4408                      1                     0                    0   \n",
              "4409                      1                     0                    0   \n",
              "\n",
              "      numero_capacitaciones_0  numero_capacitaciones_1  \\\n",
              "0                           0                        0   \n",
              "1                           0                        0   \n",
              "2                           0                        0   \n",
              "3                           0                        0   \n",
              "4                           0                        0   \n",
              "...                       ...                      ...   \n",
              "4405                        0                        0   \n",
              "4406                        0                        0   \n",
              "4407                        0                        0   \n",
              "4408                        0                        0   \n",
              "4409                        0                        0   \n",
              "\n",
              "      numero_capacitaciones_2  numero_capacitaciones_3  \\\n",
              "0                           0                        0   \n",
              "1                           0                        1   \n",
              "2                           1                        0   \n",
              "3                           0                        0   \n",
              "4                           1                        0   \n",
              "...                       ...                      ...   \n",
              "4405                        0                        0   \n",
              "4406                        1                        0   \n",
              "4407                        0                        0   \n",
              "4408                        1                        0   \n",
              "4409                        0                        0   \n",
              "\n",
              "      numero_capacitaciones_4  numero_capacitaciones_5  \\\n",
              "0                           0                        0   \n",
              "1                           0                        0   \n",
              "2                           0                        0   \n",
              "3                           0                        1   \n",
              "4                           0                        0   \n",
              "...                       ...                      ...   \n",
              "4405                        0                        1   \n",
              "4406                        0                        0   \n",
              "4407                        1                        0   \n",
              "4408                        0                        0   \n",
              "4409                        0                        0   \n",
              "\n",
              "      numero_capacitaciones_6  \n",
              "0                           1  \n",
              "1                           0  \n",
              "2                           0  \n",
              "3                           0  \n",
              "4                           0  \n",
              "...                       ...  \n",
              "4405                        0  \n",
              "4406                        0  \n",
              "4407                        0  \n",
              "4408                        0  \n",
              "4409                        1  \n",
              "\n",
              "[4410 rows x 46 columns]"
            ]
          },
          "execution_count": 9,
          "metadata": {},
          "output_type": "execute_result"
        }
      ],
      "source": [
        "tablabase1=pd.get_dummies(tablabase)\n",
        "tablabase1"
      ]
    },
    {
      "cell_type": "code",
      "execution_count": 10,
      "metadata": {
        "id": "oAcX6NCn4dgK"
      },
      "outputs": [],
      "source": [
        "y=tablabase1[\"desercion\"]\n",
        "x=tablabase1.drop([\"desercion\"],axis=1)\n",
        "\n",
        "X_train, X_test, y_train, y_test = train_test_split(x, y, test_size=0.2)\n",
        "\n",
        "columnasenteras=[\"distancia_domicilio\",\"educacion\",\"nivel_de_cargo\",\"ingresos_mensuales\",\"porcentaje_aumentosalario\",\"nivel_de_opciones\",\"años_jefe_actual\",\"implicacion_laboral\"]\n",
        "tablabase1[columnasenteras]=tablabase1[columnasenteras].astype(float)\n",
        "columnasfloat=list(tablabase1.select_dtypes(\"float64\").columns)\n",
        "pipeline=ColumnTransformer([(\"num\", StandardScaler(),columnasfloat)],remainder='passthrough')\n",
        "\n",
        "X_train_std = pipeline.fit_transform(X_train)\n",
        "X_test_std = pipeline.transform(X_test)"
      ]
    },
    {
      "cell_type": "markdown",
      "metadata": {},
      "source": [
        "# Modelo base"
      ]
    },
    {
      "cell_type": "markdown",
      "metadata": {},
      "source": [
        "## Modelo base sin balanceo de clases"
      ]
    },
    {
      "cell_type": "code",
      "execution_count": 15,
      "metadata": {},
      "outputs": [
        {
          "name": "stdout",
          "output_type": "stream",
          "text": [
            "Exactitud en el entrenamiento: 0.862\n"
          ]
        }
      ],
      "source": [
        "# Entrenamiento del modelo\n",
        "modelo = LogisticRegression()\n",
        "# Ajustar el modelo a los datos\n",
        "modelo.fit(X_train_std, y_train)\n",
        "# Desempeño en el entrenamiento\n",
        "y_train_pred = modelo.predict(X_train_std)\n",
        "print('Exactitud en el entrenamiento: %.3f'  %accuracy_score(y_train, y_train_pred))"
      ]
    },
    {
      "cell_type": "code",
      "execution_count": 16,
      "metadata": {},
      "outputs": [
        {
          "name": "stdout",
          "output_type": "stream",
          "text": [
            "Exactitud en la validacion: 0.851\n"
          ]
        }
      ],
      "source": [
        "y_pred = modelo.predict(X_test_std)\n",
        "# Exactitud en el conjunto de validación\n",
        "print('Exactitud en la validacion: %.3f'  %accuracy_score(y_test, y_pred))"
      ]
    },
    {
      "cell_type": "code",
      "execution_count": 17,
      "metadata": {},
      "outputs": [
        {
          "data": {
            "image/png": "[encoded data removed]",
            "text/plain": [
              "<Figure size 640x480 with 2 Axes>"
            ]
          },
          "metadata": {},
          "output_type": "display_data"
        }
      ],
      "source": [
        "matriz= confusion_matrix(y_test, y_pred)\n",
        "matriz_display = ConfusionMatrixDisplay(confusion_matrix=matriz, display_labels=['No renuncia', 'renuncia'])\n",
        "matriz_display.plot()\n",
        "plt.show()"
      ]
    },
    {
      "cell_type": "code",
      "execution_count": 20,
      "metadata": {},
      "outputs": [
        {
          "name": "stdout",
          "output_type": "stream",
          "text": [
            "Precision: 0.7192982456140351\n",
            "Recall: 0.26282051282051283\n",
            "Especificidad: 0.977961432506887\n",
            "F1 score: 0.38497652582159625\n"
          ]
        }
      ],
      "source": [
        "tn, fp, fn, tp = matriz.ravel()\n",
        "\n",
        "precision = tp / (tp + fp)\n",
        "recall = tp / (tp + fn)\n",
        "especificidad = tn / (fp + tn)\n",
        "f1_score = 2*(precision*recall)/(precision+recall)\n",
        "\n",
        "print(f'Precision: {precision}')\n",
        "print(f'Recall: {recall}')\n",
        "print(f'Especificidad: {especificidad}')\n",
        "print(f'F1 score: {f1_score}')"
      ]
    },
    {
      "cell_type": "code",
      "execution_count": 15,
      "metadata": {},
      "outputs": [
        {
          "name": "stdout",
          "output_type": "stream",
          "text": [
            "MSE: 0.15\n",
            "RMSE 0.38\n",
            "MAE: 0.15\n",
            "MAPE: 76591830397457.55\n",
            "R2: -0.06\n",
            "R2-adjusted: -0.12\n"
          ]
        }
      ],
      "source": [
        "# Metricas\n",
        "print(\"MSE: %.2f\" % mean_squared_error(y_test, y_pred))\n",
        "print(\"RMSE %.2f\" % math.sqrt(mean_squared_error(y_test, y_pred)))\n",
        "print(\"MAE: %.2f\" % mean_absolute_error(y_test, y_pred))\n",
        "print(\"MAPE: %.2f\" % mean_absolute_percentage_error(y_test, y_pred))\n",
        "print(\"R2: %.2f\" % r2_score(y_test, y_pred))\n",
        "\n",
        "# R2 ajustado\n",
        "r2 = r2_score(y_test, y_pred)\n",
        "adj_r2 = 1 - (1-r2)*(len(y_test)-1)/(len(y_test)-X_test_std.shape[1]-1)\n",
        "print(\"R2-adjusted: %.2f\" % adj_r2)"
      ]
    },
    {
      "cell_type": "markdown",
      "metadata": {},
      "source": [
        "## Modelo base con balaceno de clases"
      ]
    },
    {
      "cell_type": "code",
      "execution_count": 21,
      "metadata": {},
      "outputs": [
        {
          "name": "stdout",
          "output_type": "stream",
          "text": [
            "Exactitud en el entrenamiento: 0.755\n"
          ]
        }
      ],
      "source": [
        "from sklearn.metrics import accuracy_score\n",
        "X_train_std1=X_train_std.copy()\n",
        "X_test_std1=X_test_std.copy()\n",
        "# Entrenamiento del modelo\n",
        "modelo1 = LogisticRegression(class_weight=\"balanced\",random_state=142)\n",
        "\n",
        "# Ajustar el modelo a los datos\n",
        "modelo1.fit(X_train_std1, y_train)\n",
        "\n",
        "# Desempeño en el entrenamiento\n",
        "y_train_pred1 = modelo1.predict(X_train_std1)\n",
        "\n",
        "print('Exactitud en el entrenamiento: %.3f'  %accuracy_score(y_train, y_train_pred1) )"
      ]
    },
    {
      "cell_type": "code",
      "execution_count": 22,
      "metadata": {},
      "outputs": [
        {
          "name": "stdout",
          "output_type": "stream",
          "text": [
            "Exactitud en el validacion: 0.711\n"
          ]
        }
      ],
      "source": [
        "y_pred1 = modelo1.predict(X_test_std1)\n",
        "\n",
        "# Exactitud en el conjunto de validación\n",
        "print('Exactitud en el validacion: %.3f'  %accuracy_score(y_test, y_pred1))"
      ]
    },
    {
      "cell_type": "code",
      "execution_count": 23,
      "metadata": {},
      "outputs": [
        {
          "data": {
            "image/png": "[encoded data removed]",
            "text/plain": [
              "<Figure size 640x480 with 2 Axes>"
            ]
          },
          "metadata": {},
          "output_type": "display_data"
        }
      ],
      "source": [
        "from sklearn.metrics import confusion_matrix, ConfusionMatrixDisplay\n",
        "matriz1= confusion_matrix(y_test, y_pred1)\n",
        "matriz_display1 = ConfusionMatrixDisplay(confusion_matrix=matriz1, display_labels=['No renuncia', 'renuncia'])\n",
        "matriz_display1.plot()\n",
        "plt.show()"
      ]
    },
    {
      "cell_type": "code",
      "execution_count": 24,
      "metadata": {},
      "outputs": [
        {
          "name": "stdout",
          "output_type": "stream",
          "text": [
            "Precision: 0.34579439252336447\n",
            "Recall: 0.7115384615384616\n",
            "Especificidad: 0.7107438016528925\n",
            "F1 score: 0.4654088050314465\n"
          ]
        }
      ],
      "source": [
        "tn, fp, fn, tp = matriz1.ravel()\n",
        "\n",
        "precision = tp / (tp + fp)\n",
        "recall = tp / (tp + fn)\n",
        "especificidad = tn / (fp + tn)\n",
        "f1_score = 2*(precision*recall)/(precision+recall)\n",
        "\n",
        "print(f'Precision: {precision}')\n",
        "print(f'Recall: {recall}')\n",
        "print(f'Especificidad: {especificidad}')\n",
        "print(f'F1 score: {f1_score}')"
      ]
    },
    {
      "cell_type": "code",
      "execution_count": 20,
      "metadata": {},
      "outputs": [
        {
          "name": "stdout",
          "output_type": "stream",
          "text": [
            "MSE: 0.27\n",
            "RMSE 0.52\n",
            "MAE: 0.27\n",
            "MAPE: 1046755015431918.00\n",
            "R2: -0.95\n",
            "R2-adjusted: -1.06\n"
          ]
        }
      ],
      "source": [
        "# Metricas\n",
        "print(\"MSE: %.2f\" % mean_squared_error(y_test, y_pred1))\n",
        "print(\"RMSE %.2f\" % math.sqrt(mean_squared_error(y_test, y_pred1)))\n",
        "print(\"MAE: %.2f\" % mean_absolute_error(y_test, y_pred1))\n",
        "print(\"MAPE: %.2f\" % mean_absolute_percentage_error(y_test, y_pred1))\n",
        "print(\"R2: %.2f\" % r2_score(y_test, y_pred1))\n",
        "\n",
        "# R2 ajustado\n",
        "r2 = r2_score(y_test, y_pred1)\n",
        "adj_r2 = 1 - (1-r2)*(len(y_test)-1)/(len(y_test)-X_test_std1.shape[1]-1)\n",
        "print(\"R2-adjusted: %.2f\" % adj_r2)"
      ]
    },
    {
      "cell_type": "markdown",
      "metadata": {},
      "source": [
        "# Balanceo de clases manual"
      ]
    },
    {
      "cell_type": "code",
      "execution_count": 25,
      "metadata": {},
      "outputs": [
        {
          "name": "stdout",
          "output_type": "stream",
          "text": [
            "Distribution before resampling Counter({0: 2973, 1: 555})\n",
            "Distribution after resampling Counter({0: 2973, 1: 2973})\n"
          ]
        }
      ],
      "source": [
        "os_us = SMOTETomek()\n",
        "x_train_res, y_train_res = os_us.fit_resample(X_train_std, y_train)\n",
        "\n",
        "print (\"Distribution before resampling {}\".format(Counter(y_train)))\n",
        "print (\"Distribution after resampling {}\".format(Counter(y_train_res)))"
      ]
    },
    {
      "cell_type": "markdown",
      "metadata": {
        "id": "E7b76cCbBbtD"
      },
      "source": [
        "# Seleccion de variables\n"
      ]
    },
    {
      "cell_type": "markdown",
      "metadata": {},
      "source": [
        "## Metodo integrado "
      ]
    },
    {
      "cell_type": "code",
      "execution_count": 27,
      "metadata": {},
      "outputs": [],
      "source": [
        "from sklearn.feature_selection import SelectKBest, f_regression, mutual_info_regression,  f_classif, mutual_info_classif, chi2"
      ]
    },
    {
      "cell_type": "code",
      "execution_count": 28,
      "metadata": {},
      "outputs": [],
      "source": [
        "# metodo integrado\n",
        "from sklearn.feature_selection import SelectFromModel\n",
        "from sklearn.linear_model import Lasso, Ridge"
      ]
    },
    {
      "cell_type": "code",
      "execution_count": 29,
      "metadata": {},
      "outputs": [
        {
          "name": "stdout",
          "output_type": "stream",
          "text": [
            "[ 0.         -0.01106301 -0.01108084 -0.00375446  0.03221716  0.00836352\n",
            "  0.         -0.05328506 -0.02493944 -0.0411745  -0.04002483 -0.02175243\n",
            " -0.00450121  0.07195709 -0.05734431  0.10095859 -0.          0.06311189\n",
            " -0.         -0.          0.07900571  0.02161132 -0.          0.\n",
            " -0.00612766 -0.00040442 -0.01366254 -0.          0.00929093 -0.\n",
            " -0.05857216  0.05491966  0.01389304  0.02287749 -0.01925329 -0.01710018\n",
            " -0.          0.11008875  0.          0.          0.03489407  0.04574267\n",
            " -0.00328144 -0.00731964 -0.03871615]\n"
          ]
        },
        {
          "data": {
            "text/html": [
              "<div>\n",
              "<style scoped>\n",
              "    .dataframe tbody tr th:only-of-type {\n",
              "        vertical-align: middle;\n",
              "    }\n",
              "\n",
              "    .dataframe tbody tr th {\n",
              "        vertical-align: top;\n",
              "    }\n",
              "\n",
              "    .dataframe thead th {\n",
              "        text-align: right;\n",
              "    }\n",
              "</style>\n",
              "<table border=\"1\" class=\"dataframe\">\n",
              "  <thead>\n",
              "    <tr style=\"text-align: right;\">\n",
              "      <th></th>\n",
              "      <th>educacion</th>\n",
              "      <th>nivel_de_cargo</th>\n",
              "      <th>empresas_anteriores</th>\n",
              "      <th>porcentaje_aumentosalario</th>\n",
              "      <th>años_de_trabajo</th>\n",
              "      <th>años_jefe_actual</th>\n",
              "      <th>satisfaccion_entorno</th>\n",
              "      <th>satisfaccion_laboral</th>\n",
              "      <th>conciliacion_faimilar_laboral</th>\n",
              "      <th>implicacion_laboral</th>\n",
              "      <th>...</th>\n",
              "      <th>nombre_cargo_Research Director</th>\n",
              "      <th>nombre_cargo_Research Scientist</th>\n",
              "      <th>nombre_cargo_Sales Executive</th>\n",
              "      <th>nombre_cargo_Sales Representative</th>\n",
              "      <th>estado_civil_Divorced</th>\n",
              "      <th>estado_civil_Single</th>\n",
              "      <th>numero_capacitaciones_2</th>\n",
              "      <th>numero_capacitaciones_3</th>\n",
              "      <th>numero_capacitaciones_5</th>\n",
              "      <th>numero_capacitaciones_6</th>\n",
              "    </tr>\n",
              "  </thead>\n",
              "  <tbody>\n",
              "    <tr>\n",
              "      <th>3436</th>\n",
              "      <td>2</td>\n",
              "      <td>5</td>\n",
              "      <td>0.0</td>\n",
              "      <td>11</td>\n",
              "      <td>3.0</td>\n",
              "      <td>2</td>\n",
              "      <td>2.0</td>\n",
              "      <td>4.0</td>\n",
              "      <td>2.0</td>\n",
              "      <td>3</td>\n",
              "      <td>...</td>\n",
              "      <td>0</td>\n",
              "      <td>0</td>\n",
              "      <td>0</td>\n",
              "      <td>1</td>\n",
              "      <td>0</td>\n",
              "      <td>1</td>\n",
              "      <td>0</td>\n",
              "      <td>1</td>\n",
              "      <td>0</td>\n",
              "      <td>0</td>\n",
              "    </tr>\n",
              "    <tr>\n",
              "      <th>1604</th>\n",
              "      <td>3</td>\n",
              "      <td>2</td>\n",
              "      <td>4.0</td>\n",
              "      <td>23</td>\n",
              "      <td>24.0</td>\n",
              "      <td>2</td>\n",
              "      <td>1.0</td>\n",
              "      <td>1.0</td>\n",
              "      <td>2.0</td>\n",
              "      <td>2</td>\n",
              "      <td>...</td>\n",
              "      <td>0</td>\n",
              "      <td>0</td>\n",
              "      <td>0</td>\n",
              "      <td>0</td>\n",
              "      <td>0</td>\n",
              "      <td>0</td>\n",
              "      <td>1</td>\n",
              "      <td>0</td>\n",
              "      <td>0</td>\n",
              "      <td>0</td>\n",
              "    </tr>\n",
              "    <tr>\n",
              "      <th>3917</th>\n",
              "      <td>4</td>\n",
              "      <td>3</td>\n",
              "      <td>4.0</td>\n",
              "      <td>20</td>\n",
              "      <td>13.0</td>\n",
              "      <td>3</td>\n",
              "      <td>3.0</td>\n",
              "      <td>4.0</td>\n",
              "      <td>2.0</td>\n",
              "      <td>3</td>\n",
              "      <td>...</td>\n",
              "      <td>0</td>\n",
              "      <td>0</td>\n",
              "      <td>1</td>\n",
              "      <td>0</td>\n",
              "      <td>1</td>\n",
              "      <td>0</td>\n",
              "      <td>0</td>\n",
              "      <td>0</td>\n",
              "      <td>0</td>\n",
              "      <td>0</td>\n",
              "    </tr>\n",
              "    <tr>\n",
              "      <th>1497</th>\n",
              "      <td>1</td>\n",
              "      <td>1</td>\n",
              "      <td>1.0</td>\n",
              "      <td>11</td>\n",
              "      <td>17.0</td>\n",
              "      <td>7</td>\n",
              "      <td>4.0</td>\n",
              "      <td>4.0</td>\n",
              "      <td>3.0</td>\n",
              "      <td>3</td>\n",
              "      <td>...</td>\n",
              "      <td>0</td>\n",
              "      <td>1</td>\n",
              "      <td>0</td>\n",
              "      <td>0</td>\n",
              "      <td>0</td>\n",
              "      <td>1</td>\n",
              "      <td>1</td>\n",
              "      <td>0</td>\n",
              "      <td>0</td>\n",
              "      <td>0</td>\n",
              "    </tr>\n",
              "    <tr>\n",
              "      <th>3807</th>\n",
              "      <td>1</td>\n",
              "      <td>1</td>\n",
              "      <td>1.0</td>\n",
              "      <td>22</td>\n",
              "      <td>6.0</td>\n",
              "      <td>3</td>\n",
              "      <td>1.0</td>\n",
              "      <td>4.0</td>\n",
              "      <td>4.0</td>\n",
              "      <td>3</td>\n",
              "      <td>...</td>\n",
              "      <td>0</td>\n",
              "      <td>1</td>\n",
              "      <td>0</td>\n",
              "      <td>0</td>\n",
              "      <td>1</td>\n",
              "      <td>0</td>\n",
              "      <td>0</td>\n",
              "      <td>1</td>\n",
              "      <td>0</td>\n",
              "      <td>0</td>\n",
              "    </tr>\n",
              "    <tr>\n",
              "      <th>...</th>\n",
              "      <td>...</td>\n",
              "      <td>...</td>\n",
              "      <td>...</td>\n",
              "      <td>...</td>\n",
              "      <td>...</td>\n",
              "      <td>...</td>\n",
              "      <td>...</td>\n",
              "      <td>...</td>\n",
              "      <td>...</td>\n",
              "      <td>...</td>\n",
              "      <td>...</td>\n",
              "      <td>...</td>\n",
              "      <td>...</td>\n",
              "      <td>...</td>\n",
              "      <td>...</td>\n",
              "      <td>...</td>\n",
              "      <td>...</td>\n",
              "      <td>...</td>\n",
              "      <td>...</td>\n",
              "      <td>...</td>\n",
              "      <td>...</td>\n",
              "    </tr>\n",
              "    <tr>\n",
              "      <th>3767</th>\n",
              "      <td>3</td>\n",
              "      <td>2</td>\n",
              "      <td>1.0</td>\n",
              "      <td>14</td>\n",
              "      <td>7.0</td>\n",
              "      <td>7</td>\n",
              "      <td>4.0</td>\n",
              "      <td>3.0</td>\n",
              "      <td>1.0</td>\n",
              "      <td>2</td>\n",
              "      <td>...</td>\n",
              "      <td>0</td>\n",
              "      <td>0</td>\n",
              "      <td>0</td>\n",
              "      <td>0</td>\n",
              "      <td>0</td>\n",
              "      <td>1</td>\n",
              "      <td>0</td>\n",
              "      <td>1</td>\n",
              "      <td>0</td>\n",
              "      <td>0</td>\n",
              "    </tr>\n",
              "    <tr>\n",
              "      <th>1918</th>\n",
              "      <td>4</td>\n",
              "      <td>1</td>\n",
              "      <td>4.0</td>\n",
              "      <td>15</td>\n",
              "      <td>22.0</td>\n",
              "      <td>0</td>\n",
              "      <td>2.0</td>\n",
              "      <td>2.0</td>\n",
              "      <td>2.0</td>\n",
              "      <td>3</td>\n",
              "      <td>...</td>\n",
              "      <td>0</td>\n",
              "      <td>0</td>\n",
              "      <td>0</td>\n",
              "      <td>0</td>\n",
              "      <td>0</td>\n",
              "      <td>1</td>\n",
              "      <td>1</td>\n",
              "      <td>0</td>\n",
              "      <td>0</td>\n",
              "      <td>0</td>\n",
              "    </tr>\n",
              "    <tr>\n",
              "      <th>2470</th>\n",
              "      <td>4</td>\n",
              "      <td>2</td>\n",
              "      <td>1.0</td>\n",
              "      <td>13</td>\n",
              "      <td>1.0</td>\n",
              "      <td>0</td>\n",
              "      <td>4.0</td>\n",
              "      <td>1.0</td>\n",
              "      <td>3.0</td>\n",
              "      <td>3</td>\n",
              "      <td>...</td>\n",
              "      <td>0</td>\n",
              "      <td>0</td>\n",
              "      <td>0</td>\n",
              "      <td>1</td>\n",
              "      <td>1</td>\n",
              "      <td>0</td>\n",
              "      <td>0</td>\n",
              "      <td>1</td>\n",
              "      <td>0</td>\n",
              "      <td>0</td>\n",
              "    </tr>\n",
              "    <tr>\n",
              "      <th>1909</th>\n",
              "      <td>1</td>\n",
              "      <td>1</td>\n",
              "      <td>1.0</td>\n",
              "      <td>12</td>\n",
              "      <td>3.0</td>\n",
              "      <td>2</td>\n",
              "      <td>3.0</td>\n",
              "      <td>3.0</td>\n",
              "      <td>3.0</td>\n",
              "      <td>3</td>\n",
              "      <td>...</td>\n",
              "      <td>0</td>\n",
              "      <td>0</td>\n",
              "      <td>0</td>\n",
              "      <td>1</td>\n",
              "      <td>0</td>\n",
              "      <td>0</td>\n",
              "      <td>0</td>\n",
              "      <td>0</td>\n",
              "      <td>1</td>\n",
              "      <td>0</td>\n",
              "    </tr>\n",
              "    <tr>\n",
              "      <th>2703</th>\n",
              "      <td>3</td>\n",
              "      <td>1</td>\n",
              "      <td>7.0</td>\n",
              "      <td>12</td>\n",
              "      <td>10.0</td>\n",
              "      <td>3</td>\n",
              "      <td>3.0</td>\n",
              "      <td>1.0</td>\n",
              "      <td>3.0</td>\n",
              "      <td>3</td>\n",
              "      <td>...</td>\n",
              "      <td>1</td>\n",
              "      <td>0</td>\n",
              "      <td>0</td>\n",
              "      <td>0</td>\n",
              "      <td>0</td>\n",
              "      <td>1</td>\n",
              "      <td>1</td>\n",
              "      <td>0</td>\n",
              "      <td>0</td>\n",
              "      <td>0</td>\n",
              "    </tr>\n",
              "  </tbody>\n",
              "</table>\n",
              "<p>3528 rows × 30 columns</p>\n",
              "</div>"
            ],
            "text/plain": [
              "      educacion  nivel_de_cargo  empresas_anteriores  \\\n",
              "3436          2               5                  0.0   \n",
              "1604          3               2                  4.0   \n",
              "3917          4               3                  4.0   \n",
              "1497          1               1                  1.0   \n",
              "3807          1               1                  1.0   \n",
              "...         ...             ...                  ...   \n",
              "3767          3               2                  1.0   \n",
              "1918          4               1                  4.0   \n",
              "2470          4               2                  1.0   \n",
              "1909          1               1                  1.0   \n",
              "2703          3               1                  7.0   \n",
              "\n",
              "      porcentaje_aumentosalario  años_de_trabajo  años_jefe_actual  \\\n",
              "3436                         11              3.0                 2   \n",
              "1604                         23             24.0                 2   \n",
              "3917                         20             13.0                 3   \n",
              "1497                         11             17.0                 7   \n",
              "3807                         22              6.0                 3   \n",
              "...                         ...              ...               ...   \n",
              "3767                         14              7.0                 7   \n",
              "1918                         15             22.0                 0   \n",
              "2470                         13              1.0                 0   \n",
              "1909                         12              3.0                 2   \n",
              "2703                         12             10.0                 3   \n",
              "\n",
              "      satisfaccion_entorno  satisfaccion_laboral  \\\n",
              "3436                   2.0                   4.0   \n",
              "1604                   1.0                   1.0   \n",
              "3917                   3.0                   4.0   \n",
              "1497                   4.0                   4.0   \n",
              "3807                   1.0                   4.0   \n",
              "...                    ...                   ...   \n",
              "3767                   4.0                   3.0   \n",
              "1918                   2.0                   2.0   \n",
              "2470                   4.0                   1.0   \n",
              "1909                   3.0                   3.0   \n",
              "2703                   3.0                   1.0   \n",
              "\n",
              "      conciliacion_faimilar_laboral  implicacion_laboral  ...  \\\n",
              "3436                            2.0                    3  ...   \n",
              "1604                            2.0                    2  ...   \n",
              "3917                            2.0                    3  ...   \n",
              "1497                            3.0                    3  ...   \n",
              "3807                            4.0                    3  ...   \n",
              "...                             ...                  ...  ...   \n",
              "3767                            1.0                    2  ...   \n",
              "1918                            2.0                    3  ...   \n",
              "2470                            3.0                    3  ...   \n",
              "1909                            3.0                    3  ...   \n",
              "2703                            3.0                    3  ...   \n",
              "\n",
              "      nombre_cargo_Research Director  nombre_cargo_Research Scientist  \\\n",
              "3436                               0                                0   \n",
              "1604                               0                                0   \n",
              "3917                               0                                0   \n",
              "1497                               0                                1   \n",
              "3807                               0                                1   \n",
              "...                              ...                              ...   \n",
              "3767                               0                                0   \n",
              "1918                               0                                0   \n",
              "2470                               0                                0   \n",
              "1909                               0                                0   \n",
              "2703                               1                                0   \n",
              "\n",
              "      nombre_cargo_Sales Executive  nombre_cargo_Sales Representative  \\\n",
              "3436                             0                                  1   \n",
              "1604                             0                                  0   \n",
              "3917                             1                                  0   \n",
              "1497                             0                                  0   \n",
              "3807                             0                                  0   \n",
              "...                            ...                                ...   \n",
              "3767                             0                                  0   \n",
              "1918                             0                                  0   \n",
              "2470                             0                                  1   \n",
              "1909                             0                                  1   \n",
              "2703                             0                                  0   \n",
              "\n",
              "      estado_civil_Divorced  estado_civil_Single  numero_capacitaciones_2  \\\n",
              "3436                      0                    1                        0   \n",
              "1604                      0                    0                        1   \n",
              "3917                      1                    0                        0   \n",
              "1497                      0                    1                        1   \n",
              "3807                      1                    0                        0   \n",
              "...                     ...                  ...                      ...   \n",
              "3767                      0                    1                        0   \n",
              "1918                      0                    1                        1   \n",
              "2470                      1                    0                        0   \n",
              "1909                      0                    0                        0   \n",
              "2703                      0                    1                        1   \n",
              "\n",
              "      numero_capacitaciones_3  numero_capacitaciones_5  \\\n",
              "3436                        1                        0   \n",
              "1604                        0                        0   \n",
              "3917                        0                        0   \n",
              "1497                        0                        0   \n",
              "3807                        1                        0   \n",
              "...                       ...                      ...   \n",
              "3767                        1                        0   \n",
              "1918                        0                        0   \n",
              "2470                        1                        0   \n",
              "1909                        0                        1   \n",
              "2703                        0                        0   \n",
              "\n",
              "      numero_capacitaciones_6  \n",
              "3436                        0  \n",
              "1604                        0  \n",
              "3917                        0  \n",
              "1497                        0  \n",
              "3807                        0  \n",
              "...                       ...  \n",
              "3767                        0  \n",
              "1918                        0  \n",
              "2470                        0  \n",
              "1909                        0  \n",
              "2703                        0  \n",
              "\n",
              "[3528 rows x 30 columns]"
            ]
          },
          "execution_count": 29,
          "metadata": {},
          "output_type": "execute_result"
        }
      ],
      "source": [
        "\n",
        "sel_ = SelectFromModel(Lasso(alpha = 0.001, max_iter=10000), max_features=30) #entre mas aumente el parametro de serializacion, mas variables van atender a 0\n",
        "sel_.fit(X_train_std, y_train)\n",
        "print(sel_.estimator_.coef_)\n",
        "#Obtener variables seleccionadas\n",
        "X_new = sel_.get_support()#descarta los coeficientes mas cercanos a 0\n",
        "X_train_base1 = X_train_std[:,X_new]\n",
        "X_test_base1= X_test_std[:,X_new]\n",
        "X_train.iloc[:,X_new]"
      ]
    },
    {
      "cell_type": "markdown",
      "metadata": {},
      "source": [
        "## Método Wrapper "
      ]
    },
    {
      "cell_type": "code",
      "execution_count": 30,
      "metadata": {},
      "outputs": [],
      "source": [
        "from sklearn.feature_selection import RFE\n",
        "from sklearn.linear_model import LinearRegression, LogisticRegression\n",
        "\n",
        "# Función recursiva de selección de características\n",
        "def recursive_feature_selection(X,y,model,k):\n",
        "  rfe = RFE(model, n_features_to_select=k, step=1)\n",
        "  fit = rfe.fit(X, y)\n",
        "  X_new = fit.support_\n",
        "  print(\"Num Features: %s\" % (fit.n_features_))\n",
        "  print(\"Selected Features: %s\" % (fit.support_))\n",
        "  print(\"Feature Ranking: %s\" % (fit.ranking_))\n",
        "  return X_new  "
      ]
    },
    {
      "cell_type": "code",
      "execution_count": 31,
      "metadata": {},
      "outputs": [
        {
          "name": "stdout",
          "output_type": "stream",
          "text": [
            "Num Features: 30\n",
            "Selected Features: [False False False False  True False False  True  True  True  True  True\n",
            " False  True  True  True False  True  True  True  True  True  True False\n",
            "  True False False  True  True False  True  True  True  True False  True\n",
            "  True  True False False  True  True  True  True  True]\n",
            "Feature Ranking: [13  9  5 15  1  6 16  1  1  1  1  1 11  1  1  1 14  1  1  1  1  1  1 12\n",
            "  1 10  4  1  1  3  1  1  1  1  2  1  1  1  8  7  1  1  1  1  1]\n"
          ]
        },
        {
          "data": {
            "text/html": [
              "<div>\n",
              "<style scoped>\n",
              "    .dataframe tbody tr th:only-of-type {\n",
              "        vertical-align: middle;\n",
              "    }\n",
              "\n",
              "    .dataframe tbody tr th {\n",
              "        vertical-align: top;\n",
              "    }\n",
              "\n",
              "    .dataframe thead th {\n",
              "        text-align: right;\n",
              "    }\n",
              "</style>\n",
              "<table border=\"1\" class=\"dataframe\">\n",
              "  <thead>\n",
              "    <tr style=\"text-align: right;\">\n",
              "      <th></th>\n",
              "      <th>educacion</th>\n",
              "      <th>nivel_de_cargo</th>\n",
              "      <th>empresas_anteriores</th>\n",
              "      <th>porcentaje_aumentosalario</th>\n",
              "      <th>años_de_trabajo</th>\n",
              "      <th>años_jefe_actual</th>\n",
              "      <th>satisfaccion_entorno</th>\n",
              "      <th>satisfaccion_laboral</th>\n",
              "      <th>conciliacion_faimilar_laboral</th>\n",
              "      <th>implicacion_laboral</th>\n",
              "      <th>...</th>\n",
              "      <th>nombre_cargo_Research Director</th>\n",
              "      <th>nombre_cargo_Research Scientist</th>\n",
              "      <th>nombre_cargo_Sales Executive</th>\n",
              "      <th>nombre_cargo_Sales Representative</th>\n",
              "      <th>estado_civil_Divorced</th>\n",
              "      <th>estado_civil_Single</th>\n",
              "      <th>numero_capacitaciones_2</th>\n",
              "      <th>numero_capacitaciones_3</th>\n",
              "      <th>numero_capacitaciones_5</th>\n",
              "      <th>numero_capacitaciones_6</th>\n",
              "    </tr>\n",
              "  </thead>\n",
              "  <tbody>\n",
              "    <tr>\n",
              "      <th>3436</th>\n",
              "      <td>2</td>\n",
              "      <td>5</td>\n",
              "      <td>0.0</td>\n",
              "      <td>11</td>\n",
              "      <td>3.0</td>\n",
              "      <td>2</td>\n",
              "      <td>2.0</td>\n",
              "      <td>4.0</td>\n",
              "      <td>2.0</td>\n",
              "      <td>3</td>\n",
              "      <td>...</td>\n",
              "      <td>0</td>\n",
              "      <td>0</td>\n",
              "      <td>0</td>\n",
              "      <td>1</td>\n",
              "      <td>0</td>\n",
              "      <td>1</td>\n",
              "      <td>0</td>\n",
              "      <td>1</td>\n",
              "      <td>0</td>\n",
              "      <td>0</td>\n",
              "    </tr>\n",
              "    <tr>\n",
              "      <th>1604</th>\n",
              "      <td>3</td>\n",
              "      <td>2</td>\n",
              "      <td>4.0</td>\n",
              "      <td>23</td>\n",
              "      <td>24.0</td>\n",
              "      <td>2</td>\n",
              "      <td>1.0</td>\n",
              "      <td>1.0</td>\n",
              "      <td>2.0</td>\n",
              "      <td>2</td>\n",
              "      <td>...</td>\n",
              "      <td>0</td>\n",
              "      <td>0</td>\n",
              "      <td>0</td>\n",
              "      <td>0</td>\n",
              "      <td>0</td>\n",
              "      <td>0</td>\n",
              "      <td>1</td>\n",
              "      <td>0</td>\n",
              "      <td>0</td>\n",
              "      <td>0</td>\n",
              "    </tr>\n",
              "    <tr>\n",
              "      <th>3917</th>\n",
              "      <td>4</td>\n",
              "      <td>3</td>\n",
              "      <td>4.0</td>\n",
              "      <td>20</td>\n",
              "      <td>13.0</td>\n",
              "      <td>3</td>\n",
              "      <td>3.0</td>\n",
              "      <td>4.0</td>\n",
              "      <td>2.0</td>\n",
              "      <td>3</td>\n",
              "      <td>...</td>\n",
              "      <td>0</td>\n",
              "      <td>0</td>\n",
              "      <td>1</td>\n",
              "      <td>0</td>\n",
              "      <td>1</td>\n",
              "      <td>0</td>\n",
              "      <td>0</td>\n",
              "      <td>0</td>\n",
              "      <td>0</td>\n",
              "      <td>0</td>\n",
              "    </tr>\n",
              "    <tr>\n",
              "      <th>1497</th>\n",
              "      <td>1</td>\n",
              "      <td>1</td>\n",
              "      <td>1.0</td>\n",
              "      <td>11</td>\n",
              "      <td>17.0</td>\n",
              "      <td>7</td>\n",
              "      <td>4.0</td>\n",
              "      <td>4.0</td>\n",
              "      <td>3.0</td>\n",
              "      <td>3</td>\n",
              "      <td>...</td>\n",
              "      <td>0</td>\n",
              "      <td>1</td>\n",
              "      <td>0</td>\n",
              "      <td>0</td>\n",
              "      <td>0</td>\n",
              "      <td>1</td>\n",
              "      <td>1</td>\n",
              "      <td>0</td>\n",
              "      <td>0</td>\n",
              "      <td>0</td>\n",
              "    </tr>\n",
              "    <tr>\n",
              "      <th>3807</th>\n",
              "      <td>1</td>\n",
              "      <td>1</td>\n",
              "      <td>1.0</td>\n",
              "      <td>22</td>\n",
              "      <td>6.0</td>\n",
              "      <td>3</td>\n",
              "      <td>1.0</td>\n",
              "      <td>4.0</td>\n",
              "      <td>4.0</td>\n",
              "      <td>3</td>\n",
              "      <td>...</td>\n",
              "      <td>0</td>\n",
              "      <td>1</td>\n",
              "      <td>0</td>\n",
              "      <td>0</td>\n",
              "      <td>1</td>\n",
              "      <td>0</td>\n",
              "      <td>0</td>\n",
              "      <td>1</td>\n",
              "      <td>0</td>\n",
              "      <td>0</td>\n",
              "    </tr>\n",
              "    <tr>\n",
              "      <th>...</th>\n",
              "      <td>...</td>\n",
              "      <td>...</td>\n",
              "      <td>...</td>\n",
              "      <td>...</td>\n",
              "      <td>...</td>\n",
              "      <td>...</td>\n",
              "      <td>...</td>\n",
              "      <td>...</td>\n",
              "      <td>...</td>\n",
              "      <td>...</td>\n",
              "      <td>...</td>\n",
              "      <td>...</td>\n",
              "      <td>...</td>\n",
              "      <td>...</td>\n",
              "      <td>...</td>\n",
              "      <td>...</td>\n",
              "      <td>...</td>\n",
              "      <td>...</td>\n",
              "      <td>...</td>\n",
              "      <td>...</td>\n",
              "      <td>...</td>\n",
              "    </tr>\n",
              "    <tr>\n",
              "      <th>3767</th>\n",
              "      <td>3</td>\n",
              "      <td>2</td>\n",
              "      <td>1.0</td>\n",
              "      <td>14</td>\n",
              "      <td>7.0</td>\n",
              "      <td>7</td>\n",
              "      <td>4.0</td>\n",
              "      <td>3.0</td>\n",
              "      <td>1.0</td>\n",
              "      <td>2</td>\n",
              "      <td>...</td>\n",
              "      <td>0</td>\n",
              "      <td>0</td>\n",
              "      <td>0</td>\n",
              "      <td>0</td>\n",
              "      <td>0</td>\n",
              "      <td>1</td>\n",
              "      <td>0</td>\n",
              "      <td>1</td>\n",
              "      <td>0</td>\n",
              "      <td>0</td>\n",
              "    </tr>\n",
              "    <tr>\n",
              "      <th>1918</th>\n",
              "      <td>4</td>\n",
              "      <td>1</td>\n",
              "      <td>4.0</td>\n",
              "      <td>15</td>\n",
              "      <td>22.0</td>\n",
              "      <td>0</td>\n",
              "      <td>2.0</td>\n",
              "      <td>2.0</td>\n",
              "      <td>2.0</td>\n",
              "      <td>3</td>\n",
              "      <td>...</td>\n",
              "      <td>0</td>\n",
              "      <td>0</td>\n",
              "      <td>0</td>\n",
              "      <td>0</td>\n",
              "      <td>0</td>\n",
              "      <td>1</td>\n",
              "      <td>1</td>\n",
              "      <td>0</td>\n",
              "      <td>0</td>\n",
              "      <td>0</td>\n",
              "    </tr>\n",
              "    <tr>\n",
              "      <th>2470</th>\n",
              "      <td>4</td>\n",
              "      <td>2</td>\n",
              "      <td>1.0</td>\n",
              "      <td>13</td>\n",
              "      <td>1.0</td>\n",
              "      <td>0</td>\n",
              "      <td>4.0</td>\n",
              "      <td>1.0</td>\n",
              "      <td>3.0</td>\n",
              "      <td>3</td>\n",
              "      <td>...</td>\n",
              "      <td>0</td>\n",
              "      <td>0</td>\n",
              "      <td>0</td>\n",
              "      <td>1</td>\n",
              "      <td>1</td>\n",
              "      <td>0</td>\n",
              "      <td>0</td>\n",
              "      <td>1</td>\n",
              "      <td>0</td>\n",
              "      <td>0</td>\n",
              "    </tr>\n",
              "    <tr>\n",
              "      <th>1909</th>\n",
              "      <td>1</td>\n",
              "      <td>1</td>\n",
              "      <td>1.0</td>\n",
              "      <td>12</td>\n",
              "      <td>3.0</td>\n",
              "      <td>2</td>\n",
              "      <td>3.0</td>\n",
              "      <td>3.0</td>\n",
              "      <td>3.0</td>\n",
              "      <td>3</td>\n",
              "      <td>...</td>\n",
              "      <td>0</td>\n",
              "      <td>0</td>\n",
              "      <td>0</td>\n",
              "      <td>1</td>\n",
              "      <td>0</td>\n",
              "      <td>0</td>\n",
              "      <td>0</td>\n",
              "      <td>0</td>\n",
              "      <td>1</td>\n",
              "      <td>0</td>\n",
              "    </tr>\n",
              "    <tr>\n",
              "      <th>2703</th>\n",
              "      <td>3</td>\n",
              "      <td>1</td>\n",
              "      <td>7.0</td>\n",
              "      <td>12</td>\n",
              "      <td>10.0</td>\n",
              "      <td>3</td>\n",
              "      <td>3.0</td>\n",
              "      <td>1.0</td>\n",
              "      <td>3.0</td>\n",
              "      <td>3</td>\n",
              "      <td>...</td>\n",
              "      <td>1</td>\n",
              "      <td>0</td>\n",
              "      <td>0</td>\n",
              "      <td>0</td>\n",
              "      <td>0</td>\n",
              "      <td>1</td>\n",
              "      <td>1</td>\n",
              "      <td>0</td>\n",
              "      <td>0</td>\n",
              "      <td>0</td>\n",
              "    </tr>\n",
              "  </tbody>\n",
              "</table>\n",
              "<p>3528 rows × 30 columns</p>\n",
              "</div>"
            ],
            "text/plain": [
              "      educacion  nivel_de_cargo  empresas_anteriores  \\\n",
              "3436          2               5                  0.0   \n",
              "1604          3               2                  4.0   \n",
              "3917          4               3                  4.0   \n",
              "1497          1               1                  1.0   \n",
              "3807          1               1                  1.0   \n",
              "...         ...             ...                  ...   \n",
              "3767          3               2                  1.0   \n",
              "1918          4               1                  4.0   \n",
              "2470          4               2                  1.0   \n",
              "1909          1               1                  1.0   \n",
              "2703          3               1                  7.0   \n",
              "\n",
              "      porcentaje_aumentosalario  años_de_trabajo  años_jefe_actual  \\\n",
              "3436                         11              3.0                 2   \n",
              "1604                         23             24.0                 2   \n",
              "3917                         20             13.0                 3   \n",
              "1497                         11             17.0                 7   \n",
              "3807                         22              6.0                 3   \n",
              "...                         ...              ...               ...   \n",
              "3767                         14              7.0                 7   \n",
              "1918                         15             22.0                 0   \n",
              "2470                         13              1.0                 0   \n",
              "1909                         12              3.0                 2   \n",
              "2703                         12             10.0                 3   \n",
              "\n",
              "      satisfaccion_entorno  satisfaccion_laboral  \\\n",
              "3436                   2.0                   4.0   \n",
              "1604                   1.0                   1.0   \n",
              "3917                   3.0                   4.0   \n",
              "1497                   4.0                   4.0   \n",
              "3807                   1.0                   4.0   \n",
              "...                    ...                   ...   \n",
              "3767                   4.0                   3.0   \n",
              "1918                   2.0                   2.0   \n",
              "2470                   4.0                   1.0   \n",
              "1909                   3.0                   3.0   \n",
              "2703                   3.0                   1.0   \n",
              "\n",
              "      conciliacion_faimilar_laboral  implicacion_laboral  ...  \\\n",
              "3436                            2.0                    3  ...   \n",
              "1604                            2.0                    2  ...   \n",
              "3917                            2.0                    3  ...   \n",
              "1497                            3.0                    3  ...   \n",
              "3807                            4.0                    3  ...   \n",
              "...                             ...                  ...  ...   \n",
              "3767                            1.0                    2  ...   \n",
              "1918                            2.0                    3  ...   \n",
              "2470                            3.0                    3  ...   \n",
              "1909                            3.0                    3  ...   \n",
              "2703                            3.0                    3  ...   \n",
              "\n",
              "      nombre_cargo_Research Director  nombre_cargo_Research Scientist  \\\n",
              "3436                               0                                0   \n",
              "1604                               0                                0   \n",
              "3917                               0                                0   \n",
              "1497                               0                                1   \n",
              "3807                               0                                1   \n",
              "...                              ...                              ...   \n",
              "3767                               0                                0   \n",
              "1918                               0                                0   \n",
              "2470                               0                                0   \n",
              "1909                               0                                0   \n",
              "2703                               1                                0   \n",
              "\n",
              "      nombre_cargo_Sales Executive  nombre_cargo_Sales Representative  \\\n",
              "3436                             0                                  1   \n",
              "1604                             0                                  0   \n",
              "3917                             1                                  0   \n",
              "1497                             0                                  0   \n",
              "3807                             0                                  0   \n",
              "...                            ...                                ...   \n",
              "3767                             0                                  0   \n",
              "1918                             0                                  0   \n",
              "2470                             0                                  1   \n",
              "1909                             0                                  1   \n",
              "2703                             0                                  0   \n",
              "\n",
              "      estado_civil_Divorced  estado_civil_Single  numero_capacitaciones_2  \\\n",
              "3436                      0                    1                        0   \n",
              "1604                      0                    0                        1   \n",
              "3917                      1                    0                        0   \n",
              "1497                      0                    1                        1   \n",
              "3807                      1                    0                        0   \n",
              "...                     ...                  ...                      ...   \n",
              "3767                      0                    1                        0   \n",
              "1918                      0                    1                        1   \n",
              "2470                      1                    0                        0   \n",
              "1909                      0                    0                        0   \n",
              "2703                      0                    1                        1   \n",
              "\n",
              "      numero_capacitaciones_3  numero_capacitaciones_5  \\\n",
              "3436                        1                        0   \n",
              "1604                        0                        0   \n",
              "3917                        0                        0   \n",
              "1497                        0                        0   \n",
              "3807                        1                        0   \n",
              "...                       ...                      ...   \n",
              "3767                        1                        0   \n",
              "1918                        0                        0   \n",
              "2470                        1                        0   \n",
              "1909                        0                        1   \n",
              "2703                        0                        0   \n",
              "\n",
              "      numero_capacitaciones_6  \n",
              "3436                        0  \n",
              "1604                        0  \n",
              "3917                        0  \n",
              "1497                        0  \n",
              "3807                        0  \n",
              "...                       ...  \n",
              "3767                        0  \n",
              "1918                        0  \n",
              "2470                        0  \n",
              "1909                        0  \n",
              "2703                        0  \n",
              "\n",
              "[3528 rows x 30 columns]"
            ]
          },
          "execution_count": 31,
          "metadata": {},
          "output_type": "execute_result"
        }
      ],
      "source": [
        "# Establecer Estimador\n",
        "model = LogisticRegression(max_iter=100)\n",
        "# Obtener columnas seleciconadas - (3 caracteristicas)\n",
        "X_new_class = recursive_feature_selection(X_train_std, y_train, model, 30)\n",
        "\n",
        "# Nuevo conjunto de datos\n",
        "X_train_base2 = X_train_std[:,X_new_class]\n",
        "X_test_base2= X_test_std[:,X_new_class]\n",
        "X_train.iloc[:,X_new]"
      ]
    },
    {
      "cell_type": "markdown",
      "metadata": {},
      "source": [
        "# Modelo 1 de Regresión Logística"
      ]
    },
    {
      "cell_type": "markdown",
      "metadata": {},
      "source": [
        "### Modelo 1 Regresion logistica con Lasso"
      ]
    },
    {
      "cell_type": "code",
      "execution_count": 32,
      "metadata": {},
      "outputs": [
        {
          "name": "stdout",
          "output_type": "stream",
          "text": [
            "Exactitud en el entrenamiento: 0.751\n"
          ]
        }
      ],
      "source": [
        "from sklearn.metrics import accuracy_score\n",
        "\n",
        "# Entrenamiento del modelo\n",
        "modelo = LogisticRegression(random_state=142, class_weight='balanced')\n",
        "\n",
        "# Ajustar el modelo a los datos\n",
        "modelo.fit(X_train_base1, y_train)\n",
        "\n",
        "# Desempeño en el entrenamiento\n",
        "y_train_pred2 = modelo.predict(X_train_base1)\n",
        "\n",
        "print('Exactitud en el entrenamiento: %.3f'  %accuracy_score(y_train, y_train_pred2) )"
      ]
    },
    {
      "cell_type": "code",
      "execution_count": 33,
      "metadata": {},
      "outputs": [
        {
          "name": "stdout",
          "output_type": "stream",
          "text": [
            "Exactitud en la validacion: 0.707\n"
          ]
        }
      ],
      "source": [
        "y_pred = modelo.predict(X_test_base1)\n",
        "\n",
        "# Exactitud en el conjunto de validación\n",
        "print('Exactitud en la validacion: %.3f'  %accuracy_score(y_test, y_pred))"
      ]
    },
    {
      "cell_type": "code",
      "execution_count": 34,
      "metadata": {},
      "outputs": [
        {
          "data": {
            "image/png": "[encoded data removed]",
            "text/plain": [
              "<Figure size 640x480 with 2 Axes>"
            ]
          },
          "metadata": {},
          "output_type": "display_data"
        }
      ],
      "source": [
        "from sklearn.metrics import confusion_matrix, ConfusionMatrixDisplay\n",
        "matriz= confusion_matrix(y_test, y_pred)\n",
        "matriz_display = ConfusionMatrixDisplay(confusion_matrix=matriz, display_labels=['No renuncia', 'renuncia'])\n",
        "matriz_display.plot()\n",
        "plt.show()"
      ]
    },
    {
      "cell_type": "code",
      "execution_count": 35,
      "metadata": {},
      "outputs": [
        {
          "name": "stdout",
          "output_type": "stream",
          "text": [
            "Precision: 0.340625\n",
            "Recall: 0.6987179487179487\n",
            "Especificidad: 0.709366391184573\n",
            "F1 score: 0.45798319327731096\n"
          ]
        }
      ],
      "source": [
        "tn, fp, fn, tp = matriz.ravel()\n",
        "\n",
        "precision = tp / (tp + fp)\n",
        "recall = tp / (tp + fn)\n",
        "especificidad = tn / (fp + tn)\n",
        "f1_score = 2*(precision*recall)/(precision+recall)\n",
        "\n",
        "print(f'Precision: {precision}')\n",
        "print(f'Recall: {recall}')\n",
        "print(f'Especificidad: {especificidad}')\n",
        "print(f'F1 score: {f1_score}')"
      ]
    },
    {
      "cell_type": "code",
      "execution_count": 35,
      "metadata": {},
      "outputs": [
        {
          "name": "stdout",
          "output_type": "stream",
          "text": [
            "MSE: 0.27\n",
            "RMSE 0.52\n",
            "MAE: 0.27\n",
            "MAPE: 1051861137458415.12\n",
            "R2: -0.94\n",
            "R2-adjusted: -1.04\n"
          ]
        }
      ],
      "source": [
        "# Metricas\n",
        "print(\"MSE: %.2f\" % mean_squared_error(y_test, y_pred))\n",
        "print(\"RMSE %.2f\" % math.sqrt(mean_squared_error(y_test, y_pred)))\n",
        "print(\"MAE: %.2f\" % mean_absolute_error(y_test, y_pred))\n",
        "print(\"MAPE: %.2f\" % mean_absolute_percentage_error(y_test, y_pred))\n",
        "print(\"R2: %.2f\" % r2_score(y_test, y_pred))\n",
        "\n",
        "# R2 ajustado\n",
        "r2 = r2_score(y_test, y_pred)\n",
        "adj_r2 = 1 - (1-r2)*(len(y_test)-1)/(len(y_test)-X_test_std1.shape[1]-1)\n",
        "print(\"R2-adjusted: %.2f\" % adj_r2)"
      ]
    },
    {
      "cell_type": "markdown",
      "metadata": {},
      "source": [
        "#### Optimizacion de hiperparametros"
      ]
    },
    {
      "cell_type": "code",
      "execution_count": null,
      "metadata": {},
      "outputs": [],
      "source": []
    },
    {
      "cell_type": "markdown",
      "metadata": {},
      "source": [
        "### Modelo 1.1 regresion logistica con Wrapper"
      ]
    },
    {
      "cell_type": "code",
      "execution_count": 36,
      "metadata": {},
      "outputs": [
        {
          "name": "stdout",
          "output_type": "stream",
          "text": [
            "Exactitud en el entrenamiento: 0.741\n"
          ]
        }
      ],
      "source": [
        "from sklearn.metrics import accuracy_score\n",
        "\n",
        "# Entrenamiento del modelo\n",
        "modelo = LogisticRegression(random_state=142, class_weight='balanced')\n",
        "\n",
        "# Ajustar el modelo a los datos\n",
        "modelo.fit(X_train_base2, y_train)\n",
        "\n",
        "# Desempeño en el entrenamiento\n",
        "y_train_pred2 = modelo.predict(X_train_base2)\n",
        "\n",
        "print('Exactitud en el entrenamiento: %.3f'  %accuracy_score(y_train, y_train_pred2) )"
      ]
    },
    {
      "cell_type": "code",
      "execution_count": 37,
      "metadata": {},
      "outputs": [
        {
          "name": "stdout",
          "output_type": "stream",
          "text": [
            "Exactitud en la validacion: 0.703\n"
          ]
        }
      ],
      "source": [
        "y_pred = modelo.predict(X_test_base2)\n",
        "\n",
        "# Exactitud en el conjunto de validación\n",
        "print('Exactitud en la validacion: %.3f'  %accuracy_score(y_test, y_pred))"
      ]
    },
    {
      "cell_type": "code",
      "execution_count": 38,
      "metadata": {},
      "outputs": [
        {
          "data": {
            "image/png": "[encoded data removed]",
            "text/plain": [
              "<Figure size 640x480 with 2 Axes>"
            ]
          },
          "metadata": {},
          "output_type": "display_data"
        }
      ],
      "source": [
        "from sklearn.metrics import confusion_matrix, ConfusionMatrixDisplay\n",
        "matriz= confusion_matrix(y_test, y_pred)\n",
        "matriz_display = ConfusionMatrixDisplay(confusion_matrix=matriz, display_labels=['No renuncia', 'renuncia'])\n",
        "matriz_display.plot()\n",
        "plt.show()"
      ]
    },
    {
      "cell_type": "code",
      "execution_count": 39,
      "metadata": {},
      "outputs": [
        {
          "name": "stdout",
          "output_type": "stream",
          "text": [
            "Precision: 0.3384146341463415\n",
            "Recall: 0.7115384615384616\n",
            "Especificidad: 0.7011019283746557\n",
            "F1 score: 0.45867768595041325\n"
          ]
        }
      ],
      "source": [
        "tn, fp, fn, tp = matriz.ravel()\n",
        "\n",
        "precision = tp / (tp + fp)\n",
        "recall = tp / (tp + fn)\n",
        "especificidad = tn / (fp + tn)\n",
        "f1_score = 2*(precision*recall)/(precision+recall)\n",
        "\n",
        "print(f'Precision: {precision}')\n",
        "print(f'Recall: {recall}')\n",
        "print(f'Especificidad: {especificidad}')\n",
        "print(f'F1 score: {f1_score}')"
      ]
    },
    {
      "cell_type": "code",
      "execution_count": 40,
      "metadata": {},
      "outputs": [
        {
          "name": "stdout",
          "output_type": "stream",
          "text": [
            "MSE: 0.28\n",
            "RMSE 0.53\n",
            "MAE: 0.28\n",
            "MAPE: 1072285625564403.75\n",
            "R2: -1.01\n",
            "R2-adjusted: -1.12\n"
          ]
        }
      ],
      "source": [
        "# Metricas\n",
        "print(\"MSE: %.2f\" % mean_squared_error(y_test, y_pred))\n",
        "print(\"RMSE %.2f\" % math.sqrt(mean_squared_error(y_test, y_pred)))\n",
        "print(\"MAE: %.2f\" % mean_absolute_error(y_test, y_pred))\n",
        "print(\"MAPE: %.2f\" % mean_absolute_percentage_error(y_test, y_pred))\n",
        "print(\"R2: %.2f\" % r2_score(y_test, y_pred))\n",
        "\n",
        "# R2 ajustado\n",
        "r2 = r2_score(y_test, y_pred)\n",
        "adj_r2 = 1 - (1-r2)*(len(y_test)-1)/(len(y_test)-X_test_std1.shape[1]-1)\n",
        "print(\"R2-adjusted: %.2f\" % adj_r2)"
      ]
    },
    {
      "cell_type": "markdown",
      "metadata": {},
      "source": [
        "### Modelo 1.2 regresion logistica con balanceo de clases manual"
      ]
    },
    {
      "cell_type": "code",
      "execution_count": 40,
      "metadata": {},
      "outputs": [
        {
          "name": "stdout",
          "output_type": "stream",
          "text": [
            "Exactitud en el entrenamiento: 0.773\n"
          ]
        }
      ],
      "source": [
        "from sklearn.metrics import accuracy_score\n",
        "\n",
        "# Entrenamiento del modelo\n",
        "modelo = LogisticRegression(random_state=142)\n",
        "\n",
        "# Ajustar el modelo a los datos\n",
        "modelo.fit(x_train_res, y_train_res)\n",
        "\n",
        "# Desempeño en el entrenamiento\n",
        "y_train_pred2 = modelo.predict(x_train_res)\n",
        "\n",
        "print('Exactitud en el entrenamiento: %.3f'  %accuracy_score(y_train_res, y_train_pred2) )"
      ]
    },
    {
      "cell_type": "code",
      "execution_count": 42,
      "metadata": {},
      "outputs": [
        {
          "name": "stdout",
          "output_type": "stream",
          "text": [
            "Exactitud en la validacion: 0.705\n"
          ]
        }
      ],
      "source": [
        "y_pred = modelo.predict(X_test_std)\n",
        "\n",
        "# Exactitud en el conjunto de validación\n",
        "print('Exactitud en la validacion: %.3f'  %accuracy_score(y_test, y_pred))"
      ]
    },
    {
      "cell_type": "code",
      "execution_count": 43,
      "metadata": {},
      "outputs": [
        {
          "data": {
            "image/png": "[encoded data removed]",
            "text/plain": [
              "<Figure size 640x480 with 2 Axes>"
            ]
          },
          "metadata": {},
          "output_type": "display_data"
        }
      ],
      "source": [
        "from sklearn.metrics import confusion_matrix, ConfusionMatrixDisplay\n",
        "matriz= confusion_matrix(y_test, y_pred)\n",
        "matriz_display = ConfusionMatrixDisplay(confusion_matrix=matriz, display_labels=['No renuncia', 'renuncia'])\n",
        "matriz_display.plot()\n",
        "plt.show()"
      ]
    },
    {
      "cell_type": "code",
      "execution_count": 44,
      "metadata": {},
      "outputs": [
        {
          "name": "stdout",
          "output_type": "stream",
          "text": [
            "Precision: 0.33544303797468356\n",
            "Recall: 0.6794871794871795\n",
            "Especificidad: 0.7107438016528925\n",
            "F1 score: 0.4491525423728814\n"
          ]
        }
      ],
      "source": [
        "tn, fp, fn, tp = matriz.ravel()\n",
        "\n",
        "precision = tp / (tp + fp)\n",
        "recall = tp / (tp + fn)\n",
        "especificidad = tn / (fp + tn)\n",
        "f1_score = 2*(precision*recall)/(precision+recall)\n",
        "\n",
        "print(f'Precision: {precision}')\n",
        "print(f'Recall: {recall}')\n",
        "print(f'Especificidad: {especificidad}')\n",
        "print(f'F1 score: {f1_score}')"
      ]
    },
    {
      "cell_type": "markdown",
      "metadata": {},
      "source": [
        "# Modelo 3 Random Forest"
      ]
    },
    {
      "cell_type": "markdown",
      "metadata": {},
      "source": [
        "### 3.1 Modelo random forest con metodo integrado"
      ]
    },
    {
      "cell_type": "code",
      "execution_count": 46,
      "metadata": {},
      "outputs": [
        {
          "data": {
            "text/html": [
              "<style>#sk-container-id-1 {color: black;background-color: white;}#sk-container-id-1 pre{padding: 0;}#sk-container-id-1 div.sk-toggleable {background-color: white;}#sk-container-id-1 label.sk-toggleable__label {cursor: pointer;display: block;width: 100%;margin-bottom: 0;padding: 0.3em;box-sizing: border-box;text-align: center;}#sk-container-id-1 label.sk-toggleable__label-arrow:before {content: \"▸\";float: left;margin-right: 0.25em;color: #696969;}#sk-container-id-1 label.sk-toggleable__label-arrow:hover:before {color: black;}#sk-container-id-1 div.sk-estimator:hover label.sk-toggleable__label-arrow:before {color: black;}#sk-container-id-1 div.sk-toggleable__content {max-height: 0;max-width: 0;overflow: hidden;text-align: left;background-color: #f0f8ff;}#sk-container-id-1 div.sk-toggleable__content pre {margin: 0.2em;color: black;border-radius: 0.25em;background-color: #f0f8ff;}#sk-container-id-1 input.sk-toggleable__control:checked~div.sk-toggleable__content {max-height: 200px;max-width: 100%;overflow: auto;}#sk-container-id-1 input.sk-toggleable__control:checked~label.sk-toggleable__label-arrow:before {content: \"▾\";}#sk-container-id-1 div.sk-estimator input.sk-toggleable__control:checked~label.sk-toggleable__label {background-color: #d4ebff;}#sk-container-id-1 div.sk-label input.sk-toggleable__control:checked~label.sk-toggleable__label {background-color: #d4ebff;}#sk-container-id-1 input.sk-hidden--visually {border: 0;clip: rect(1px 1px 1px 1px);clip: rect(1px, 1px, 1px, 1px);height: 1px;margin: -1px;overflow: hidden;padding: 0;position: absolute;width: 1px;}#sk-container-id-1 div.sk-estimator {font-family: monospace;background-color: #f0f8ff;border: 1px dotted black;border-radius: 0.25em;box-sizing: border-box;margin-bottom: 0.5em;}#sk-container-id-1 div.sk-estimator:hover {background-color: #d4ebff;}#sk-container-id-1 div.sk-parallel-item::after {content: \"\";width: 100%;border-bottom: 1px solid gray;flex-grow: 1;}#sk-container-id-1 div.sk-label:hover label.sk-toggleable__label {background-color: #d4ebff;}#sk-container-id-1 div.sk-serial::before {content: \"\";position: absolute;border-left: 1px solid gray;box-sizing: border-box;top: 0;bottom: 0;left: 50%;z-index: 0;}#sk-container-id-1 div.sk-serial {display: flex;flex-direction: column;align-items: center;background-color: white;padding-right: 0.2em;padding-left: 0.2em;position: relative;}#sk-container-id-1 div.sk-item {position: relative;z-index: 1;}#sk-container-id-1 div.sk-parallel {display: flex;align-items: stretch;justify-content: center;background-color: white;position: relative;}#sk-container-id-1 div.sk-item::before, #sk-container-id-1 div.sk-parallel-item::before {content: \"\";position: absolute;border-left: 1px solid gray;box-sizing: border-box;top: 0;bottom: 0;left: 50%;z-index: -1;}#sk-container-id-1 div.sk-parallel-item {display: flex;flex-direction: column;z-index: 1;position: relative;background-color: white;}#sk-container-id-1 div.sk-parallel-item:first-child::after {align-self: flex-end;width: 50%;}#sk-container-id-1 div.sk-parallel-item:last-child::after {align-self: flex-start;width: 50%;}#sk-container-id-1 div.sk-parallel-item:only-child::after {width: 0;}#sk-container-id-1 div.sk-dashed-wrapped {border: 1px dashed gray;margin: 0 0.4em 0.5em 0.4em;box-sizing: border-box;padding-bottom: 0.4em;background-color: white;}#sk-container-id-1 div.sk-label label {font-family: monospace;font-weight: bold;display: inline-block;line-height: 1.2em;}#sk-container-id-1 div.sk-label-container {text-align: center;}#sk-container-id-1 div.sk-container {/* jupyter's `normalize.less` sets `[hidden] { display: none; }` but bootstrap.min.css set `[hidden] { display: none !important; }` so we also need the `!important` here to be able to override the default hidden behavior on the sphinx rendered scikit-learn.org. See: https://github.com/scikit-learn/scikit-learn/issues/21755 */display: inline-block !important;position: relative;}#sk-container-id-1 div.sk-text-repr-fallback {display: none;}</style><div id=\"sk-container-id-1\" class=\"sk-top-container\"><div class=\"sk-text-repr-fallback\"><pre>RandomForestClassifier(class_weight=&#x27;balanced&#x27;, max_depth=5, max_leaf_nodes=10,\n",
              "                       n_estimators=150, n_jobs=-1, random_state=123)</pre><b>In a Jupyter environment, please rerun this cell to show the HTML representation or trust the notebook. <br />On GitHub, the HTML representation is unable to render, please try loading this page with nbviewer.org.</b></div><div class=\"sk-container\" hidden><div class=\"sk-item\"><div class=\"sk-estimator sk-toggleable\"><input class=\"sk-toggleable__control sk-hidden--visually\" id=\"sk-estimator-id-1\" type=\"checkbox\" checked><label for=\"sk-estimator-id-1\" class=\"sk-toggleable__label sk-toggleable__label-arrow\">RandomForestClassifier</label><div class=\"sk-toggleable__content\"><pre>RandomForestClassifier(class_weight=&#x27;balanced&#x27;, max_depth=5, max_leaf_nodes=10,\n",
              "                       n_estimators=150, n_jobs=-1, random_state=123)</pre></div></div></div></div></div>"
            ],
            "text/plain": [
              "RandomForestClassifier(class_weight='balanced', max_depth=5, max_leaf_nodes=10,\n",
              "                       n_estimators=150, n_jobs=-1, random_state=123)"
            ]
          },
          "execution_count": 46,
          "metadata": {},
          "output_type": "execute_result"
        }
      ],
      "source": [
        "from sklearn.ensemble import RandomForestClassifier\n",
        "X_train_modelo3=X_train_base1\n",
        "X_test_modelo3=X_test_base1\n",
        "\n",
        "ranfor = RandomForestClassifier(class_weight=\"balanced\",n_estimators = 150,criterion= 'gini', max_depth= 5,max_leaf_nodes = 10,n_jobs= -1,random_state = 123)\n",
        "ranfor.fit(X_train_modelo3, y_train)"
      ]
    },
    {
      "cell_type": "code",
      "execution_count": 47,
      "metadata": {},
      "outputs": [
        {
          "name": "stdout",
          "output_type": "stream",
          "text": [
            "Train - Accuracy : 0.808390022675737\n",
            "Train - classification report:\n",
            "               precision    recall  f1-score   support\n",
            "\n",
            "           0       0.95      0.82      0.88      2973\n",
            "           1       0.44      0.77      0.56       555\n",
            "\n",
            "    accuracy                           0.81      3528\n",
            "   macro avg       0.69      0.79      0.72      3528\n",
            "weighted avg       0.87      0.81      0.83      3528\n",
            "\n",
            "Test - Accuracy : 0.7811791383219955\n",
            "Test - classification report :               precision    recall  f1-score   support\n",
            "\n",
            "           0       0.93      0.79      0.86       726\n",
            "           1       0.43      0.73      0.54       156\n",
            "\n",
            "    accuracy                           0.78       882\n",
            "   macro avg       0.68      0.76      0.70       882\n",
            "weighted avg       0.84      0.78      0.80       882\n",
            "\n"
          ]
        }
      ],
      "source": [
        "# Métricas de desempeño\n",
        "# ==============================================================================\n",
        "print (\"Train - Accuracy :\", metrics.accuracy_score(y_train, ranfor.predict(X_train_modelo3)))\n",
        "print (\"Train - classification report:\\n\", metrics.classification_report(y_train, ranfor.predict(X_train_modelo3)))\n",
        "print (\"Test - Accuracy :\", metrics.accuracy_score(y_test, ranfor.predict(X_test_modelo3)))\n",
        "print (\"Test - classification report :\", metrics.classification_report(y_test, ranfor.predict(X_test_modelo3)))"
      ]
    },
    {
      "cell_type": "code",
      "execution_count": 52,
      "metadata": {},
      "outputs": [
        {
          "data": {
            "image/png": "[encoded data removed]",
            "text/plain": [
              "<Figure size 640x480 with 2 Axes>"
            ]
          },
          "metadata": {},
          "output_type": "display_data"
        }
      ],
      "source": [
        "from sklearn.metrics import confusion_matrix, ConfusionMatrixDisplay\n",
        "# Matriz de confusion\n",
        "cm= confusion_matrix(y_test, ranfor.predict(X_test_modelo3))\n",
        "# Visualización de la matriz de confusion\n",
        "cm_display = ConfusionMatrixDisplay(confusion_matrix = cm, display_labels=['No renuncia', 'renuncia'])\n",
        "cm_display.plot()\n",
        "plt.show()"
      ]
    },
    {
      "cell_type": "markdown",
      "metadata": {},
      "source": [
        "#### Modelo con tuning de hiperparametros"
      ]
    },
    {
      "cell_type": "code",
      "execution_count": 44,
      "metadata": {},
      "outputs": [],
      "source": [
        "# Definición de cuadricula de hiperparametros\n",
        "parameters = {'max_depth': [3,5,7,9],\n",
        "              'max_features': [0.7,0.8,0.9,1],\n",
        "              'max_leaf_nodes': [9,11,13],\n",
        "              'min_samples_leaf': [5,7,10,12],\n",
        "              'n_estimators': [100, 200 ,500]}"
      ]
    },
    {
      "cell_type": "code",
      "execution_count": 45,
      "metadata": {},
      "outputs": [
        {
          "name": "stdout",
          "output_type": "stream",
          "text": [
            "Best Params:  {'max_depth': 3, 'max_features': 0.7, 'max_leaf_nodes': 9, 'min_samples_leaf': 5, 'n_estimators': 100}\n",
            "Best Score:  -0.19715001007165273\n"
          ]
        }
      ],
      "source": [
        "#Definición del modelo\n",
        "ranfor = RandomForestClassifier(random_state = 123)\n",
        "\n",
        "grid_search = GridSearchCV(ranfor, parameters, scoring='r2', cv=5, n_jobs=-1)\n",
        "\n",
        "# Iniciamos la busqueda\n",
        "grid_result = grid_search.fit(X_train_modelo3, y_train)\n",
        "\n",
        "print('Best Params: ', grid_result.best_params_)\n",
        "print('Best Score: ', grid_result.best_score_)"
      ]
    },
    {
      "cell_type": "code",
      "execution_count": 50,
      "metadata": {},
      "outputs": [
        {
          "data": {
            "text/html": [
              "<style>#sk-container-id-2 {color: black;background-color: white;}#sk-container-id-2 pre{padding: 0;}#sk-container-id-2 div.sk-toggleable {background-color: white;}#sk-container-id-2 label.sk-toggleable__label {cursor: pointer;display: block;width: 100%;margin-bottom: 0;padding: 0.3em;box-sizing: border-box;text-align: center;}#sk-container-id-2 label.sk-toggleable__label-arrow:before {content: \"▸\";float: left;margin-right: 0.25em;color: #696969;}#sk-container-id-2 label.sk-toggleable__label-arrow:hover:before {color: black;}#sk-container-id-2 div.sk-estimator:hover label.sk-toggleable__label-arrow:before {color: black;}#sk-container-id-2 div.sk-toggleable__content {max-height: 0;max-width: 0;overflow: hidden;text-align: left;background-color: #f0f8ff;}#sk-container-id-2 div.sk-toggleable__content pre {margin: 0.2em;color: black;border-radius: 0.25em;background-color: #f0f8ff;}#sk-container-id-2 input.sk-toggleable__control:checked~div.sk-toggleable__content {max-height: 200px;max-width: 100%;overflow: auto;}#sk-container-id-2 input.sk-toggleable__control:checked~label.sk-toggleable__label-arrow:before {content: \"▾\";}#sk-container-id-2 div.sk-estimator input.sk-toggleable__control:checked~label.sk-toggleable__label {background-color: #d4ebff;}#sk-container-id-2 div.sk-label input.sk-toggleable__control:checked~label.sk-toggleable__label {background-color: #d4ebff;}#sk-container-id-2 input.sk-hidden--visually {border: 0;clip: rect(1px 1px 1px 1px);clip: rect(1px, 1px, 1px, 1px);height: 1px;margin: -1px;overflow: hidden;padding: 0;position: absolute;width: 1px;}#sk-container-id-2 div.sk-estimator {font-family: monospace;background-color: #f0f8ff;border: 1px dotted black;border-radius: 0.25em;box-sizing: border-box;margin-bottom: 0.5em;}#sk-container-id-2 div.sk-estimator:hover {background-color: #d4ebff;}#sk-container-id-2 div.sk-parallel-item::after {content: \"\";width: 100%;border-bottom: 1px solid gray;flex-grow: 1;}#sk-container-id-2 div.sk-label:hover label.sk-toggleable__label {background-color: #d4ebff;}#sk-container-id-2 div.sk-serial::before {content: \"\";position: absolute;border-left: 1px solid gray;box-sizing: border-box;top: 0;bottom: 0;left: 50%;z-index: 0;}#sk-container-id-2 div.sk-serial {display: flex;flex-direction: column;align-items: center;background-color: white;padding-right: 0.2em;padding-left: 0.2em;position: relative;}#sk-container-id-2 div.sk-item {position: relative;z-index: 1;}#sk-container-id-2 div.sk-parallel {display: flex;align-items: stretch;justify-content: center;background-color: white;position: relative;}#sk-container-id-2 div.sk-item::before, #sk-container-id-2 div.sk-parallel-item::before {content: \"\";position: absolute;border-left: 1px solid gray;box-sizing: border-box;top: 0;bottom: 0;left: 50%;z-index: -1;}#sk-container-id-2 div.sk-parallel-item {display: flex;flex-direction: column;z-index: 1;position: relative;background-color: white;}#sk-container-id-2 div.sk-parallel-item:first-child::after {align-self: flex-end;width: 50%;}#sk-container-id-2 div.sk-parallel-item:last-child::after {align-self: flex-start;width: 50%;}#sk-container-id-2 div.sk-parallel-item:only-child::after {width: 0;}#sk-container-id-2 div.sk-dashed-wrapped {border: 1px dashed gray;margin: 0 0.4em 0.5em 0.4em;box-sizing: border-box;padding-bottom: 0.4em;background-color: white;}#sk-container-id-2 div.sk-label label {font-family: monospace;font-weight: bold;display: inline-block;line-height: 1.2em;}#sk-container-id-2 div.sk-label-container {text-align: center;}#sk-container-id-2 div.sk-container {/* jupyter's `normalize.less` sets `[hidden] { display: none; }` but bootstrap.min.css set `[hidden] { display: none !important; }` so we also need the `!important` here to be able to override the default hidden behavior on the sphinx rendered scikit-learn.org. See: https://github.com/scikit-learn/scikit-learn/issues/21755 */display: inline-block !important;position: relative;}#sk-container-id-2 div.sk-text-repr-fallback {display: none;}</style><div id=\"sk-container-id-2\" class=\"sk-top-container\"><div class=\"sk-text-repr-fallback\"><pre>RandomForestClassifier(class_weight=&#x27;balanced&#x27;, max_depth=3, max_features=0.7,\n",
              "                       max_leaf_nodes=9, min_samples_leaf=5, n_jobs=-1,\n",
              "                       random_state=123)</pre><b>In a Jupyter environment, please rerun this cell to show the HTML representation or trust the notebook. <br />On GitHub, the HTML representation is unable to render, please try loading this page with nbviewer.org.</b></div><div class=\"sk-container\" hidden><div class=\"sk-item\"><div class=\"sk-estimator sk-toggleable\"><input class=\"sk-toggleable__control sk-hidden--visually\" id=\"sk-estimator-id-2\" type=\"checkbox\" checked><label for=\"sk-estimator-id-2\" class=\"sk-toggleable__label sk-toggleable__label-arrow\">RandomForestClassifier</label><div class=\"sk-toggleable__content\"><pre>RandomForestClassifier(class_weight=&#x27;balanced&#x27;, max_depth=3, max_features=0.7,\n",
              "                       max_leaf_nodes=9, min_samples_leaf=5, n_jobs=-1,\n",
              "                       random_state=123)</pre></div></div></div></div></div>"
            ],
            "text/plain": [
              "RandomForestClassifier(class_weight='balanced', max_depth=3, max_features=0.7,\n",
              "                       max_leaf_nodes=9, min_samples_leaf=5, n_jobs=-1,\n",
              "                       random_state=123)"
            ]
          },
          "execution_count": 50,
          "metadata": {},
          "output_type": "execute_result"
        }
      ],
      "source": [
        "from sklearn.ensemble import RandomForestClassifier\n",
        "X_train_modelo3=X_train_base1\n",
        "X_test_modelo3=X_test_base1\n",
        "\n",
        "ranfor = RandomForestClassifier(class_weight=\"balanced\",max_features=0.7, n_estimators = 100, max_depth= 3,max_leaf_nodes = 9, min_samples_leaf=5, n_jobs= -1,random_state = 123)\n",
        "ranfor.fit(X_train_modelo3, y_train)"
      ]
    },
    {
      "cell_type": "code",
      "execution_count": 51,
      "metadata": {},
      "outputs": [
        {
          "name": "stdout",
          "output_type": "stream",
          "text": [
            "Train - Accuracy : 0.7936507936507936\n",
            "Train - classification report:\n",
            "               precision    recall  f1-score   support\n",
            "\n",
            "           0       0.93      0.82      0.87      2973\n",
            "           1       0.40      0.65      0.50       555\n",
            "\n",
            "    accuracy                           0.79      3528\n",
            "   macro avg       0.66      0.74      0.68      3528\n",
            "weighted avg       0.84      0.79      0.81      3528\n",
            "\n",
            "Test - Accuracy : 0.7585034013605442\n",
            "Test - classification report :               precision    recall  f1-score   support\n",
            "\n",
            "           0       0.91      0.79      0.84       726\n",
            "           1       0.39      0.62      0.48       156\n",
            "\n",
            "    accuracy                           0.76       882\n",
            "   macro avg       0.65      0.70      0.66       882\n",
            "weighted avg       0.81      0.76      0.78       882\n",
            "\n"
          ]
        }
      ],
      "source": [
        "# Métricas de desempeño\n",
        "# ==============================================================================\n",
        "print (\"Train - Accuracy :\", metrics.accuracy_score(y_train, ranfor.predict(X_train_modelo3)))\n",
        "print (\"Train - classification report:\\n\", metrics.classification_report(y_train, ranfor.predict(X_train_modelo3)))\n",
        "print (\"Test - Accuracy :\", metrics.accuracy_score(y_test, ranfor.predict(X_test_modelo3)))\n",
        "print (\"Test - classification report :\", metrics.classification_report(y_test, ranfor.predict(X_test_modelo3)))"
      ]
    },
    {
      "cell_type": "markdown",
      "metadata": {},
      "source": [
        "### 3.2 Modelo random forest con metodo wrapper"
      ]
    },
    {
      "cell_type": "code",
      "execution_count": 53,
      "metadata": {},
      "outputs": [
        {
          "data": {
            "text/html": [
              "<style>#sk-container-id-3 {color: black;background-color: white;}#sk-container-id-3 pre{padding: 0;}#sk-container-id-3 div.sk-toggleable {background-color: white;}#sk-container-id-3 label.sk-toggleable__label {cursor: pointer;display: block;width: 100%;margin-bottom: 0;padding: 0.3em;box-sizing: border-box;text-align: center;}#sk-container-id-3 label.sk-toggleable__label-arrow:before {content: \"▸\";float: left;margin-right: 0.25em;color: #696969;}#sk-container-id-3 label.sk-toggleable__label-arrow:hover:before {color: black;}#sk-container-id-3 div.sk-estimator:hover label.sk-toggleable__label-arrow:before {color: black;}#sk-container-id-3 div.sk-toggleable__content {max-height: 0;max-width: 0;overflow: hidden;text-align: left;background-color: #f0f8ff;}#sk-container-id-3 div.sk-toggleable__content pre {margin: 0.2em;color: black;border-radius: 0.25em;background-color: #f0f8ff;}#sk-container-id-3 input.sk-toggleable__control:checked~div.sk-toggleable__content {max-height: 200px;max-width: 100%;overflow: auto;}#sk-container-id-3 input.sk-toggleable__control:checked~label.sk-toggleable__label-arrow:before {content: \"▾\";}#sk-container-id-3 div.sk-estimator input.sk-toggleable__control:checked~label.sk-toggleable__label {background-color: #d4ebff;}#sk-container-id-3 div.sk-label input.sk-toggleable__control:checked~label.sk-toggleable__label {background-color: #d4ebff;}#sk-container-id-3 input.sk-hidden--visually {border: 0;clip: rect(1px 1px 1px 1px);clip: rect(1px, 1px, 1px, 1px);height: 1px;margin: -1px;overflow: hidden;padding: 0;position: absolute;width: 1px;}#sk-container-id-3 div.sk-estimator {font-family: monospace;background-color: #f0f8ff;border: 1px dotted black;border-radius: 0.25em;box-sizing: border-box;margin-bottom: 0.5em;}#sk-container-id-3 div.sk-estimator:hover {background-color: #d4ebff;}#sk-container-id-3 div.sk-parallel-item::after {content: \"\";width: 100%;border-bottom: 1px solid gray;flex-grow: 1;}#sk-container-id-3 div.sk-label:hover label.sk-toggleable__label {background-color: #d4ebff;}#sk-container-id-3 div.sk-serial::before {content: \"\";position: absolute;border-left: 1px solid gray;box-sizing: border-box;top: 0;bottom: 0;left: 50%;z-index: 0;}#sk-container-id-3 div.sk-serial {display: flex;flex-direction: column;align-items: center;background-color: white;padding-right: 0.2em;padding-left: 0.2em;position: relative;}#sk-container-id-3 div.sk-item {position: relative;z-index: 1;}#sk-container-id-3 div.sk-parallel {display: flex;align-items: stretch;justify-content: center;background-color: white;position: relative;}#sk-container-id-3 div.sk-item::before, #sk-container-id-3 div.sk-parallel-item::before {content: \"\";position: absolute;border-left: 1px solid gray;box-sizing: border-box;top: 0;bottom: 0;left: 50%;z-index: -1;}#sk-container-id-3 div.sk-parallel-item {display: flex;flex-direction: column;z-index: 1;position: relative;background-color: white;}#sk-container-id-3 div.sk-parallel-item:first-child::after {align-self: flex-end;width: 50%;}#sk-container-id-3 div.sk-parallel-item:last-child::after {align-self: flex-start;width: 50%;}#sk-container-id-3 div.sk-parallel-item:only-child::after {width: 0;}#sk-container-id-3 div.sk-dashed-wrapped {border: 1px dashed gray;margin: 0 0.4em 0.5em 0.4em;box-sizing: border-box;padding-bottom: 0.4em;background-color: white;}#sk-container-id-3 div.sk-label label {font-family: monospace;font-weight: bold;display: inline-block;line-height: 1.2em;}#sk-container-id-3 div.sk-label-container {text-align: center;}#sk-container-id-3 div.sk-container {/* jupyter's `normalize.less` sets `[hidden] { display: none; }` but bootstrap.min.css set `[hidden] { display: none !important; }` so we also need the `!important` here to be able to override the default hidden behavior on the sphinx rendered scikit-learn.org. See: https://github.com/scikit-learn/scikit-learn/issues/21755 */display: inline-block !important;position: relative;}#sk-container-id-3 div.sk-text-repr-fallback {display: none;}</style><div id=\"sk-container-id-3\" class=\"sk-top-container\"><div class=\"sk-text-repr-fallback\"><pre>RandomForestClassifier(class_weight=&#x27;balanced&#x27;, max_depth=5, max_leaf_nodes=10,\n",
              "                       n_estimators=150, n_jobs=-1, random_state=123)</pre><b>In a Jupyter environment, please rerun this cell to show the HTML representation or trust the notebook. <br />On GitHub, the HTML representation is unable to render, please try loading this page with nbviewer.org.</b></div><div class=\"sk-container\" hidden><div class=\"sk-item\"><div class=\"sk-estimator sk-toggleable\"><input class=\"sk-toggleable__control sk-hidden--visually\" id=\"sk-estimator-id-3\" type=\"checkbox\" checked><label for=\"sk-estimator-id-3\" class=\"sk-toggleable__label sk-toggleable__label-arrow\">RandomForestClassifier</label><div class=\"sk-toggleable__content\"><pre>RandomForestClassifier(class_weight=&#x27;balanced&#x27;, max_depth=5, max_leaf_nodes=10,\n",
              "                       n_estimators=150, n_jobs=-1, random_state=123)</pre></div></div></div></div></div>"
            ],
            "text/plain": [
              "RandomForestClassifier(class_weight='balanced', max_depth=5, max_leaf_nodes=10,\n",
              "                       n_estimators=150, n_jobs=-1, random_state=123)"
            ]
          },
          "execution_count": 53,
          "metadata": {},
          "output_type": "execute_result"
        }
      ],
      "source": [
        "from sklearn.ensemble import RandomForestClassifier\n",
        "X_train_modelo3_2=X_train_base2\n",
        "X_test_modelo3_2=X_test_base2\n",
        "\n",
        "ranfor = RandomForestClassifier(class_weight=\"balanced\",n_estimators = 150,criterion= 'gini', max_depth= 5,max_leaf_nodes = 10,n_jobs= -1,random_state = 123)\n",
        "ranfor.fit(X_train_modelo3_2, y_train)"
      ]
    },
    {
      "cell_type": "code",
      "execution_count": 54,
      "metadata": {},
      "outputs": [
        {
          "name": "stdout",
          "output_type": "stream",
          "text": [
            "Train - Accuracy : 0.8132086167800453\n",
            "Train - classification report:\n",
            "               precision    recall  f1-score   support\n",
            "\n",
            "           0       0.94      0.83      0.88      2973\n",
            "           1       0.44      0.74      0.55       555\n",
            "\n",
            "    accuracy                           0.81      3528\n",
            "   macro avg       0.69      0.78      0.72      3528\n",
            "weighted avg       0.87      0.81      0.83      3528\n",
            "\n",
            "Test - Accuracy : 0.782312925170068\n",
            "Test - classification report :               precision    recall  f1-score   support\n",
            "\n",
            "           0       0.93      0.79      0.86       726\n",
            "           1       0.43      0.72      0.54       156\n",
            "\n",
            "    accuracy                           0.78       882\n",
            "   macro avg       0.68      0.76      0.70       882\n",
            "weighted avg       0.84      0.78      0.80       882\n",
            "\n"
          ]
        }
      ],
      "source": [
        "# Métricas de desempeño\n",
        "# ==============================================================================\n",
        "print (\"Train - Accuracy :\", metrics.accuracy_score(y_train, ranfor.predict(X_train_modelo3_2)))\n",
        "print (\"Train - classification report:\\n\", metrics.classification_report(y_train, ranfor.predict(X_train_modelo3_2)))\n",
        "print (\"Test - Accuracy :\", metrics.accuracy_score(y_test, ranfor.predict(X_test_modelo3_2)))\n",
        "print (\"Test - classification report :\", metrics.classification_report(y_test, ranfor.predict(X_test_modelo3_2)))"
      ]
    },
    {
      "cell_type": "code",
      "execution_count": 55,
      "metadata": {},
      "outputs": [
        {
          "data": {
            "image/png": "[encoded data removed]",
            "text/plain": [
              "<Figure size 640x480 with 2 Axes>"
            ]
          },
          "metadata": {},
          "output_type": "display_data"
        }
      ],
      "source": [
        "from sklearn.metrics import confusion_matrix, ConfusionMatrixDisplay\n",
        "# Matriz de confusion\n",
        "cm= confusion_matrix(y_test, ranfor.predict(X_test_modelo3_2))\n",
        "# Visualización de la matriz de confusion\n",
        "cm_display = ConfusionMatrixDisplay(confusion_matrix = cm,  display_labels=['No renuncia', 'renuncia'])\n",
        "cm_display.plot()\n",
        "plt.show()"
      ]
    },
    {
      "cell_type": "markdown",
      "metadata": {},
      "source": [
        "# Modelo 4 Gradient Boosting Classifier"
      ]
    },
    {
      "cell_type": "markdown",
      "metadata": {},
      "source": [
        "### 4.1 Modelo de Gradient Boosting con metodo integrado"
      ]
    },
    {
      "cell_type": "code",
      "execution_count": 56,
      "metadata": {},
      "outputs": [
        {
          "data": {
            "text/html": [
              "<style>#sk-container-id-4 {color: black;background-color: white;}#sk-container-id-4 pre{padding: 0;}#sk-container-id-4 div.sk-toggleable {background-color: white;}#sk-container-id-4 label.sk-toggleable__label {cursor: pointer;display: block;width: 100%;margin-bottom: 0;padding: 0.3em;box-sizing: border-box;text-align: center;}#sk-container-id-4 label.sk-toggleable__label-arrow:before {content: \"▸\";float: left;margin-right: 0.25em;color: #696969;}#sk-container-id-4 label.sk-toggleable__label-arrow:hover:before {color: black;}#sk-container-id-4 div.sk-estimator:hover label.sk-toggleable__label-arrow:before {color: black;}#sk-container-id-4 div.sk-toggleable__content {max-height: 0;max-width: 0;overflow: hidden;text-align: left;background-color: #f0f8ff;}#sk-container-id-4 div.sk-toggleable__content pre {margin: 0.2em;color: black;border-radius: 0.25em;background-color: #f0f8ff;}#sk-container-id-4 input.sk-toggleable__control:checked~div.sk-toggleable__content {max-height: 200px;max-width: 100%;overflow: auto;}#sk-container-id-4 input.sk-toggleable__control:checked~label.sk-toggleable__label-arrow:before {content: \"▾\";}#sk-container-id-4 div.sk-estimator input.sk-toggleable__control:checked~label.sk-toggleable__label {background-color: #d4ebff;}#sk-container-id-4 div.sk-label input.sk-toggleable__control:checked~label.sk-toggleable__label {background-color: #d4ebff;}#sk-container-id-4 input.sk-hidden--visually {border: 0;clip: rect(1px 1px 1px 1px);clip: rect(1px, 1px, 1px, 1px);height: 1px;margin: -1px;overflow: hidden;padding: 0;position: absolute;width: 1px;}#sk-container-id-4 div.sk-estimator {font-family: monospace;background-color: #f0f8ff;border: 1px dotted black;border-radius: 0.25em;box-sizing: border-box;margin-bottom: 0.5em;}#sk-container-id-4 div.sk-estimator:hover {background-color: #d4ebff;}#sk-container-id-4 div.sk-parallel-item::after {content: \"\";width: 100%;border-bottom: 1px solid gray;flex-grow: 1;}#sk-container-id-4 div.sk-label:hover label.sk-toggleable__label {background-color: #d4ebff;}#sk-container-id-4 div.sk-serial::before {content: \"\";position: absolute;border-left: 1px solid gray;box-sizing: border-box;top: 0;bottom: 0;left: 50%;z-index: 0;}#sk-container-id-4 div.sk-serial {display: flex;flex-direction: column;align-items: center;background-color: white;padding-right: 0.2em;padding-left: 0.2em;position: relative;}#sk-container-id-4 div.sk-item {position: relative;z-index: 1;}#sk-container-id-4 div.sk-parallel {display: flex;align-items: stretch;justify-content: center;background-color: white;position: relative;}#sk-container-id-4 div.sk-item::before, #sk-container-id-4 div.sk-parallel-item::before {content: \"\";position: absolute;border-left: 1px solid gray;box-sizing: border-box;top: 0;bottom: 0;left: 50%;z-index: -1;}#sk-container-id-4 div.sk-parallel-item {display: flex;flex-direction: column;z-index: 1;position: relative;background-color: white;}#sk-container-id-4 div.sk-parallel-item:first-child::after {align-self: flex-end;width: 50%;}#sk-container-id-4 div.sk-parallel-item:last-child::after {align-self: flex-start;width: 50%;}#sk-container-id-4 div.sk-parallel-item:only-child::after {width: 0;}#sk-container-id-4 div.sk-dashed-wrapped {border: 1px dashed gray;margin: 0 0.4em 0.5em 0.4em;box-sizing: border-box;padding-bottom: 0.4em;background-color: white;}#sk-container-id-4 div.sk-label label {font-family: monospace;font-weight: bold;display: inline-block;line-height: 1.2em;}#sk-container-id-4 div.sk-label-container {text-align: center;}#sk-container-id-4 div.sk-container {/* jupyter's `normalize.less` sets `[hidden] { display: none; }` but bootstrap.min.css set `[hidden] { display: none !important; }` so we also need the `!important` here to be able to override the default hidden behavior on the sphinx rendered scikit-learn.org. See: https://github.com/scikit-learn/scikit-learn/issues/21755 */display: inline-block !important;position: relative;}#sk-container-id-4 div.sk-text-repr-fallback {display: none;}</style><div id=\"sk-container-id-4\" class=\"sk-top-container\"><div class=\"sk-text-repr-fallback\"><pre>GradientBoostingClassifier(max_features=4, random_state=123)</pre><b>In a Jupyter environment, please rerun this cell to show the HTML representation or trust the notebook. <br />On GitHub, the HTML representation is unable to render, please try loading this page with nbviewer.org.</b></div><div class=\"sk-container\" hidden><div class=\"sk-item\"><div class=\"sk-estimator sk-toggleable\"><input class=\"sk-toggleable__control sk-hidden--visually\" id=\"sk-estimator-id-4\" type=\"checkbox\" checked><label for=\"sk-estimator-id-4\" class=\"sk-toggleable__label sk-toggleable__label-arrow\">GradientBoostingClassifier</label><div class=\"sk-toggleable__content\"><pre>GradientBoostingClassifier(max_features=4, random_state=123)</pre></div></div></div></div></div>"
            ],
            "text/plain": [
              "GradientBoostingClassifier(max_features=4, random_state=123)"
            ]
          },
          "execution_count": 56,
          "metadata": {},
          "output_type": "execute_result"
        }
      ],
      "source": [
        "from sklearn.ensemble import GradientBoostingClassifier\n",
        "X_train_modelo4= x_train_res[:, X_new]\n",
        "X_test_modelo4 = X_test_std[:, X_new]\n",
        "gboos = GradientBoostingClassifier( n_estimators = 100, learning_rate= 0.1, max_features = 4, random_state = 123)\n",
        "gboos.fit(X_train_modelo4, y_train_res)"
      ]
    },
    {
      "cell_type": "code",
      "execution_count": 57,
      "metadata": {},
      "outputs": [
        {
          "name": "stdout",
          "output_type": "stream",
          "text": [
            "Train - Accuracy : 0.9098553649512278\n",
            "Train - classification report:\n",
            "               precision    recall  f1-score   support\n",
            "\n",
            "           0       0.90      0.92      0.91      2973\n",
            "           1       0.92      0.89      0.91      2973\n",
            "\n",
            "    accuracy                           0.91      5946\n",
            "   macro avg       0.91      0.91      0.91      5946\n",
            "weighted avg       0.91      0.91      0.91      5946\n",
            "\n",
            "Test - Accuracy : 0.8367346938775511\n",
            "Test - classification report :               precision    recall  f1-score   support\n",
            "\n",
            "           0       0.90      0.90      0.90       726\n",
            "           1       0.54      0.54      0.54       156\n",
            "\n",
            "    accuracy                           0.84       882\n",
            "   macro avg       0.72      0.72      0.72       882\n",
            "weighted avg       0.84      0.84      0.84       882\n",
            "\n"
          ]
        }
      ],
      "source": [
        "print (\"Train - Accuracy :\", metrics.accuracy_score(y_train_res, gboos.predict(X_train_modelo4)))\n",
        "print (\"Train - classification report:\\n\", metrics.classification_report(y_train_res, gboos.predict(X_train_modelo4)))\n",
        "print (\"Test - Accuracy :\", metrics.accuracy_score(y_test, gboos.predict(X_test_modelo4)))\n",
        "print (\"Test - classification report :\", metrics.classification_report(y_test, gboos.predict(X_test_modelo4)))"
      ]
    },
    {
      "cell_type": "code",
      "execution_count": 58,
      "metadata": {},
      "outputs": [
        {
          "data": {
            "image/png": "[encoded data removed]",
            "text/plain": [
              "<Figure size 640x480 with 2 Axes>"
            ]
          },
          "metadata": {},
          "output_type": "display_data"
        }
      ],
      "source": [
        "from sklearn.metrics import confusion_matrix, ConfusionMatrixDisplay\n",
        "cm1= confusion_matrix(y_test, gboos.predict(X_test_modelo4))\n",
        "cm1_display = ConfusionMatrixDisplay(confusion_matrix = cm1,  display_labels=['No renuncia', 'renuncia'])\n",
        "cm1_display.plot()\n",
        "plt.show()"
      ]
    },
    {
      "cell_type": "markdown",
      "metadata": {},
      "source": [
        "#### Modelo con tunning de hiperparametros"
      ]
    },
    {
      "cell_type": "code",
      "execution_count": 68,
      "metadata": {},
      "outputs": [],
      "source": [
        "# Definición de cuadricula de hiperparametros\n",
        "parameters = {'learning_rate': [0.05, 0.1,0.3],\n",
        "              'max_features': [2, 4, 6, 8],\n",
        "              'max_depth': [4,6,8,10,12],\n",
        "              'n_estimators': [80, 100, 150, 200]}"
      ]
    },
    {
      "cell_type": "code",
      "execution_count": 70,
      "metadata": {},
      "outputs": [
        {
          "name": "stdout",
          "output_type": "stream",
          "text": [
            "Best Params:  {'learning_rate': 0.3, 'max_depth': 12, 'max_features': 2, 'n_estimators': 150}\n",
            "Best Score:  0.9721792178642341\n"
          ]
        }
      ],
      "source": [
        "#Definición del modelo\n",
        "from sklearn.ensemble import GradientBoostingClassifier\n",
        "ranfor = GradientBoostingClassifier(random_state = 123)\n",
        "\n",
        "grid_search = GridSearchCV(ranfor, parameters, scoring='r2', cv=5, n_jobs=-1)\n",
        "\n",
        "# Iniciamos la busqueda\n",
        "grid_result = grid_search.fit(X_train_modelo4, y_train_res)\n",
        "\n",
        "print('Best Params: ', grid_result.best_params_)\n",
        "print('Best Score: ', grid_result.best_score_)"
      ]
    },
    {
      "cell_type": "code",
      "execution_count": 59,
      "metadata": {},
      "outputs": [
        {
          "data": {
            "text/html": [
              "<style>#sk-container-id-5 {color: black;background-color: white;}#sk-container-id-5 pre{padding: 0;}#sk-container-id-5 div.sk-toggleable {background-color: white;}#sk-container-id-5 label.sk-toggleable__label {cursor: pointer;display: block;width: 100%;margin-bottom: 0;padding: 0.3em;box-sizing: border-box;text-align: center;}#sk-container-id-5 label.sk-toggleable__label-arrow:before {content: \"▸\";float: left;margin-right: 0.25em;color: #696969;}#sk-container-id-5 label.sk-toggleable__label-arrow:hover:before {color: black;}#sk-container-id-5 div.sk-estimator:hover label.sk-toggleable__label-arrow:before {color: black;}#sk-container-id-5 div.sk-toggleable__content {max-height: 0;max-width: 0;overflow: hidden;text-align: left;background-color: #f0f8ff;}#sk-container-id-5 div.sk-toggleable__content pre {margin: 0.2em;color: black;border-radius: 0.25em;background-color: #f0f8ff;}#sk-container-id-5 input.sk-toggleable__control:checked~div.sk-toggleable__content {max-height: 200px;max-width: 100%;overflow: auto;}#sk-container-id-5 input.sk-toggleable__control:checked~label.sk-toggleable__label-arrow:before {content: \"▾\";}#sk-container-id-5 div.sk-estimator input.sk-toggleable__control:checked~label.sk-toggleable__label {background-color: #d4ebff;}#sk-container-id-5 div.sk-label input.sk-toggleable__control:checked~label.sk-toggleable__label {background-color: #d4ebff;}#sk-container-id-5 input.sk-hidden--visually {border: 0;clip: rect(1px 1px 1px 1px);clip: rect(1px, 1px, 1px, 1px);height: 1px;margin: -1px;overflow: hidden;padding: 0;position: absolute;width: 1px;}#sk-container-id-5 div.sk-estimator {font-family: monospace;background-color: #f0f8ff;border: 1px dotted black;border-radius: 0.25em;box-sizing: border-box;margin-bottom: 0.5em;}#sk-container-id-5 div.sk-estimator:hover {background-color: #d4ebff;}#sk-container-id-5 div.sk-parallel-item::after {content: \"\";width: 100%;border-bottom: 1px solid gray;flex-grow: 1;}#sk-container-id-5 div.sk-label:hover label.sk-toggleable__label {background-color: #d4ebff;}#sk-container-id-5 div.sk-serial::before {content: \"\";position: absolute;border-left: 1px solid gray;box-sizing: border-box;top: 0;bottom: 0;left: 50%;z-index: 0;}#sk-container-id-5 div.sk-serial {display: flex;flex-direction: column;align-items: center;background-color: white;padding-right: 0.2em;padding-left: 0.2em;position: relative;}#sk-container-id-5 div.sk-item {position: relative;z-index: 1;}#sk-container-id-5 div.sk-parallel {display: flex;align-items: stretch;justify-content: center;background-color: white;position: relative;}#sk-container-id-5 div.sk-item::before, #sk-container-id-5 div.sk-parallel-item::before {content: \"\";position: absolute;border-left: 1px solid gray;box-sizing: border-box;top: 0;bottom: 0;left: 50%;z-index: -1;}#sk-container-id-5 div.sk-parallel-item {display: flex;flex-direction: column;z-index: 1;position: relative;background-color: white;}#sk-container-id-5 div.sk-parallel-item:first-child::after {align-self: flex-end;width: 50%;}#sk-container-id-5 div.sk-parallel-item:last-child::after {align-self: flex-start;width: 50%;}#sk-container-id-5 div.sk-parallel-item:only-child::after {width: 0;}#sk-container-id-5 div.sk-dashed-wrapped {border: 1px dashed gray;margin: 0 0.4em 0.5em 0.4em;box-sizing: border-box;padding-bottom: 0.4em;background-color: white;}#sk-container-id-5 div.sk-label label {font-family: monospace;font-weight: bold;display: inline-block;line-height: 1.2em;}#sk-container-id-5 div.sk-label-container {text-align: center;}#sk-container-id-5 div.sk-container {/* jupyter's `normalize.less` sets `[hidden] { display: none; }` but bootstrap.min.css set `[hidden] { display: none !important; }` so we also need the `!important` here to be able to override the default hidden behavior on the sphinx rendered scikit-learn.org. See: https://github.com/scikit-learn/scikit-learn/issues/21755 */display: inline-block !important;position: relative;}#sk-container-id-5 div.sk-text-repr-fallback {display: none;}</style><div id=\"sk-container-id-5\" class=\"sk-top-container\"><div class=\"sk-text-repr-fallback\"><pre>GradientBoostingClassifier(learning_rate=0.3, max_depth=12, max_features=2,\n",
              "                           n_estimators=150, random_state=123)</pre><b>In a Jupyter environment, please rerun this cell to show the HTML representation or trust the notebook. <br />On GitHub, the HTML representation is unable to render, please try loading this page with nbviewer.org.</b></div><div class=\"sk-container\" hidden><div class=\"sk-item\"><div class=\"sk-estimator sk-toggleable\"><input class=\"sk-toggleable__control sk-hidden--visually\" id=\"sk-estimator-id-5\" type=\"checkbox\" checked><label for=\"sk-estimator-id-5\" class=\"sk-toggleable__label sk-toggleable__label-arrow\">GradientBoostingClassifier</label><div class=\"sk-toggleable__content\"><pre>GradientBoostingClassifier(learning_rate=0.3, max_depth=12, max_features=2,\n",
              "                           n_estimators=150, random_state=123)</pre></div></div></div></div></div>"
            ],
            "text/plain": [
              "GradientBoostingClassifier(learning_rate=0.3, max_depth=12, max_features=2,\n",
              "                           n_estimators=150, random_state=123)"
            ]
          },
          "execution_count": 59,
          "metadata": {},
          "output_type": "execute_result"
        }
      ],
      "source": [
        "from sklearn.ensemble import GradientBoostingClassifier\n",
        "X_train_modelo4= x_train_res[:, X_new]\n",
        "X_test_modelo4 = X_test_std [:, X_new]\n",
        "gboos = GradientBoostingClassifier( n_estimators = 150, max_depth= 12, learning_rate= 0.3, max_features = 2, random_state = 123)\n",
        "gboos.fit(X_train_modelo4, y_train_res)"
      ]
    },
    {
      "cell_type": "code",
      "execution_count": 60,
      "metadata": {},
      "outputs": [
        {
          "name": "stdout",
          "output_type": "stream",
          "text": [
            "Train - Accuracy : 1.0\n",
            "Train - classification report:\n",
            "               precision    recall  f1-score   support\n",
            "\n",
            "           0       1.00      1.00      1.00      2973\n",
            "           1       1.00      1.00      1.00      2973\n",
            "\n",
            "    accuracy                           1.00      5946\n",
            "   macro avg       1.00      1.00      1.00      5946\n",
            "weighted avg       1.00      1.00      1.00      5946\n",
            "\n",
            "Test - Accuracy : 0.9897959183673469\n",
            "Test - classification report :               precision    recall  f1-score   support\n",
            "\n",
            "           0       0.99      1.00      0.99       726\n",
            "           1       0.98      0.96      0.97       156\n",
            "\n",
            "    accuracy                           0.99       882\n",
            "   macro avg       0.99      0.98      0.98       882\n",
            "weighted avg       0.99      0.99      0.99       882\n",
            "\n"
          ]
        }
      ],
      "source": [
        "print (\"Train - Accuracy :\", metrics.accuracy_score(y_train_res, gboos.predict(X_train_modelo4)))\n",
        "print (\"Train - classification report:\\n\", metrics.classification_report(y_train_res, gboos.predict(X_train_modelo4)))\n",
        "print (\"Test - Accuracy :\", metrics.accuracy_score(y_test, gboos.predict(X_test_modelo4)))\n",
        "print (\"Test - classification report :\", metrics.classification_report(y_test, gboos.predict(X_test_modelo4)))"
      ]
    },
    {
      "cell_type": "code",
      "execution_count": 61,
      "metadata": {},
      "outputs": [
        {
          "data": {
            "image/png": "[encoded data removed]",
            "text/plain": [
              "<Figure size 640x480 with 2 Axes>"
            ]
          },
          "metadata": {},
          "output_type": "display_data"
        }
      ],
      "source": [
        "from sklearn.metrics import confusion_matrix, ConfusionMatrixDisplay\n",
        "cm1= confusion_matrix(y_test, gboos.predict(X_test_modelo4))\n",
        "cm1_display = ConfusionMatrixDisplay(confusion_matrix = cm1,  display_labels=['No renuncia', 'renuncia'])\n",
        "cm1_display.plot()\n",
        "plt.show()"
      ]
    },
    {
      "cell_type": "markdown",
      "metadata": {},
      "source": [
        "### 4.2 Modelo de Gradient Boosting con metodo wrapper"
      ]
    },
    {
      "cell_type": "code",
      "execution_count": 62,
      "metadata": {},
      "outputs": [
        {
          "data": {
            "text/html": [
              "<style>#sk-container-id-6 {color: black;background-color: white;}#sk-container-id-6 pre{padding: 0;}#sk-container-id-6 div.sk-toggleable {background-color: white;}#sk-container-id-6 label.sk-toggleable__label {cursor: pointer;display: block;width: 100%;margin-bottom: 0;padding: 0.3em;box-sizing: border-box;text-align: center;}#sk-container-id-6 label.sk-toggleable__label-arrow:before {content: \"▸\";float: left;margin-right: 0.25em;color: #696969;}#sk-container-id-6 label.sk-toggleable__label-arrow:hover:before {color: black;}#sk-container-id-6 div.sk-estimator:hover label.sk-toggleable__label-arrow:before {color: black;}#sk-container-id-6 div.sk-toggleable__content {max-height: 0;max-width: 0;overflow: hidden;text-align: left;background-color: #f0f8ff;}#sk-container-id-6 div.sk-toggleable__content pre {margin: 0.2em;color: black;border-radius: 0.25em;background-color: #f0f8ff;}#sk-container-id-6 input.sk-toggleable__control:checked~div.sk-toggleable__content {max-height: 200px;max-width: 100%;overflow: auto;}#sk-container-id-6 input.sk-toggleable__control:checked~label.sk-toggleable__label-arrow:before {content: \"▾\";}#sk-container-id-6 div.sk-estimator input.sk-toggleable__control:checked~label.sk-toggleable__label {background-color: #d4ebff;}#sk-container-id-6 div.sk-label input.sk-toggleable__control:checked~label.sk-toggleable__label {background-color: #d4ebff;}#sk-container-id-6 input.sk-hidden--visually {border: 0;clip: rect(1px 1px 1px 1px);clip: rect(1px, 1px, 1px, 1px);height: 1px;margin: -1px;overflow: hidden;padding: 0;position: absolute;width: 1px;}#sk-container-id-6 div.sk-estimator {font-family: monospace;background-color: #f0f8ff;border: 1px dotted black;border-radius: 0.25em;box-sizing: border-box;margin-bottom: 0.5em;}#sk-container-id-6 div.sk-estimator:hover {background-color: #d4ebff;}#sk-container-id-6 div.sk-parallel-item::after {content: \"\";width: 100%;border-bottom: 1px solid gray;flex-grow: 1;}#sk-container-id-6 div.sk-label:hover label.sk-toggleable__label {background-color: #d4ebff;}#sk-container-id-6 div.sk-serial::before {content: \"\";position: absolute;border-left: 1px solid gray;box-sizing: border-box;top: 0;bottom: 0;left: 50%;z-index: 0;}#sk-container-id-6 div.sk-serial {display: flex;flex-direction: column;align-items: center;background-color: white;padding-right: 0.2em;padding-left: 0.2em;position: relative;}#sk-container-id-6 div.sk-item {position: relative;z-index: 1;}#sk-container-id-6 div.sk-parallel {display: flex;align-items: stretch;justify-content: center;background-color: white;position: relative;}#sk-container-id-6 div.sk-item::before, #sk-container-id-6 div.sk-parallel-item::before {content: \"\";position: absolute;border-left: 1px solid gray;box-sizing: border-box;top: 0;bottom: 0;left: 50%;z-index: -1;}#sk-container-id-6 div.sk-parallel-item {display: flex;flex-direction: column;z-index: 1;position: relative;background-color: white;}#sk-container-id-6 div.sk-parallel-item:first-child::after {align-self: flex-end;width: 50%;}#sk-container-id-6 div.sk-parallel-item:last-child::after {align-self: flex-start;width: 50%;}#sk-container-id-6 div.sk-parallel-item:only-child::after {width: 0;}#sk-container-id-6 div.sk-dashed-wrapped {border: 1px dashed gray;margin: 0 0.4em 0.5em 0.4em;box-sizing: border-box;padding-bottom: 0.4em;background-color: white;}#sk-container-id-6 div.sk-label label {font-family: monospace;font-weight: bold;display: inline-block;line-height: 1.2em;}#sk-container-id-6 div.sk-label-container {text-align: center;}#sk-container-id-6 div.sk-container {/* jupyter's `normalize.less` sets `[hidden] { display: none; }` but bootstrap.min.css set `[hidden] { display: none !important; }` so we also need the `!important` here to be able to override the default hidden behavior on the sphinx rendered scikit-learn.org. See: https://github.com/scikit-learn/scikit-learn/issues/21755 */display: inline-block !important;position: relative;}#sk-container-id-6 div.sk-text-repr-fallback {display: none;}</style><div id=\"sk-container-id-6\" class=\"sk-top-container\"><div class=\"sk-text-repr-fallback\"><pre>GradientBoostingClassifier(max_features=4, random_state=123)</pre><b>In a Jupyter environment, please rerun this cell to show the HTML representation or trust the notebook. <br />On GitHub, the HTML representation is unable to render, please try loading this page with nbviewer.org.</b></div><div class=\"sk-container\" hidden><div class=\"sk-item\"><div class=\"sk-estimator sk-toggleable\"><input class=\"sk-toggleable__control sk-hidden--visually\" id=\"sk-estimator-id-6\" type=\"checkbox\" checked><label for=\"sk-estimator-id-6\" class=\"sk-toggleable__label sk-toggleable__label-arrow\">GradientBoostingClassifier</label><div class=\"sk-toggleable__content\"><pre>GradientBoostingClassifier(max_features=4, random_state=123)</pre></div></div></div></div></div>"
            ],
            "text/plain": [
              "GradientBoostingClassifier(max_features=4, random_state=123)"
            ]
          },
          "execution_count": 62,
          "metadata": {},
          "output_type": "execute_result"
        }
      ],
      "source": [
        "from sklearn.ensemble import GradientBoostingClassifier\n",
        "X_train_modelo4_2= x_train_res[:, X_new_class]\n",
        "X_test_modelo4_2 = X_test_std[:, X_new_class]\n",
        "gboos = GradientBoostingClassifier( n_estimators = 100, learning_rate= 0.1, max_features = 4, random_state = 123)\n",
        "gboos.fit(X_train_modelo4_2, y_train_res)"
      ]
    },
    {
      "cell_type": "code",
      "execution_count": 63,
      "metadata": {},
      "outputs": [
        {
          "name": "stdout",
          "output_type": "stream",
          "text": [
            "Train - Accuracy : 0.9076690211907165\n",
            "Train - classification report:\n",
            "               precision    recall  f1-score   support\n",
            "\n",
            "           0       0.90      0.91      0.91      2973\n",
            "           1       0.91      0.90      0.91      2973\n",
            "\n",
            "    accuracy                           0.91      5946\n",
            "   macro avg       0.91      0.91      0.91      5946\n",
            "weighted avg       0.91      0.91      0.91      5946\n",
            "\n",
            "Test - Accuracy : 0.8492063492063492\n",
            "Test - classification report :               precision    recall  f1-score   support\n",
            "\n",
            "           0       0.93      0.89      0.91       726\n",
            "           1       0.56      0.67      0.61       156\n",
            "\n",
            "    accuracy                           0.85       882\n",
            "   macro avg       0.74      0.78      0.76       882\n",
            "weighted avg       0.86      0.85      0.85       882\n",
            "\n"
          ]
        }
      ],
      "source": [
        "print (\"Train - Accuracy :\", metrics.accuracy_score(y_train_res, gboos.predict(X_train_modelo4_2)))\n",
        "print (\"Train - classification report:\\n\", metrics.classification_report(y_train_res, gboos.predict(X_train_modelo4_2)))\n",
        "print (\"Test - Accuracy :\", metrics.accuracy_score(y_test, gboos.predict(X_test_modelo4_2)))\n",
        "print (\"Test - classification report :\", metrics.classification_report(y_test, gboos.predict(X_test_modelo4_2)))"
      ]
    },
    {
      "cell_type": "code",
      "execution_count": 64,
      "metadata": {},
      "outputs": [
        {
          "data": {
            "image/png": "[encoded data removed]",
            "text/plain": [
              "<Figure size 640x480 with 2 Axes>"
            ]
          },
          "metadata": {},
          "output_type": "display_data"
        }
      ],
      "source": [
        "from sklearn.metrics import confusion_matrix, ConfusionMatrixDisplay\n",
        "cm1= confusion_matrix(y_test, gboos.predict(X_test_modelo4_2))\n",
        "cm1_display = ConfusionMatrixDisplay(confusion_matrix = cm1,  display_labels=['No renuncia', 'renuncia'])\n",
        "cm1_display.plot()\n",
        "plt.show()"
      ]
    },
    {
      "cell_type": "markdown",
      "metadata": {},
      "source": [
        "# Modelo 5 Support Vector Machine "
      ]
    },
    {
      "cell_type": "markdown",
      "metadata": {},
      "source": [
        "### 5.1 Modelo de support vector machine con metodo integrado"
      ]
    },
    {
      "cell_type": "code",
      "execution_count": 65,
      "metadata": {},
      "outputs": [
        {
          "data": {
            "text/html": [
              "<style>#sk-container-id-7 {color: black;background-color: white;}#sk-container-id-7 pre{padding: 0;}#sk-container-id-7 div.sk-toggleable {background-color: white;}#sk-container-id-7 label.sk-toggleable__label {cursor: pointer;display: block;width: 100%;margin-bottom: 0;padding: 0.3em;box-sizing: border-box;text-align: center;}#sk-container-id-7 label.sk-toggleable__label-arrow:before {content: \"▸\";float: left;margin-right: 0.25em;color: #696969;}#sk-container-id-7 label.sk-toggleable__label-arrow:hover:before {color: black;}#sk-container-id-7 div.sk-estimator:hover label.sk-toggleable__label-arrow:before {color: black;}#sk-container-id-7 div.sk-toggleable__content {max-height: 0;max-width: 0;overflow: hidden;text-align: left;background-color: #f0f8ff;}#sk-container-id-7 div.sk-toggleable__content pre {margin: 0.2em;color: black;border-radius: 0.25em;background-color: #f0f8ff;}#sk-container-id-7 input.sk-toggleable__control:checked~div.sk-toggleable__content {max-height: 200px;max-width: 100%;overflow: auto;}#sk-container-id-7 input.sk-toggleable__control:checked~label.sk-toggleable__label-arrow:before {content: \"▾\";}#sk-container-id-7 div.sk-estimator input.sk-toggleable__control:checked~label.sk-toggleable__label {background-color: #d4ebff;}#sk-container-id-7 div.sk-label input.sk-toggleable__control:checked~label.sk-toggleable__label {background-color: #d4ebff;}#sk-container-id-7 input.sk-hidden--visually {border: 0;clip: rect(1px 1px 1px 1px);clip: rect(1px, 1px, 1px, 1px);height: 1px;margin: -1px;overflow: hidden;padding: 0;position: absolute;width: 1px;}#sk-container-id-7 div.sk-estimator {font-family: monospace;background-color: #f0f8ff;border: 1px dotted black;border-radius: 0.25em;box-sizing: border-box;margin-bottom: 0.5em;}#sk-container-id-7 div.sk-estimator:hover {background-color: #d4ebff;}#sk-container-id-7 div.sk-parallel-item::after {content: \"\";width: 100%;border-bottom: 1px solid gray;flex-grow: 1;}#sk-container-id-7 div.sk-label:hover label.sk-toggleable__label {background-color: #d4ebff;}#sk-container-id-7 div.sk-serial::before {content: \"\";position: absolute;border-left: 1px solid gray;box-sizing: border-box;top: 0;bottom: 0;left: 50%;z-index: 0;}#sk-container-id-7 div.sk-serial {display: flex;flex-direction: column;align-items: center;background-color: white;padding-right: 0.2em;padding-left: 0.2em;position: relative;}#sk-container-id-7 div.sk-item {position: relative;z-index: 1;}#sk-container-id-7 div.sk-parallel {display: flex;align-items: stretch;justify-content: center;background-color: white;position: relative;}#sk-container-id-7 div.sk-item::before, #sk-container-id-7 div.sk-parallel-item::before {content: \"\";position: absolute;border-left: 1px solid gray;box-sizing: border-box;top: 0;bottom: 0;left: 50%;z-index: -1;}#sk-container-id-7 div.sk-parallel-item {display: flex;flex-direction: column;z-index: 1;position: relative;background-color: white;}#sk-container-id-7 div.sk-parallel-item:first-child::after {align-self: flex-end;width: 50%;}#sk-container-id-7 div.sk-parallel-item:last-child::after {align-self: flex-start;width: 50%;}#sk-container-id-7 div.sk-parallel-item:only-child::after {width: 0;}#sk-container-id-7 div.sk-dashed-wrapped {border: 1px dashed gray;margin: 0 0.4em 0.5em 0.4em;box-sizing: border-box;padding-bottom: 0.4em;background-color: white;}#sk-container-id-7 div.sk-label label {font-family: monospace;font-weight: bold;display: inline-block;line-height: 1.2em;}#sk-container-id-7 div.sk-label-container {text-align: center;}#sk-container-id-7 div.sk-container {/* jupyter's `normalize.less` sets `[hidden] { display: none; }` but bootstrap.min.css set `[hidden] { display: none !important; }` so we also need the `!important` here to be able to override the default hidden behavior on the sphinx rendered scikit-learn.org. See: https://github.com/scikit-learn/scikit-learn/issues/21755 */display: inline-block !important;position: relative;}#sk-container-id-7 div.sk-text-repr-fallback {display: none;}</style><div id=\"sk-container-id-7\" class=\"sk-top-container\"><div class=\"sk-text-repr-fallback\"><pre>SVC(C=1.5, class_weight=&#x27;balanced&#x27;, kernel=&#x27;linear&#x27;, random_state=123)</pre><b>In a Jupyter environment, please rerun this cell to show the HTML representation or trust the notebook. <br />On GitHub, the HTML representation is unable to render, please try loading this page with nbviewer.org.</b></div><div class=\"sk-container\" hidden><div class=\"sk-item\"><div class=\"sk-estimator sk-toggleable\"><input class=\"sk-toggleable__control sk-hidden--visually\" id=\"sk-estimator-id-7\" type=\"checkbox\" checked><label for=\"sk-estimator-id-7\" class=\"sk-toggleable__label sk-toggleable__label-arrow\">SVC</label><div class=\"sk-toggleable__content\"><pre>SVC(C=1.5, class_weight=&#x27;balanced&#x27;, kernel=&#x27;linear&#x27;, random_state=123)</pre></div></div></div></div></div>"
            ],
            "text/plain": [
              "SVC(C=1.5, class_weight='balanced', kernel='linear', random_state=123)"
            ]
          },
          "execution_count": 65,
          "metadata": {},
          "output_type": "execute_result"
        }
      ],
      "source": [
        "from sklearn.svm import SVC\n",
        "X_train_modelo5=X_train_base1\n",
        "X_test_modelo5=X_test_base1\n",
        "svm_model = SVC(C = 1.5, kernel = 'linear', class_weight = 'balanced', max_iter =-1, random_state=123)\n",
        "svm_model.fit(X_train_modelo5, y_train)"
      ]
    },
    {
      "cell_type": "code",
      "execution_count": 66,
      "metadata": {},
      "outputs": [
        {
          "name": "stdout",
          "output_type": "stream",
          "text": [
            "Train - Accuracy : 0.7491496598639455\n",
            "Train - classification report:\n",
            "               precision    recall  f1-score   support\n",
            "\n",
            "           0       0.95      0.74      0.83      2973\n",
            "           1       0.36      0.78      0.49       555\n",
            "\n",
            "    accuracy                           0.75      3528\n",
            "   macro avg       0.65      0.76      0.66      3528\n",
            "weighted avg       0.85      0.75      0.78      3528\n",
            "\n",
            "Test - Accuracy : 0.7142857142857143\n",
            "Test - classification report :               precision    recall  f1-score   support\n",
            "\n",
            "           0       0.92      0.71      0.80       726\n",
            "           1       0.35      0.71      0.47       156\n",
            "\n",
            "    accuracy                           0.71       882\n",
            "   macro avg       0.63      0.71      0.64       882\n",
            "weighted avg       0.82      0.71      0.75       882\n",
            "\n"
          ]
        }
      ],
      "source": [
        "print (\"Train - Accuracy :\", metrics.accuracy_score(y_train, svm_model.predict(X_train_modelo5)))\n",
        "print (\"Train - classification report:\\n\", metrics.classification_report(y_train, svm_model.predict(X_train_modelo5)))\n",
        "print (\"Test - Accuracy :\", metrics.accuracy_score(y_test, svm_model.predict(X_test_modelo5)))\n",
        "print (\"Test - classification report :\", metrics.classification_report(y_test, svm_model.predict(X_test_modelo5)))"
      ]
    },
    {
      "cell_type": "code",
      "execution_count": 67,
      "metadata": {},
      "outputs": [
        {
          "data": {
            "image/png": "[encoded data removed]",
            "text/plain": [
              "<Figure size 640x480 with 2 Axes>"
            ]
          },
          "metadata": {},
          "output_type": "display_data"
        }
      ],
      "source": [
        "from sklearn.metrics import confusion_matrix, ConfusionMatrixDisplay\n",
        "cm1= confusion_matrix(y_test, svm_model.predict(X_test_modelo5))\n",
        "cm1_display = ConfusionMatrixDisplay(confusion_matrix = cm1,  display_labels=['No renuncia', 'renuncia'])\n",
        "cm1_display.plot()\n",
        "plt.show()"
      ]
    },
    {
      "cell_type": "markdown",
      "metadata": {},
      "source": [
        "#### Model support vector machine con hiperparametros optimizados"
      ]
    },
    {
      "cell_type": "code",
      "execution_count": 76,
      "metadata": {},
      "outputs": [],
      "source": [
        "# Definición de cuadricula de hiperparametros\n",
        "parameters = {'kernel': ['linear', 'poly', 'rbf', 'sigmoid', 'precomputed'],\n",
        "              'C': [1, 2, 3], #cambiar\n",
        "              'max_iter': [0,1,2,4,5],} #cambiar"
      ]
    },
    {
      "cell_type": "code",
      "execution_count": null,
      "metadata": {},
      "outputs": [],
      "source": [
        "'Kernel': ['linear', 'poly', 'rbf', 'sigmoid', 'precomputed']"
      ]
    },
    {
      "cell_type": "code",
      "execution_count": 77,
      "metadata": {},
      "outputs": [
        {
          "ename": "KeyboardInterrupt",
          "evalue": "",
          "output_type": "error",
          "traceback": [
            "\u001b[1;31m---------------------------------------------------------------------------\u001b[0m",
            "\u001b[1;31mKeyboardInterrupt\u001b[0m                         Traceback (most recent call last)",
            "\u001b[1;32md:\\Informacion\\Desktop\\UDEA\\NOVENO SEMESTRE\\ANALITICA 2\\VISUAL CODE\\Analitica2_trabajo1\\Selección_de_variables_y_regularización.ipynb Cell 96\u001b[0m line \u001b[0;36m9\n\u001b[0;32m      <a href='vscode-notebook-cell:/d%3A/Informacion/Desktop/UDEA/NOVENO%20SEMESTRE/ANALITICA%202/VISUAL%20CODE/Analitica2_trabajo1/Selecci%C3%B3n_de_variables_y_regularizaci%C3%B3n.ipynb#Y163sZmlsZQ%3D%3D?line=5'>6</a>\u001b[0m grid_search \u001b[39m=\u001b[39m GridSearchCV(ranfor, parameters, scoring\u001b[39m=\u001b[39m\u001b[39m'\u001b[39m\u001b[39mr2\u001b[39m\u001b[39m'\u001b[39m, cv\u001b[39m=\u001b[39m\u001b[39m5\u001b[39m, n_jobs\u001b[39m=\u001b[39m\u001b[39m-\u001b[39m\u001b[39m1\u001b[39m)\n\u001b[0;32m      <a href='vscode-notebook-cell:/d%3A/Informacion/Desktop/UDEA/NOVENO%20SEMESTRE/ANALITICA%202/VISUAL%20CODE/Analitica2_trabajo1/Selecci%C3%B3n_de_variables_y_regularizaci%C3%B3n.ipynb#Y163sZmlsZQ%3D%3D?line=7'>8</a>\u001b[0m \u001b[39m# Iniciamos la busqueda\u001b[39;00m\n\u001b[1;32m----> <a href='vscode-notebook-cell:/d%3A/Informacion/Desktop/UDEA/NOVENO%20SEMESTRE/ANALITICA%202/VISUAL%20CODE/Analitica2_trabajo1/Selecci%C3%B3n_de_variables_y_regularizaci%C3%B3n.ipynb#Y163sZmlsZQ%3D%3D?line=8'>9</a>\u001b[0m grid_result \u001b[39m=\u001b[39m grid_search\u001b[39m.\u001b[39;49mfit(X_train_modelo5, y_train)\n\u001b[0;32m     <a href='vscode-notebook-cell:/d%3A/Informacion/Desktop/UDEA/NOVENO%20SEMESTRE/ANALITICA%202/VISUAL%20CODE/Analitica2_trabajo1/Selecci%C3%B3n_de_variables_y_regularizaci%C3%B3n.ipynb#Y163sZmlsZQ%3D%3D?line=10'>11</a>\u001b[0m \u001b[39mprint\u001b[39m(\u001b[39m'\u001b[39m\u001b[39mBest Params: \u001b[39m\u001b[39m'\u001b[39m, grid_result\u001b[39m.\u001b[39mbest_params_)\n\u001b[0;32m     <a href='vscode-notebook-cell:/d%3A/Informacion/Desktop/UDEA/NOVENO%20SEMESTRE/ANALITICA%202/VISUAL%20CODE/Analitica2_trabajo1/Selecci%C3%B3n_de_variables_y_regularizaci%C3%B3n.ipynb#Y163sZmlsZQ%3D%3D?line=11'>12</a>\u001b[0m \u001b[39mprint\u001b[39m(\u001b[39m'\u001b[39m\u001b[39mBest Score: \u001b[39m\u001b[39m'\u001b[39m, grid_result\u001b[39m.\u001b[39mbest_score_)\n",
            "File \u001b[1;32mc:\\Users\\Luisa\\anaconda3\\lib\\site-packages\\sklearn\\model_selection\\_search.py:874\u001b[0m, in \u001b[0;36mBaseSearchCV.fit\u001b[1;34m(self, X, y, groups, **fit_params)\u001b[0m\n\u001b[0;32m    868\u001b[0m     results \u001b[39m=\u001b[39m \u001b[39mself\u001b[39m\u001b[39m.\u001b[39m_format_results(\n\u001b[0;32m    869\u001b[0m         all_candidate_params, n_splits, all_out, all_more_results\n\u001b[0;32m    870\u001b[0m     )\n\u001b[0;32m    872\u001b[0m     \u001b[39mreturn\u001b[39;00m results\n\u001b[1;32m--> 874\u001b[0m \u001b[39mself\u001b[39;49m\u001b[39m.\u001b[39;49m_run_search(evaluate_candidates)\n\u001b[0;32m    876\u001b[0m \u001b[39m# multimetric is determined here because in the case of a callable\u001b[39;00m\n\u001b[0;32m    877\u001b[0m \u001b[39m# self.scoring the return type is only known after calling\u001b[39;00m\n\u001b[0;32m    878\u001b[0m first_test_score \u001b[39m=\u001b[39m all_out[\u001b[39m0\u001b[39m][\u001b[39m\"\u001b[39m\u001b[39mtest_scores\u001b[39m\u001b[39m\"\u001b[39m]\n",
            "File \u001b[1;32mc:\\Users\\Luisa\\anaconda3\\lib\\site-packages\\sklearn\\model_selection\\_search.py:1388\u001b[0m, in \u001b[0;36mGridSearchCV._run_search\u001b[1;34m(self, evaluate_candidates)\u001b[0m\n\u001b[0;32m   1386\u001b[0m \u001b[39mdef\u001b[39;00m \u001b[39m_run_search\u001b[39m(\u001b[39mself\u001b[39m, evaluate_candidates):\n\u001b[0;32m   1387\u001b[0m     \u001b[39m\"\"\"Search all candidates in param_grid\"\"\"\u001b[39;00m\n\u001b[1;32m-> 1388\u001b[0m     evaluate_candidates(ParameterGrid(\u001b[39mself\u001b[39;49m\u001b[39m.\u001b[39;49mparam_grid))\n",
            "File \u001b[1;32mc:\\Users\\Luisa\\anaconda3\\lib\\site-packages\\sklearn\\model_selection\\_search.py:821\u001b[0m, in \u001b[0;36mBaseSearchCV.fit.<locals>.evaluate_candidates\u001b[1;34m(candidate_params, cv, more_results)\u001b[0m\n\u001b[0;32m    813\u001b[0m \u001b[39mif\u001b[39;00m \u001b[39mself\u001b[39m\u001b[39m.\u001b[39mverbose \u001b[39m>\u001b[39m \u001b[39m0\u001b[39m:\n\u001b[0;32m    814\u001b[0m     \u001b[39mprint\u001b[39m(\n\u001b[0;32m    815\u001b[0m         \u001b[39m\"\u001b[39m\u001b[39mFitting \u001b[39m\u001b[39m{0}\u001b[39;00m\u001b[39m folds for each of \u001b[39m\u001b[39m{1}\u001b[39;00m\u001b[39m candidates,\u001b[39m\u001b[39m\"\u001b[39m\n\u001b[0;32m    816\u001b[0m         \u001b[39m\"\u001b[39m\u001b[39m totalling \u001b[39m\u001b[39m{2}\u001b[39;00m\u001b[39m fits\u001b[39m\u001b[39m\"\u001b[39m\u001b[39m.\u001b[39mformat(\n\u001b[0;32m    817\u001b[0m             n_splits, n_candidates, n_candidates \u001b[39m*\u001b[39m n_splits\n\u001b[0;32m    818\u001b[0m         )\n\u001b[0;32m    819\u001b[0m     )\n\u001b[1;32m--> 821\u001b[0m out \u001b[39m=\u001b[39m parallel(\n\u001b[0;32m    822\u001b[0m     delayed(_fit_and_score)(\n\u001b[0;32m    823\u001b[0m         clone(base_estimator),\n\u001b[0;32m    824\u001b[0m         X,\n\u001b[0;32m    825\u001b[0m         y,\n\u001b[0;32m    826\u001b[0m         train\u001b[39m=\u001b[39;49mtrain,\n\u001b[0;32m    827\u001b[0m         test\u001b[39m=\u001b[39;49mtest,\n\u001b[0;32m    828\u001b[0m         parameters\u001b[39m=\u001b[39;49mparameters,\n\u001b[0;32m    829\u001b[0m         split_progress\u001b[39m=\u001b[39;49m(split_idx, n_splits),\n\u001b[0;32m    830\u001b[0m         candidate_progress\u001b[39m=\u001b[39;49m(cand_idx, n_candidates),\n\u001b[0;32m    831\u001b[0m         \u001b[39m*\u001b[39;49m\u001b[39m*\u001b[39;49mfit_and_score_kwargs,\n\u001b[0;32m    832\u001b[0m     )\n\u001b[0;32m    833\u001b[0m     \u001b[39mfor\u001b[39;49;00m (cand_idx, parameters), (split_idx, (train, test)) \u001b[39min\u001b[39;49;00m product(\n\u001b[0;32m    834\u001b[0m         \u001b[39menumerate\u001b[39;49m(candidate_params), \u001b[39menumerate\u001b[39;49m(cv\u001b[39m.\u001b[39;49msplit(X, y, groups))\n\u001b[0;32m    835\u001b[0m     )\n\u001b[0;32m    836\u001b[0m )\n\u001b[0;32m    838\u001b[0m \u001b[39mif\u001b[39;00m \u001b[39mlen\u001b[39m(out) \u001b[39m<\u001b[39m \u001b[39m1\u001b[39m:\n\u001b[0;32m    839\u001b[0m     \u001b[39mraise\u001b[39;00m \u001b[39mValueError\u001b[39;00m(\n\u001b[0;32m    840\u001b[0m         \u001b[39m\"\u001b[39m\u001b[39mNo fits were performed. \u001b[39m\u001b[39m\"\u001b[39m\n\u001b[0;32m    841\u001b[0m         \u001b[39m\"\u001b[39m\u001b[39mWas the CV iterator empty? \u001b[39m\u001b[39m\"\u001b[39m\n\u001b[0;32m    842\u001b[0m         \u001b[39m\"\u001b[39m\u001b[39mWere there no candidates?\u001b[39m\u001b[39m\"\u001b[39m\n\u001b[0;32m    843\u001b[0m     )\n",
            "File \u001b[1;32mc:\\Users\\Luisa\\anaconda3\\lib\\site-packages\\sklearn\\utils\\parallel.py:63\u001b[0m, in \u001b[0;36mParallel.__call__\u001b[1;34m(self, iterable)\u001b[0m\n\u001b[0;32m     58\u001b[0m config \u001b[39m=\u001b[39m get_config()\n\u001b[0;32m     59\u001b[0m iterable_with_config \u001b[39m=\u001b[39m (\n\u001b[0;32m     60\u001b[0m     (_with_config(delayed_func, config), args, kwargs)\n\u001b[0;32m     61\u001b[0m     \u001b[39mfor\u001b[39;00m delayed_func, args, kwargs \u001b[39min\u001b[39;00m iterable\n\u001b[0;32m     62\u001b[0m )\n\u001b[1;32m---> 63\u001b[0m \u001b[39mreturn\u001b[39;00m \u001b[39msuper\u001b[39;49m()\u001b[39m.\u001b[39;49m\u001b[39m__call__\u001b[39;49m(iterable_with_config)\n",
            "File \u001b[1;32mc:\\Users\\Luisa\\anaconda3\\lib\\site-packages\\joblib\\parallel.py:1061\u001b[0m, in \u001b[0;36mParallel.__call__\u001b[1;34m(self, iterable)\u001b[0m\n\u001b[0;32m   1058\u001b[0m     \u001b[39mself\u001b[39m\u001b[39m.\u001b[39m_iterating \u001b[39m=\u001b[39m \u001b[39mFalse\u001b[39;00m\n\u001b[0;32m   1060\u001b[0m \u001b[39mwith\u001b[39;00m \u001b[39mself\u001b[39m\u001b[39m.\u001b[39m_backend\u001b[39m.\u001b[39mretrieval_context():\n\u001b[1;32m-> 1061\u001b[0m     \u001b[39mself\u001b[39;49m\u001b[39m.\u001b[39;49mretrieve()\n\u001b[0;32m   1062\u001b[0m \u001b[39m# Make sure that we get a last message telling us we are done\u001b[39;00m\n\u001b[0;32m   1063\u001b[0m elapsed_time \u001b[39m=\u001b[39m time\u001b[39m.\u001b[39mtime() \u001b[39m-\u001b[39m \u001b[39mself\u001b[39m\u001b[39m.\u001b[39m_start_time\n",
            "File \u001b[1;32mc:\\Users\\Luisa\\anaconda3\\lib\\site-packages\\joblib\\parallel.py:938\u001b[0m, in \u001b[0;36mParallel.retrieve\u001b[1;34m(self)\u001b[0m\n\u001b[0;32m    936\u001b[0m \u001b[39mtry\u001b[39;00m:\n\u001b[0;32m    937\u001b[0m     \u001b[39mif\u001b[39;00m \u001b[39mgetattr\u001b[39m(\u001b[39mself\u001b[39m\u001b[39m.\u001b[39m_backend, \u001b[39m'\u001b[39m\u001b[39msupports_timeout\u001b[39m\u001b[39m'\u001b[39m, \u001b[39mFalse\u001b[39;00m):\n\u001b[1;32m--> 938\u001b[0m         \u001b[39mself\u001b[39m\u001b[39m.\u001b[39m_output\u001b[39m.\u001b[39mextend(job\u001b[39m.\u001b[39;49mget(timeout\u001b[39m=\u001b[39;49m\u001b[39mself\u001b[39;49m\u001b[39m.\u001b[39;49mtimeout))\n\u001b[0;32m    939\u001b[0m     \u001b[39melse\u001b[39;00m:\n\u001b[0;32m    940\u001b[0m         \u001b[39mself\u001b[39m\u001b[39m.\u001b[39m_output\u001b[39m.\u001b[39mextend(job\u001b[39m.\u001b[39mget())\n",
            "File \u001b[1;32mc:\\Users\\Luisa\\anaconda3\\lib\\site-packages\\joblib\\_parallel_backends.py:542\u001b[0m, in \u001b[0;36mLokyBackend.wrap_future_result\u001b[1;34m(future, timeout)\u001b[0m\n\u001b[0;32m    539\u001b[0m \u001b[39m\"\"\"Wrapper for Future.result to implement the same behaviour as\u001b[39;00m\n\u001b[0;32m    540\u001b[0m \u001b[39mAsyncResults.get from multiprocessing.\"\"\"\u001b[39;00m\n\u001b[0;32m    541\u001b[0m \u001b[39mtry\u001b[39;00m:\n\u001b[1;32m--> 542\u001b[0m     \u001b[39mreturn\u001b[39;00m future\u001b[39m.\u001b[39;49mresult(timeout\u001b[39m=\u001b[39;49mtimeout)\n\u001b[0;32m    543\u001b[0m \u001b[39mexcept\u001b[39;00m CfTimeoutError \u001b[39mas\u001b[39;00m e:\n\u001b[0;32m    544\u001b[0m     \u001b[39mraise\u001b[39;00m \u001b[39mTimeoutError\u001b[39;00m \u001b[39mfrom\u001b[39;00m \u001b[39me\u001b[39;00m\n",
            "File \u001b[1;32mc:\\Users\\Luisa\\anaconda3\\lib\\concurrent\\futures\\_base.py:453\u001b[0m, in \u001b[0;36mFuture.result\u001b[1;34m(self, timeout)\u001b[0m\n\u001b[0;32m    450\u001b[0m \u001b[39melif\u001b[39;00m \u001b[39mself\u001b[39m\u001b[39m.\u001b[39m_state \u001b[39m==\u001b[39m FINISHED:\n\u001b[0;32m    451\u001b[0m     \u001b[39mreturn\u001b[39;00m \u001b[39mself\u001b[39m\u001b[39m.\u001b[39m__get_result()\n\u001b[1;32m--> 453\u001b[0m \u001b[39mself\u001b[39;49m\u001b[39m.\u001b[39;49m_condition\u001b[39m.\u001b[39;49mwait(timeout)\n\u001b[0;32m    455\u001b[0m \u001b[39mif\u001b[39;00m \u001b[39mself\u001b[39m\u001b[39m.\u001b[39m_state \u001b[39min\u001b[39;00m [CANCELLED, CANCELLED_AND_NOTIFIED]:\n\u001b[0;32m    456\u001b[0m     \u001b[39mraise\u001b[39;00m CancelledError()\n",
            "File \u001b[1;32mc:\\Users\\Luisa\\anaconda3\\lib\\threading.py:320\u001b[0m, in \u001b[0;36mCondition.wait\u001b[1;34m(self, timeout)\u001b[0m\n\u001b[0;32m    318\u001b[0m \u001b[39mtry\u001b[39;00m:    \u001b[39m# restore state no matter what (e.g., KeyboardInterrupt)\u001b[39;00m\n\u001b[0;32m    319\u001b[0m     \u001b[39mif\u001b[39;00m timeout \u001b[39mis\u001b[39;00m \u001b[39mNone\u001b[39;00m:\n\u001b[1;32m--> 320\u001b[0m         waiter\u001b[39m.\u001b[39;49macquire()\n\u001b[0;32m    321\u001b[0m         gotit \u001b[39m=\u001b[39m \u001b[39mTrue\u001b[39;00m\n\u001b[0;32m    322\u001b[0m     \u001b[39melse\u001b[39;00m:\n",
            "\u001b[1;31mKeyboardInterrupt\u001b[0m: "
          ]
        }
      ],
      "source": [
        "#Definición del modelo\n",
        "from sklearn.ensemble import GradientBoostingClassifier\n",
        "from sklearn.svm import SVC\n",
        "ranfor = SVC(random_state = 123)\n",
        "\n",
        "grid_search = GridSearchCV(ranfor, parameters, scoring='r2', cv=5, n_jobs=-1)\n",
        "\n",
        "# Iniciamos la busqueda\n",
        "grid_result = grid_search.fit(X_train_modelo5, y_train)\n",
        "\n",
        "print('Best Params: ', grid_result.best_params_)\n",
        "print('Best Score: ', grid_result.best_score_)"
      ]
    },
    {
      "cell_type": "code",
      "execution_count": 68,
      "metadata": {},
      "outputs": [
        {
          "data": {
            "text/html": [
              "<style>#sk-container-id-8 {color: black;background-color: white;}#sk-container-id-8 pre{padding: 0;}#sk-container-id-8 div.sk-toggleable {background-color: white;}#sk-container-id-8 label.sk-toggleable__label {cursor: pointer;display: block;width: 100%;margin-bottom: 0;padding: 0.3em;box-sizing: border-box;text-align: center;}#sk-container-id-8 label.sk-toggleable__label-arrow:before {content: \"▸\";float: left;margin-right: 0.25em;color: #696969;}#sk-container-id-8 label.sk-toggleable__label-arrow:hover:before {color: black;}#sk-container-id-8 div.sk-estimator:hover label.sk-toggleable__label-arrow:before {color: black;}#sk-container-id-8 div.sk-toggleable__content {max-height: 0;max-width: 0;overflow: hidden;text-align: left;background-color: #f0f8ff;}#sk-container-id-8 div.sk-toggleable__content pre {margin: 0.2em;color: black;border-radius: 0.25em;background-color: #f0f8ff;}#sk-container-id-8 input.sk-toggleable__control:checked~div.sk-toggleable__content {max-height: 200px;max-width: 100%;overflow: auto;}#sk-container-id-8 input.sk-toggleable__control:checked~label.sk-toggleable__label-arrow:before {content: \"▾\";}#sk-container-id-8 div.sk-estimator input.sk-toggleable__control:checked~label.sk-toggleable__label {background-color: #d4ebff;}#sk-container-id-8 div.sk-label input.sk-toggleable__control:checked~label.sk-toggleable__label {background-color: #d4ebff;}#sk-container-id-8 input.sk-hidden--visually {border: 0;clip: rect(1px 1px 1px 1px);clip: rect(1px, 1px, 1px, 1px);height: 1px;margin: -1px;overflow: hidden;padding: 0;position: absolute;width: 1px;}#sk-container-id-8 div.sk-estimator {font-family: monospace;background-color: #f0f8ff;border: 1px dotted black;border-radius: 0.25em;box-sizing: border-box;margin-bottom: 0.5em;}#sk-container-id-8 div.sk-estimator:hover {background-color: #d4ebff;}#sk-container-id-8 div.sk-parallel-item::after {content: \"\";width: 100%;border-bottom: 1px solid gray;flex-grow: 1;}#sk-container-id-8 div.sk-label:hover label.sk-toggleable__label {background-color: #d4ebff;}#sk-container-id-8 div.sk-serial::before {content: \"\";position: absolute;border-left: 1px solid gray;box-sizing: border-box;top: 0;bottom: 0;left: 50%;z-index: 0;}#sk-container-id-8 div.sk-serial {display: flex;flex-direction: column;align-items: center;background-color: white;padding-right: 0.2em;padding-left: 0.2em;position: relative;}#sk-container-id-8 div.sk-item {position: relative;z-index: 1;}#sk-container-id-8 div.sk-parallel {display: flex;align-items: stretch;justify-content: center;background-color: white;position: relative;}#sk-container-id-8 div.sk-item::before, #sk-container-id-8 div.sk-parallel-item::before {content: \"\";position: absolute;border-left: 1px solid gray;box-sizing: border-box;top: 0;bottom: 0;left: 50%;z-index: -1;}#sk-container-id-8 div.sk-parallel-item {display: flex;flex-direction: column;z-index: 1;position: relative;background-color: white;}#sk-container-id-8 div.sk-parallel-item:first-child::after {align-self: flex-end;width: 50%;}#sk-container-id-8 div.sk-parallel-item:last-child::after {align-self: flex-start;width: 50%;}#sk-container-id-8 div.sk-parallel-item:only-child::after {width: 0;}#sk-container-id-8 div.sk-dashed-wrapped {border: 1px dashed gray;margin: 0 0.4em 0.5em 0.4em;box-sizing: border-box;padding-bottom: 0.4em;background-color: white;}#sk-container-id-8 div.sk-label label {font-family: monospace;font-weight: bold;display: inline-block;line-height: 1.2em;}#sk-container-id-8 div.sk-label-container {text-align: center;}#sk-container-id-8 div.sk-container {/* jupyter's `normalize.less` sets `[hidden] { display: none; }` but bootstrap.min.css set `[hidden] { display: none !important; }` so we also need the `!important` here to be able to override the default hidden behavior on the sphinx rendered scikit-learn.org. See: https://github.com/scikit-learn/scikit-learn/issues/21755 */display: inline-block !important;position: relative;}#sk-container-id-8 div.sk-text-repr-fallback {display: none;}</style><div id=\"sk-container-id-8\" class=\"sk-top-container\"><div class=\"sk-text-repr-fallback\"><pre>SVC(C=2, class_weight=&#x27;balanced&#x27;, kernel=&#x27;linear&#x27;, max_iter=4, random_state=123)</pre><b>In a Jupyter environment, please rerun this cell to show the HTML representation or trust the notebook. <br />On GitHub, the HTML representation is unable to render, please try loading this page with nbviewer.org.</b></div><div class=\"sk-container\" hidden><div class=\"sk-item\"><div class=\"sk-estimator sk-toggleable\"><input class=\"sk-toggleable__control sk-hidden--visually\" id=\"sk-estimator-id-8\" type=\"checkbox\" checked><label for=\"sk-estimator-id-8\" class=\"sk-toggleable__label sk-toggleable__label-arrow\">SVC</label><div class=\"sk-toggleable__content\"><pre>SVC(C=2, class_weight=&#x27;balanced&#x27;, kernel=&#x27;linear&#x27;, max_iter=4, random_state=123)</pre></div></div></div></div></div>"
            ],
            "text/plain": [
              "SVC(C=2, class_weight='balanced', kernel='linear', max_iter=4, random_state=123)"
            ]
          },
          "execution_count": 68,
          "metadata": {},
          "output_type": "execute_result"
        }
      ],
      "source": [
        "from sklearn.svm import SVC\n",
        "X_train_modelo5=X_train_base1\n",
        "X_test_modelo5=X_test_base1\n",
        "svm_model = SVC(C = 2, kernel = 'linear', class_weight = 'balanced', max_iter =4, random_state=123)\n",
        "svm_model.fit(X_train_modelo5, y_train)"
      ]
    },
    {
      "cell_type": "code",
      "execution_count": 69,
      "metadata": {},
      "outputs": [
        {
          "name": "stdout",
          "output_type": "stream",
          "text": [
            "Train - Accuracy : 0.4064625850340136\n",
            "Train - classification report:\n",
            "               precision    recall  f1-score   support\n",
            "\n",
            "           0       0.82      0.38      0.52      2973\n",
            "           1       0.14      0.55      0.23       555\n",
            "\n",
            "    accuracy                           0.41      3528\n",
            "   macro avg       0.48      0.46      0.37      3528\n",
            "weighted avg       0.71      0.41      0.47      3528\n",
            "\n",
            "Test - Accuracy : 0.42630385487528344\n",
            "Test - classification report :               precision    recall  f1-score   support\n",
            "\n",
            "           0       0.80      0.41      0.54       726\n",
            "           1       0.16      0.52      0.24       156\n",
            "\n",
            "    accuracy                           0.43       882\n",
            "   macro avg       0.48      0.46      0.39       882\n",
            "weighted avg       0.68      0.43      0.49       882\n",
            "\n"
          ]
        }
      ],
      "source": [
        "print (\"Train - Accuracy :\", metrics.accuracy_score(y_train, svm_model.predict(X_train_modelo5)))\n",
        "print (\"Train - classification report:\\n\", metrics.classification_report(y_train, svm_model.predict(X_train_modelo5)))\n",
        "print (\"Test - Accuracy :\", metrics.accuracy_score(y_test, svm_model.predict(X_test_modelo5)))\n",
        "print (\"Test - classification report :\", metrics.classification_report(y_test, svm_model.predict(X_test_modelo5)))"
      ]
    },
    {
      "cell_type": "markdown",
      "metadata": {},
      "source": [
        "###  5.2 Modelo support vector machine con metodo wrapper\n"
      ]
    },
    {
      "cell_type": "code",
      "execution_count": 70,
      "metadata": {},
      "outputs": [
        {
          "data": {
            "text/html": [
              "<style>#sk-container-id-9 {color: black;background-color: white;}#sk-container-id-9 pre{padding: 0;}#sk-container-id-9 div.sk-toggleable {background-color: white;}#sk-container-id-9 label.sk-toggleable__label {cursor: pointer;display: block;width: 100%;margin-bottom: 0;padding: 0.3em;box-sizing: border-box;text-align: center;}#sk-container-id-9 label.sk-toggleable__label-arrow:before {content: \"▸\";float: left;margin-right: 0.25em;color: #696969;}#sk-container-id-9 label.sk-toggleable__label-arrow:hover:before {color: black;}#sk-container-id-9 div.sk-estimator:hover label.sk-toggleable__label-arrow:before {color: black;}#sk-container-id-9 div.sk-toggleable__content {max-height: 0;max-width: 0;overflow: hidden;text-align: left;background-color: #f0f8ff;}#sk-container-id-9 div.sk-toggleable__content pre {margin: 0.2em;color: black;border-radius: 0.25em;background-color: #f0f8ff;}#sk-container-id-9 input.sk-toggleable__control:checked~div.sk-toggleable__content {max-height: 200px;max-width: 100%;overflow: auto;}#sk-container-id-9 input.sk-toggleable__control:checked~label.sk-toggleable__label-arrow:before {content: \"▾\";}#sk-container-id-9 div.sk-estimator input.sk-toggleable__control:checked~label.sk-toggleable__label {background-color: #d4ebff;}#sk-container-id-9 div.sk-label input.sk-toggleable__control:checked~label.sk-toggleable__label {background-color: #d4ebff;}#sk-container-id-9 input.sk-hidden--visually {border: 0;clip: rect(1px 1px 1px 1px);clip: rect(1px, 1px, 1px, 1px);height: 1px;margin: -1px;overflow: hidden;padding: 0;position: absolute;width: 1px;}#sk-container-id-9 div.sk-estimator {font-family: monospace;background-color: #f0f8ff;border: 1px dotted black;border-radius: 0.25em;box-sizing: border-box;margin-bottom: 0.5em;}#sk-container-id-9 div.sk-estimator:hover {background-color: #d4ebff;}#sk-container-id-9 div.sk-parallel-item::after {content: \"\";width: 100%;border-bottom: 1px solid gray;flex-grow: 1;}#sk-container-id-9 div.sk-label:hover label.sk-toggleable__label {background-color: #d4ebff;}#sk-container-id-9 div.sk-serial::before {content: \"\";position: absolute;border-left: 1px solid gray;box-sizing: border-box;top: 0;bottom: 0;left: 50%;z-index: 0;}#sk-container-id-9 div.sk-serial {display: flex;flex-direction: column;align-items: center;background-color: white;padding-right: 0.2em;padding-left: 0.2em;position: relative;}#sk-container-id-9 div.sk-item {position: relative;z-index: 1;}#sk-container-id-9 div.sk-parallel {display: flex;align-items: stretch;justify-content: center;background-color: white;position: relative;}#sk-container-id-9 div.sk-item::before, #sk-container-id-9 div.sk-parallel-item::before {content: \"\";position: absolute;border-left: 1px solid gray;box-sizing: border-box;top: 0;bottom: 0;left: 50%;z-index: -1;}#sk-container-id-9 div.sk-parallel-item {display: flex;flex-direction: column;z-index: 1;position: relative;background-color: white;}#sk-container-id-9 div.sk-parallel-item:first-child::after {align-self: flex-end;width: 50%;}#sk-container-id-9 div.sk-parallel-item:last-child::after {align-self: flex-start;width: 50%;}#sk-container-id-9 div.sk-parallel-item:only-child::after {width: 0;}#sk-container-id-9 div.sk-dashed-wrapped {border: 1px dashed gray;margin: 0 0.4em 0.5em 0.4em;box-sizing: border-box;padding-bottom: 0.4em;background-color: white;}#sk-container-id-9 div.sk-label label {font-family: monospace;font-weight: bold;display: inline-block;line-height: 1.2em;}#sk-container-id-9 div.sk-label-container {text-align: center;}#sk-container-id-9 div.sk-container {/* jupyter's `normalize.less` sets `[hidden] { display: none; }` but bootstrap.min.css set `[hidden] { display: none !important; }` so we also need the `!important` here to be able to override the default hidden behavior on the sphinx rendered scikit-learn.org. See: https://github.com/scikit-learn/scikit-learn/issues/21755 */display: inline-block !important;position: relative;}#sk-container-id-9 div.sk-text-repr-fallback {display: none;}</style><div id=\"sk-container-id-9\" class=\"sk-top-container\"><div class=\"sk-text-repr-fallback\"><pre>SVC(C=1.5, class_weight=&#x27;balanced&#x27;, kernel=&#x27;linear&#x27;, random_state=123)</pre><b>In a Jupyter environment, please rerun this cell to show the HTML representation or trust the notebook. <br />On GitHub, the HTML representation is unable to render, please try loading this page with nbviewer.org.</b></div><div class=\"sk-container\" hidden><div class=\"sk-item\"><div class=\"sk-estimator sk-toggleable\"><input class=\"sk-toggleable__control sk-hidden--visually\" id=\"sk-estimator-id-9\" type=\"checkbox\" checked><label for=\"sk-estimator-id-9\" class=\"sk-toggleable__label sk-toggleable__label-arrow\">SVC</label><div class=\"sk-toggleable__content\"><pre>SVC(C=1.5, class_weight=&#x27;balanced&#x27;, kernel=&#x27;linear&#x27;, random_state=123)</pre></div></div></div></div></div>"
            ],
            "text/plain": [
              "SVC(C=1.5, class_weight='balanced', kernel='linear', random_state=123)"
            ]
          },
          "execution_count": 70,
          "metadata": {},
          "output_type": "execute_result"
        }
      ],
      "source": [
        "from sklearn.svm import SVC\n",
        "X_train_modelo5_2=X_train_base2\n",
        "X_test_modelo5_2=X_test_base2\n",
        "svm_model = SVC(C = 1.5, kernel = 'linear', class_weight = 'balanced', max_iter =-1, random_state=123)\n",
        "svm_model.fit(X_train_modelo5_2, y_train)"
      ]
    },
    {
      "cell_type": "code",
      "execution_count": 71,
      "metadata": {},
      "outputs": [
        {
          "name": "stdout",
          "output_type": "stream",
          "text": [
            "Train - Accuracy : 0.7417800453514739\n",
            "Train - classification report:\n",
            "               precision    recall  f1-score   support\n",
            "\n",
            "           0       0.95      0.74      0.83      2973\n",
            "           1       0.35      0.77      0.49       555\n",
            "\n",
            "    accuracy                           0.74      3528\n",
            "   macro avg       0.65      0.76      0.66      3528\n",
            "weighted avg       0.85      0.74      0.77      3528\n",
            "\n",
            "Test - Accuracy : 0.7029478458049887\n",
            "Test - classification report :               precision    recall  f1-score   support\n",
            "\n",
            "           0       0.92      0.70      0.79       726\n",
            "           1       0.34      0.74      0.47       156\n",
            "\n",
            "    accuracy                           0.70       882\n",
            "   macro avg       0.63      0.72      0.63       882\n",
            "weighted avg       0.82      0.70      0.74       882\n",
            "\n"
          ]
        }
      ],
      "source": [
        "print (\"Train - Accuracy :\", metrics.accuracy_score(y_train, svm_model.predict(X_train_modelo5_2)))\n",
        "print (\"Train - classification report:\\n\", metrics.classification_report(y_train, svm_model.predict(X_train_modelo5_2)))\n",
        "print (\"Test - Accuracy :\", metrics.accuracy_score(y_test, svm_model.predict(X_test_modelo5_2)))\n",
        "print (\"Test - classification report :\", metrics.classification_report(y_test, svm_model.predict(X_test_modelo5_2)))"
      ]
    },
    {
      "cell_type": "code",
      "execution_count": 120,
      "metadata": {},
      "outputs": [
        {
          "data": {
            "image/png": "[encoded data removed]",
            "text/plain": [
              "<Figure size 640x480 with 2 Axes>"
            ]
          },
          "metadata": {},
          "output_type": "display_data"
        }
      ],
      "source": [
        "from sklearn.metrics import confusion_matrix, ConfusionMatrixDisplay\n",
        "cm1= confusion_matrix(y_test, svm_model.predict(X_test_modelo5_2))\n",
        "cm1_display = ConfusionMatrixDisplay(confusion_matrix = cm1, display_labels=['No renuncia', 'renuncia'])\n",
        "cm1_display.plot()\n",
        "plt.show()"
      ]
    },
    {
      "cell_type": "markdown",
      "metadata": {},
      "source": [
        "# CONCLUSIONES"
      ]
    },
    {
      "cell_type": "markdown",
      "metadata": {},
      "source": [
        "![Alt text](<WhatsApp Image 2023-09-25 at 5.21.12 PM.jpeg>)"
      ]
    }
  ],
  "metadata": {
    "colab": {
      "collapsed_sections": [
        "AE_s_x4ndroU",
        "Q0Ny3_tPeGw_",
        "UaAorFM4qkyl",
        "NOH13MOC_FzW",
        "hRrN0e3Hq04c",
        "iraJL-3XtR_w",
        "DkwfO7dkdMwi",
        "Ael2IrSRaaOk",
        "0wRqC_otq-sN",
        "CVBRc0FxneE8",
        "ZmT8HaT2r2tV",
        "Wj9QmDNRq2ck",
        "rVMtFs0Dqd2e",
        "y_vpHkDcqKFE",
        "QdzIljkonkkg",
        "7AVgbsePRhUM",
        "FMdvnBsDZCuO",
        "sT9pPlt6Z0Rf",
        "ge1zAvh7aVPb",
        "NDimhCNEbohO",
        "wF_sskr4br_t"
      ],
      "include_colab_link": true,
      "provenance": []
    },
    "kernelspec": {
      "display_name": "Python 3",
      "name": "python3"
    },
    "language_info": {
      "codemirror_mode": {
        "name": "ipython",
        "version": 3
      },
      "file_extension": ".py",
      "mimetype": "text/x-python",
      "name": "python",
      "nbconvert_exporter": "python",
      "pygments_lexer": "ipython3",
      "version": "3.10.9"
    }
  },
  "nbformat": 4,
  "nbformat_minor": 0
}
